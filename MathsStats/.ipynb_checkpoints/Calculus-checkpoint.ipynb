{
 "cells": [
  {
   "cell_type": "markdown",
   "metadata": {
    "collapsed": true
   },
   "source": [
    "<h2>Calculus</h2>\n"
   ]
  },
  {
   "cell_type": "markdown",
   "metadata": {},
   "source": [
    "<h4>Q:What is differentiation and integration?</h4>\n",
    "\n",
    "\n",
    "Ans:\n",
    "\n",
    "* Differentiation is used to find how much something changes. For example, if you have a function which tells you how fast a car is going a certain time after it sets off, differentiation can tell you its acceleration. The result of differentiation is known as a derivative.\n",
    "\n",
    "* Integration is the inverse of differentiation. Given the function described above, it could be used to find the distance the car travelled over a certain period of time."
   ]
  },
  {
   "cell_type": "markdown",
   "metadata": {},
   "source": [
    "<h4>Q: How would you interpret the formula below this chart?</h4>\n",
    "\n",
    "<img src=\"img/calculus/img2.png\" height=\"100\" width=\"200\">\n",
    "\n",
    "Ans: The probabilty of x being between a and b is given by adding up (integrating) the probability at every point of the differential curve between a and b"
   ]
  },
  {
   "cell_type": "markdown",
   "metadata": {},
   "source": [
    "<b> How would you differentiate $f(x) = dx^2$"
   ]
  },
  {
   "cell_type": "markdown",
   "metadata": {},
   "source": [
    "<b> How would you intergrate it $f(x) = dx^2$"
   ]
  },
  {
   "cell_type": "markdown",
   "metadata": {
    "collapsed": true
   },
   "source": [
    "<h4>Q: What is a derivative? What is the derivative of f(x) = x$^2$ </h4>\n",
    "1) Derviative = angle at a single point on a curve (kinda like a single point in time)\n",
    "2) Only way to measure that is zoom in and look at a very tiny portion of that curve\n",
    "\n",
    "<img src=\"img/calculus/slope-dy-dx.gif\" width=\"150\">\n",
    "\n",
    "3) The derivative can be calculated as the $\\frac{change \\ in \\ y}{change \\ in \\ x}$ so if y moved by 5, when x moved by 1 then the derivative (slope) would be 5/1.\n",
    "\n",
    "4) Now instead of co-ordinates, x & y could be input x, and transformation of that x into an output f(x). In this case you can say the derivative of the curve at any point is \n",
    "\n",
    "$\\frac{change \\ in \\ f(x)}{change \\ in \\ x}$ = $\\frac{df}{dx}$ =  $\\frac {(f(x) + change \\ in \\ x) - f(x))}{change \\ in \\ x}$ = $\\frac {(f(x) + \\delta) - f(x))}{\\delta}$ \n",
    "\n",
    "Note: The $\\delta$ sign is used to denote 'change'\n",
    "\n",
    "5) When doing this with actual functions, say f(x) = x$^2$  , inserting into the above formula and re-arranging it would lead to the derivative of $x^2$ being 2x (note, this describes the derivative at any point in the curve)\n",
    "\n",
    "6) There are common rules of thumbs that help figure out what the derivative of a f(x) is. The one used here is the power rule. Deriviative of $x^n = nx^{n-1}$ \n",
    "\n",
    "7) Imagine there is a 1 infront of the x to begin with, so $1x^n = n1x^{-n}$ -- helps later with Second derviatives)\n",
    "\n",
    "Ref: \n",
    "1. https://www.mathsisfun.com/calculus/derivatives-rules.html\n",
    "2. https://www.mathsisfun.com/calculus/derivatives-introduction.html\n",
    "---------------------"
   ]
  },
  {
   "cell_type": "markdown",
   "metadata": {},
   "source": [
    "<h4> Q: What is the derivative of $x^3$? </h4>\n",
    "Ans: $2x^2$ (Power rule)"
   ]
  },
  {
   "cell_type": "markdown",
   "metadata": {},
   "source": [
    "<h4> Q: What is a second derviative? What is the second derivativeof $x^3$?</h4>\n",
    "\n",
    "Ans: Where as a derviative measures the rate of change, a second derivative measures the rate of change of the rate of change. On a graph this would be measure the curvature of the curve.\n",
    "\n",
    "$$ \\frac {d^2f}{dx^2} = \\frac{\\frac{df}{dx} (x + \\delta) - \\frac{df}{dx}(x)}{\\delta} = f''(x)$$\n",
    "\n",
    "To find the derivative of a function, you derive it twice\n",
    "\n",
    "Example: f(x) = x$^3$\n",
    "\n",
    "1) Derivative is f'(x) = 3$x^2$\n",
    "\n",
    "2) Derivative of Derivative, f''(x) = 6x \n",
    "\n",
    "Note:\n",
    "THe functions and derivatives here can all be classed as a polynomial."
   ]
  },
  {
   "cell_type": "markdown",
   "metadata": {
    "collapsed": true
   },
   "source": [
    "<h4> What is a polynomial</h4>\n",
    "Ans: A polynomial is an expression consisting of variables and coefficients which only employs the operations of addition, subtraction, multiplication, and non-negative integer exponents. An example of a polynomial of a single variable x is $x^2 − 4x + 7$. An example in three variables is $x^3 + 2xyz^2 − yz + 1.$\n",
    "\n",
    "The 'degree' of a polynomial is the highest exponent (^) it utilizes\n",
    "\n",
    "Polynomials allow a linear function to add on additional layers of complexity as shown below:\n",
    "\n",
    "<img src=\"img/polynomials.jpg\" height=\"200\" width=\"400\">\n",
    "\n",
    "Recommended viewing: https://www.khanacademy.org/math/calculus-home/series-calc/taylor-series-calc/v/maclauren-and-taylor-series-intuition"
   ]
  },
  {
   "cell_type": "markdown",
   "metadata": {},
   "source": [
    "<h4>What is the Taylor series and why is it important?</h4>\n",
    "\n",
    "Ans:\n",
    "\n",
    "1) The Taylor series is the idea that you can rewrite any smooth function (one who's shape can be described by a single formula) into a series of simpler \"generaized\" polynomials . Since (almost) all functions you encounter have a Taylor series, all functions can be thought of as \"generalized\" polynomials!\n",
    "\n",
    "2) For example we can write a function as a power series with center $x_0$ \n",
    "\n",
    "3) Highly recommend viewing this: http://www.mathsisfun.com/algebra/taylor-series.html\n",
    "\n",
    "\n",
    "4) Power series are easy to differentiate and integrate. No more techniques of integration, if one is satisfied with writing an integral as a power series!\n",
    "\n",
    "5) In finding integrals and solving differential equations, one often faces the problem that the solutions can't be \"found\", just because they do not have a name, i.e., they cannot be written down by combining the familiar function names and the familiar mathematical notation. The error function tex2html_wrap_inline159 and the functions describing the motion of a \"simple\" pendulum are important examples. Power series open the door to explore even functions like these! \n",
    "\n"
   ]
  },
  {
   "cell_type": "code",
   "execution_count": null,
   "metadata": {
    "collapsed": true
   },
   "outputs": [],
   "source": []
  }
 ],
 "metadata": {
  "anaconda-cloud": {},
  "kernelspec": {
   "display_name": "Python [Root]",
   "language": "python",
   "name": "Python [Root]"
  },
  "language_info": {
   "codemirror_mode": {
    "name": "ipython",
    "version": 3
   },
   "file_extension": ".py",
   "mimetype": "text/x-python",
   "name": "python",
   "nbconvert_exporter": "python",
   "pygments_lexer": "ipython3",
   "version": "3.5.2"
  }
 },
 "nbformat": 4,
 "nbformat_minor": 0
}
