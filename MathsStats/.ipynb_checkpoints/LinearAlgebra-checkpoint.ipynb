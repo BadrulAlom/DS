{
 "cells": [
  {
   "cell_type": "markdown",
   "metadata": {},
   "source": [
    "<h2>Linear Algebra</h2>\n"
   ]
  },
  {
   "cell_type": "markdown",
   "metadata": {},
   "source": [
    "<h4>What is a Euclidean vector?</h4>"
   ]
  },
  {
   "cell_type": "markdown",
   "metadata": {},
   "source": [
    "A Euclidean vector (sometimes called geometric or spatial vector) is a vector that denotes size and direction. Example:\n",
    "<br>5 mph -- this is a scalar\n",
    "<br>5 mph due East -- this is a vector and can be plotted on a chart if you use the x-axis to present East and West\n",
    "\n",
    "Vectors do not store the starting point however (i.e. the line can be anywhere on the chart).\n",
    "\n",
    "Typically in <b>Cartesian coordinates</b>, one considers primarily bound vectors. A bound vector is determined by the coordinates of the terminal point, its initial point always having the coordinates of the origin O = (0,0,0). Thus the bound vector represented by (1,0,0) is a vector of unit length pointing from the origin along the positive x-axis."
   ]
  },
  {
   "cell_type": "markdown",
   "metadata": {},
   "source": [
    "<h4>Q: What is a scalar product?</h4>\n",
    "Ans: A scalar product, also known as the dot product, is is an algebraic operation that takes two equal-sized vectors (usually coordinate vectors) and returns a single number. This is calculated by multiplying like for like values in the vector position and then summing it up.\n",
    "\n",
    "$$w.x = \\sum_{i=1}^nw_ix_i = w^Tx = <w.x> = w.x$$\n",
    "\n",
    "Note:\n",
    "1. The many different notations here -- bloody annoying!\n",
    "2. Given the rules of matrix multiplication, we cannot multiply two vectors when they are both viewed as column matrices. Hence why we transpose one.\n",
    "\n",
    "---------------"
   ]
  },
  {
   "cell_type": "markdown",
   "metadata": {},
   "source": [
    "<h4>What is a norm?</h4>\n",
    "Norms are ways in which the length of vectors can be measured. So in a vector such as (10,15), the $L^2$ Norm would be:\n",
    "\n",
    "$\\sqrt{( 10^2 + 15^2 )}$<br>\n",
    "\n",
    "= $\\sqrt{(\\sum_{i=1}^n({x_i}^2)} = \\left|x\\right|^2$\n",
    "\n",
    "1) This equates to a scalar product of itself: $x^Tx$\n",
    "<br>2) This is the norm function in Matlab\n",
    "\n",
    "Ref: https://rorasa.wordpress.com/2012/05/13/l0-norm-l1-norm-l2-norm-l-infinity-norm/\n",
    "\n",
    "-----------"
   ]
  },
  {
   "cell_type": "markdown",
   "metadata": {},
   "source": [
    "<h4>Q: What is a unit vector, orthognal vectors, and an orthornormal vector?</h4>\n",
    "Ans: A unit vector is a vector of size, |x| = 1\n",
    "\n",
    "Geometrically, vectors have the property that:\n",
    "$$|w| \\ |x|  \\ cos(\\theta) = w.x $$\n",
    "where $\\theta$ is the angle between the two vectors.   \n",
    "\n",
    "Notes:\n",
    "1. When angle is 0, the scalar product is at maximum\n",
    "2. When angle is at 90 (right angle) the scalar product is 0 (Orthognal)\n",
    "3. An orthognal vector of size 1 is Orthonormal \n",
    "\n",
    "\n",
    "--------------------"
   ]
  },
  {
   "cell_type": "markdown",
   "metadata": {},
   "source": [
    "<h4>What is a symmetric matrix</h4>\n",
    "Q: When $A^T$ = A\n",
    "\n",
    "----------------"
   ]
  },
  {
   "cell_type": "markdown",
   "metadata": {},
   "source": [
    "<h4>Q: What is the determinant of a matrix</h4>\n",
    "Ans: The determinant of a matrix is a special number that can be calculated from a square matrix. In linear equations the determinant tells us things about the matrix that are useful, it also helps us find the inverse of a matrix and is useful in calculus and more. The symbol for determinant is two vertical lines either side.\n",
    "\n",
    "The determinant of \n",
    "$$\\begin{bmatrix}\n",
    "    3       & 8\\\\\n",
    "    4       & 6\n",
    "\\end{bmatrix}$$\n",
    "is 3×6 − 8×4 = 18 − 32 = −14\n",
    "\n",
    "For bigger matrices, you solve the calculate the inner ones first. See: http://www.mathsisfun.com/algebra/matrix-determinant.html\n",
    "\n",
    "--------------"
   ]
  },
  {
   "cell_type": "markdown",
   "metadata": {},
   "source": [
    "<h4>Q: How do you add Matrices?</h4>\n",
    "\n",
    "Ans: Add each like for like position together: $A_ij + B_ij$"
   ]
  },
  {
   "cell_type": "markdown",
   "metadata": {},
   "source": [
    "<h4>Q: How do you multiply matrices</h4>\n",
    "\n",
    "Multiply matching members (row of one multiplied by column of other) and sum up. \n",
    "\n",
    "Wikipedia: If A is an n × m matrix and B is an m × p matrix, their matrix product AB is an n × p matrix, in which the entries across rows of A are multiplied with the entries down the columns of B and summed to produce an entry of AB. \n",
    "\n",
    "-----------"
   ]
  },
  {
   "cell_type": "markdown",
   "metadata": {},
   "source": [
    "<h4>Q: What is the identity Matrix?</h4>\n",
    "\n",
    "The identity matrix,i, is a square matrix that has 1 on the diagnoal (top left to bottom right) and 0 eveywhere else.\n",
    "\n",
    "$$\\begin{bmatrix}\n",
    "    1 & 0 & 0\\\\\n",
    "    0 & 1 & 0\\\\\n",
    "    0 & 0 & 1\n",
    "\\end{bmatrix}$$\n",
    "\n",
    "Multiplying another matrix A with i gives you A."
   ]
  },
  {
   "cell_type": "markdown",
   "metadata": {},
   "source": [
    "<h4> Q: What is the transpose of a matrix?</h4>\n",
    "\n",
    "It's when you swap around the rows and columns, so row 2, column 3 would become row 3 column 2 for example"
   ]
  },
  {
   "cell_type": "markdown",
   "metadata": {},
   "source": []
  },
  {
   "cell_type": "markdown",
   "metadata": {},
   "source": []
  },
  {
   "cell_type": "markdown",
   "metadata": {},
   "source": []
  },
  {
   "cell_type": "markdown",
   "metadata": {},
   "source": []
  }
 ],
 "metadata": {
  "anaconda-cloud": {},
  "kernelspec": {
   "display_name": "Python [Root]",
   "language": "python",
   "name": "Python [Root]"
  },
  "language_info": {
   "codemirror_mode": {
    "name": "ipython",
    "version": 3
   },
   "file_extension": ".py",
   "mimetype": "text/x-python",
   "name": "python",
   "nbconvert_exporter": "python",
   "pygments_lexer": "ipython3",
   "version": "3.5.2"
  }
 },
 "nbformat": 4,
 "nbformat_minor": 0
}
