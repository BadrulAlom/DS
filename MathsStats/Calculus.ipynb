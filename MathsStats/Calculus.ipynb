{
 "cells": [
  {
   "cell_type": "markdown",
   "metadata": {
    "collapsed": true
   },
   "source": [
    "<h2>Calculus</h2>\n"
   ]
  },
  {
   "cell_type": "markdown",
   "metadata": {},
   "source": [
    "<h4>Q:What is differentiation and integration?</h4>\n",
    "\n",
    "\n",
    "Ans:\n",
    "\n",
    "* Differentiation is used to find how much something changes. For example, if you have a function which tells you how fast a car is going a certain time after it sets off, differentiation can tell you its acceleration. The result of differentiation is known as a derivative.\n",
    "\n",
    "* Integration is the inverse of differentiation. Given the function described above, it could be used to find the distance the car travelled over a certain period of time."
   ]
  },
  {
   "cell_type": "markdown",
   "metadata": {},
   "source": [
    "<h4>Q: How would you interpret the formula below this chart?</h4>\n",
    "\n",
    "<img src=\"img/calculus/img2.png\" height=\"100\" width=\"200\">\n",
    "\n",
    "Ans: The probabilty of x being between a and b is given by adding up (integrating) the probability at every point of the differential curve between a and b"
   ]
  },
  {
   "cell_type": "markdown",
   "metadata": {},
   "source": [
    "<b> How would you differentiate $f(x) = dx^2$"
   ]
  },
  {
   "cell_type": "markdown",
   "metadata": {},
   "source": [
    "<b> How would you intergrate it $f(x) = dx^2$"
   ]
  },
  {
   "cell_type": "markdown",
   "metadata": {
    "collapsed": true
   },
   "source": [
    "<b>Q: What is a derivative?\n",
    "The change in y over the change in x."
   ]
  },
  {
   "cell_type": "markdown",
   "metadata": {
    "collapsed": true
   },
   "source": [
    "<h4> What is a polynomial</h4>\n",
    "Ans: A polynomial is an expression consisting of variables and coefficients which only employs the operations of addition, subtraction, multiplication, and non-negative integer exponents. An example of a polynomial of a single variable x is $x^2 − 4x + 7$. An example in three variables is $x^3 + 2xyz^2 − yz + 1.$\n",
    "\n",
    "The 'degree' of a polynomial is the highest exponent (^) it utilizes\n",
    "\n",
    "Polynomials allow a linear function to add on additional layers of complexity as shown below:\n",
    "\n",
    "<img src=\"img/polynomials.jpg\" height=\"200\" width=\"400\">, "
   ]
  },
  {
   "cell_type": "markdown",
   "metadata": {},
   "source": []
  }
 ],
 "metadata": {
  "anaconda-cloud": {},
  "kernelspec": {
   "display_name": "Python [Root]",
   "language": "python",
   "name": "Python [Root]"
  },
  "language_info": {
   "codemirror_mode": {
    "name": "ipython",
    "version": 3
   },
   "file_extension": ".py",
   "mimetype": "text/x-python",
   "name": "python",
   "nbconvert_exporter": "python",
   "pygments_lexer": "ipython3",
   "version": "3.5.2"
  }
 },
 "nbformat": 4,
 "nbformat_minor": 0
}
