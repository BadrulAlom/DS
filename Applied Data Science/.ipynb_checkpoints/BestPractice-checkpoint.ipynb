{
 "cells": [
  {
   "cell_type": "markdown",
   "metadata": {
    "collapsed": true
   },
   "source": [
    "<h1 align=\"center\">Applied Data Science - Best Practice</h1>"
   ]
  },
  {
   "cell_type": "markdown",
   "metadata": {},
   "source": [
    "<a id='Load Data'></a>\n",
    "<h3 style=\"background-color:#616161;color:white\">Methodology</h3>\n",
    "\n",
    "1. <b>Create small and very small datasets: </b> Use emacs to create two smaller subsets of your data. One should be no more than 50b and one should be no more than 20 rows of data. This will allow you to build and test things quicker. Small\n",
    "\n",
    "2. Use SQLLite3 for much of the data manipulation rather than Pandas"
   ]
  },
  {
   "cell_type": "markdown",
   "metadata": {},
   "source": [
    "<h3 style=\"background-color:#616161;color:white\">Things to watch out for</h3>\n",
    "\n",
    "* Do the assumptions that you built your model on still apply in the real world or have they changed?"
   ]
  },
  {
   "cell_type": "markdown",
   "metadata": {},
   "source": []
  },
  {
   "cell_type": "code",
   "execution_count": null,
   "metadata": {
    "collapsed": true
   },
   "outputs": [],
   "source": []
  }
 ],
 "metadata": {
  "kernelspec": {
   "display_name": "Python [Root]",
   "language": "python",
   "name": "Python [Root]"
  },
  "language_info": {
   "codemirror_mode": {
    "name": "ipython",
    "version": 3
   },
   "file_extension": ".py",
   "mimetype": "text/x-python",
   "name": "python",
   "nbconvert_exporter": "python",
   "pygments_lexer": "ipython3",
   "version": "3.5.2"
  }
 },
 "nbformat": 4,
 "nbformat_minor": 0
}
