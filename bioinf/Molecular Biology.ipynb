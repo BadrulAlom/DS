{
 "cells": [
  {
   "cell_type": "markdown",
   "metadata": {
    "collapsed": true
   },
   "source": [
    "<h3>Overview</h3>\n",
    "\n",
    "One of the key differentiators between living things and other organic processes is the ability to transfer not just energy, but information. It is this process that allows organisms to reproduce from one generation to the next or to heal from injuries.\n",
    "\n",
    "A single cell contains all the information required to form an entire complex organism.\n",
    "\n",
    "----------------"
   ]
  },
  {
   "cell_type": "markdown",
   "metadata": {},
   "source": [
    "<h4>What are the two types of cells in sexually reproducing animals and plants?</h4>\n",
    "\n",
    "Ans: Germ cells (transmit generic information from parent to offspring) and Somatic cells (form the body of the organism)\n",
    "\n",
    "------------------"
   ]
  },
  {
   "cell_type": "markdown",
   "metadata": {},
   "source": [
    "<h4>Describe the structure of DNA Helix</h4>\n",
    "\n",
    "Ans:\n",
    "\n",
    "<img src=\"img/img1.png\" width=\"500\">\n",
    "\n",
    "Notes:\n",
    "\n",
    "1. Cells build new proteins from RNA (translation). RNA gets copies of the relevent portion of the DNA strand (transcription). All organic cells express their generitc information in this way.\n",
    "2. The hydrogen bonds that link base pairs are weak and hence allow DNA to be split without breakage of their backbones\n",
    "3. DNA is formed from an existing template strand (one half of the DNA) onto which a new strand is bound (other half the DNA)\n",
    "4. A gene is a region of DNA\n",
    "\n",
    "-------------------"
   ]
  },
  {
   "cell_type": "markdown",
   "metadata": {},
   "source": [
    "<h4>What are the base pairings?</h4>\n",
    "Ans:\n",
    "* A with T: the purine adenine (A) always pairs with the pyrimidine thymine (T)\n",
    "* C with G: the pyrimidine cytosine (C) always pairs with the purine guanine (G)\n"
   ]
  },
  {
   "cell_type": "markdown",
   "metadata": {},
   "source": [
    "<h4> Describe DNA replication</h4>\n",
    "Ans:\n",
    "1. DNA replication starts at a certain point of the DNA called the origin\n",
    "5. Helicase - splits the DNA into two\n",
    "6. Primase - lays down primers (RNA) to help the Polymerase.\n",
    "7. DNA Polymerase - adds DNA bases. Can only work in the 5' to 3' direction, so this means one one hald it can keep zipping forwrd and build on a continuous basis. On the other half it has to wait for enough DNA to have been separated (known as Okazaki fragments), zip backwards, then wait for more to be unzipped. It's there not as quick at building as on the continuous side.\n",
    "8. Ligase - glues DNA fragments together\n",
    "\n",
    "Essential Viewing: \n",
    "- https://www.youtube.com/watch?v=G1AoVF3k9Hg\n",
    "- https://www.youtube.com/watch?v=5qSrmeiWsuc\n",
    "\n",
    "<img src=\"img/img2.png\" width=\"600\">"
   ]
  },
  {
   "cell_type": "markdown",
   "metadata": {},
   "source": [
    "<h4>What is 5' to 3' and vice-versa?</h4>\n",
    "Ans: \n",
    "- 5 prime (5') to 3 (3') prime is a term biologists use to distinguish between the two halves of a DNA helix. Because one half of the DNA is essentially upside down to the other half, you can number each of the carbon atoms on the sugar 1,2,3,4,5.\n",
    "- The 5 prime carbon is outside the ring structure of the sugar. Depending on which side of the strand you are looking at the 5' prime will either come first in the count or last, and vice-versa for 3'.\n",
    "- DNA Polymerase can only work in the 5' to 3' (leading strand) direction\n",
    "\n",
    "-----------------"
   ]
  },
  {
   "cell_type": "markdown",
   "metadata": {
    "collapsed": true
   },
   "source": [
    "<h4>Describe the two types of cells within an animal</h4>\n",
    "\n",
    "Ans: \n",
    "\n",
    "Prokaryotic cells \n",
    "- Structurally simple, just cytosol and plasma membrane\n",
    "- Hypothesized to be precursor to Eukaryotic cells\n",
    "- E.g. Bacteria\n",
    "\n",
    "<img src=\"img/img5.png\" width=\"200\">\n",
    "\n",
    "Eukaryotic cells\n",
    "- Much more complex.\n",
    "- Cells are internally compartmentalized - contain organelles which perform specific job functions such as nucleus and mitochrondia \n",
    "\n",
    "Eukaryotic cell (general)\n",
    "<img src=\"img/img4.png\" width=\"300\">\n",
    "\n",
    "Simplified Animal Eukaryotic cell\n",
    "<img src=\"img/img6.png\" width=\"300\">"
   ]
  },
  {
   "cell_type": "markdown",
   "metadata": {},
   "source": [
    "#### Describe the membrane\n",
    "\n",
    "* A lipid/protein/carbohydrate structure that provides a barrier and containing transport and signallign systems"
   ]
  },
  {
   "cell_type": "markdown",
   "metadata": {},
   "source": [
    "#### Describe mitochondria\n",
    "\n",
    "* the main energy source of the cell\n",
    "* surrounded by a double membrane\n",
    "* contains its own DNA and is believed to have originated as an external bacterium that has developed a symbiotic relationship"
   ]
  },
  {
   "cell_type": "markdown",
   "metadata": {},
   "source": [
    "#### Describe the nucleus\n",
    "\n",
    "* Houses the chromosomal DNA which is the genetic information store\n",
    "* Surrounded by a double membrane\n",
    "* The nucleus is where RNA is synthesized"
   ]
  },
  {
   "cell_type": "markdown",
   "metadata": {},
   "source": [
    "#### Describe the Rough endoplasmic reticulum (RER)\n",
    "\n",
    "* Where most of the  ribosomes reside (causing the \"rough\" appearance). \n",
    "\n",
    "* Ribosomes: Protein and RNA complex responsible for protein synthesis. "
   ]
  },
  {
   "cell_type": "markdown",
   "metadata": {},
   "source": [
    "<h4>List 4 components of a typical human cell that would not be found in the\n",
    "cell of a prokaryote.</h4>\n",
    "\n",
    "* Mitochondria\n",
    "* RER\n",
    "* Lysosome\n",
    "* Golgi apparatus"
   ]
  },
  {
   "cell_type": "markdown",
   "metadata": {},
   "source": [
    "<h4> Describe the processes by which an amino acid sequence is ultimately\n",
    "produced from an activated human gene. Name the important components of\n",
    "the processes and any organelles involved.</h4>"
   ]
  },
  {
   "cell_type": "markdown",
   "metadata": {},
   "source": [
    "<h4> Describe how DNA is packaged? </h4>\n",
    "\n",
    "<img src=\"img/img7.png\" width=\"300\">"
   ]
  },
  {
   "cell_type": "markdown",
   "metadata": {},
   "source": [
    "#### How many chromosomes are there in the human genome?\n",
    "\n",
    "24 (1-22 + x & y)\n",
    "\n",
    "---------------"
   ]
  },
  {
   "cell_type": "markdown",
   "metadata": {},
   "source": [
    "#### What is the main dogma of molecular biology?\n",
    "\n",
    "* DNA makes RNA makes Protein\n",
    "* The expression of genetic information stored in DNA involves, first transcription into RNA and then translation into the functional protein\n",
    "molecules, in which the amino acid sequence is determined by the nucleotide sequence of the\n",
    "DNA.\n",
    "\n",
    "---------------"
   ]
  },
  {
   "cell_type": "markdown",
   "metadata": {},
   "source": [
    "<h4>Name the mechanism by which a single gene can encode multiple different\n",
    "proteins, and explain the process using simple diagrams.</h4>\n",
    "\n",
    "Ans: Transcription and Translation\n",
    "\n",
    "<img src=\"img/img8.png\" width=\"200\">\n",
    "\n",
    "<img src=\"img/img10.png\" width=\"200\">\n",
    "\n",
    "* DNA synthesizes RNA through transcription\n",
    "\n",
    "    1) Initiation – the RNA polymerase enzyme binds to a promoter site\n",
    "on the DNA and unzips the double helix.\n",
    "\n",
    "    2) Elongation – free nucleotides bind to their complementary pairs on\n",
    "the template strand of the DNA elongating the RNA chain which is\n",
    "identical to the informational strand of DNA, except that the\n",
    "nucleotide thymine in DNA is replaced by uracil in RNA. The\n",
    "polymerase moves along the DNA in the 3’ to 5’ direction,\n",
    "extending the RNA 5’ to 3’.\n",
    "\n",
    "    3) Termination – specific sequences in the DNA signal termination of\n",
    "transcription; when one of these is encountered by the polymerase, the RNA transcript is released from the DNA and the double helix can zip up again\n",
    "\n",
    "\n",
    "* RNA synthesizes Protein through translation\n",
    "    - Special molecules called transfer RNAs (tRNAs) recognise both an amino acid and a triplet of nucleotides (a codon).\n",
    "\n",
    "    - The tRNA molecule has an anticodon on one end which\n",
    "binds to a codon on the mRNA and to a specific amino\n",
    "acid on the other end. It thus enforces the genetic code in\n",
    "which a codon codes for a specific amino acid.\n",
    "\n",
    "    - Protein synthesis takes place on the ribosomes. The tRNAs\n",
    "position themselves for reading the genetic message in\n",
    "the mRNA. The first tRNA binds to a start codon (AUG) on\n",
    "the mRNA and then each tRNA adds an amino acid to a\n",
    "growing polypeptide (protein) chain.\n",
    "\n",
    "<img src=\"img/img11.png\" width=\"200\">\n",
    "\n",
    "Other notes:\n",
    "* The approriate part of the DNA is first copied into RNA using start and stop markers\n",
    "\n",
    "* mRNA genetic information is in the sequence of nucleotides, which are arranged into codons consisting of three base pairs each. Each codon encodes for a specific amino acid, except the stop codons, which terminate protein synthesis. \n",
    "\n",
    "* This process of translation of codons into amino acids requires two other types of RNA: Transfer RNA (tRNA), that mediates recognition of the codon and provides the corresponding amino acid, and ribosomal RNA (rRNA), that is the central component of the ribosome's protein-manufacturing machinery.\n",
    "\n",
    "<img src=\"img/img12.png\" width=\"200\">\n",
    "\n",
    "---------------"
   ]
  },
  {
   "cell_type": "markdown",
   "metadata": {
    "collapsed": true
   },
   "source": [
    "#### What is a gene?\n",
    "\n",
    "* A region of DNA that controls a discrete hereditary characteristic, usually corresponding to a single mRNA\n",
    "\n",
    "* In eukaryotes, the genes have their coding sequences (exons) interrupted by non-coding\n",
    "sequences (introns).\n",
    "\n",
    "* In humans, genes constitute only about 2-3% of\n",
    "DNA, the rest is “junk” DNA.\n",
    "\n",
    "------------"
   ]
  },
  {
   "cell_type": "markdown",
   "metadata": {
    "collapsed": true
   },
   "source": [
    "#### What is an Intron and an Exon?\n",
    "\n",
    "* Intro: The non-coding region of a gene\n",
    "* Exon: The coding region of the gene\n",
    "\n",
    "------------"
   ]
  },
  {
   "cell_type": "markdown",
   "metadata": {
    "collapsed": true
   },
   "source": [
    "#### What is RNA?\n",
    "\n",
    "* Like DNA but the sugar-phosphate backbone has a different sugar: ribose instead of deoxyribose\n",
    "\n",
    "* DNA has the nucleobase T (thymine), RNA has U (uracil)\n",
    "\n",
    "* RNA is almost always single stranded\n",
    "\n",
    "* RNA comes in diffent forms:\n",
    "    - Messenger RNA (mRNA) is transcribed from DNA and\n",
    "translated into protein.\n",
    "\n",
    "    - Transfer RNA (tRNA) is a functional molecule used in the process of translation (see later).\n",
    "    \n",
    "------------"
   ]
  },
  {
   "cell_type": "markdown",
   "metadata": {
    "collapsed": true
   },
   "source": [
    "#### What is splicing?\n",
    "\n",
    "* The original transcription from the DNA gives heavy nuclear RNA (hnRNA). It\n",
    "contains transcripts of both introns and exons. The introns are removed by a process\n",
    "called splicing to produce messenger RNA (mRNA) and the ends of the RNA\n",
    "molecule are processed.\n",
    "\n",
    "* One gene can be spliced in multiple ways (different exon combinations) to\n",
    "produce multiple gene products – this is called alternative splicing. This means\n",
    "that one gene can code for many proteins.\n",
    "\n",
    "------------"
   ]
  },
  {
   "cell_type": "markdown",
   "metadata": {
    "collapsed": true
   },
   "source": [
    "#### Question template?\n",
    "\n",
    "* Ans\n",
    "\n",
    "------------"
   ]
  },
  {
   "cell_type": "markdown",
   "metadata": {
    "collapsed": true
   },
   "source": [
    "#### Name all of the proteins and their properties\n",
    "\n",
    "- Alanine - A: Tiny, Hydrophobic\n",
    "- Cystenine - C: Tiny Polar and Small Hydrophobic \n",
    "- Phenylananine - F: Hydrophobic, Aromatic\n",
    "- Glycine - G: Tiny, Hydrophobic\n",
    "- Isoleucine - I: Alpihatic, Hydrophobic\n",
    "- Leucine - L:  Alpihatic, Hydrophobic\n",
    "- Methonine - M: Hydrophobic\n",
    "- Valine V: Small, Aliphatic, Hydrophobic\n",
    "\n",
    "\n",
    "- Aspartic AciD - D: Small, Negative, Charged, Polar\n",
    "- Glutamic Acid - E: Negative, Charged, Polar\n",
    "- AspargiNe - N: Small Polar\n",
    "- Glutamine - Q: Polar\n",
    "- ARginine - R: Positive, Charged, Polar\n",
    "- Serine - S: Tiny, Polar\n",
    "\n",
    "\n",
    "- Histidine - H: Positive, Charged, Hydropohbic, Polar\n",
    "- Lysine - K: Postive, Charged, Polar, Hydrophobic\n",
    "- Thereonine - T: Small, Hydrophobic & Polar\n",
    "- Tryptophan - W: Aromatic, Hydropohbic, Polar\n",
    "- Tyrosine - Y: Aromatic, Hydrophobic, Polar\n",
    "\n",
    "- Proline - P: Small\n",
    "\n",
    "\n",
    "<img src=\"img/img13.png\" width=\"800\">\n",
    "\n",
    "------------"
   ]
  },
  {
   "cell_type": "markdown",
   "metadata": {},
   "source": [
    "<h4>Describe the classic Sanger DNA sequencing method, including the names\n",
    "of any reagents used. Briefly explain how the method can be adapted to\n",
    "sequence longer stretches of DNA.</h4>\n",
    "\n",
    "Ans:\n",
    "\n",
    "---------------"
   ]
  }
 ],
 "metadata": {
  "anaconda-cloud": {},
  "kernelspec": {
   "display_name": "Python [Root]",
   "language": "python",
   "name": "Python [Root]"
  },
  "language_info": {
   "codemirror_mode": {
    "name": "ipython",
    "version": 3
   },
   "file_extension": ".py",
   "mimetype": "text/x-python",
   "name": "python",
   "nbconvert_exporter": "python",
   "pygments_lexer": "ipython3",
   "version": "3.5.2"
  }
 },
 "nbformat": 4,
 "nbformat_minor": 0
}
