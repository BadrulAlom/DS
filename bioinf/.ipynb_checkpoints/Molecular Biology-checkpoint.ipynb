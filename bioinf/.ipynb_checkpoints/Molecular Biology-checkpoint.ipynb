{
 "cells": [
  {
   "cell_type": "markdown",
   "metadata": {
    "collapsed": true
   },
   "source": [
    "<h4>Overview</h4>\n",
    "\n",
    "One of the key differentiators between living things and other organic processes is the ability to transfer not just energy, but information. It is this process that allows organisms to reproduce from one generation to the next or to heal from injuries.\n",
    "\n",
    "A single cell contains all the information required to form an entire complex organism.\n",
    "\n",
    "----------------"
   ]
  },
  {
   "cell_type": "markdown",
   "metadata": {},
   "source": [
    "<h4>What are the two types of cells in sexually reproducing animals and plants?</h4>\n",
    "\n",
    "Ans: Germ cells (transmit generic information from parent to offspring) and Somatic cells (form the body of the organism)\n",
    "\n",
    "------------------"
   ]
  },
  {
   "cell_type": "markdown",
   "metadata": {},
   "source": [
    "<h4>Describe the structure of DNA Helix</h4>\n",
    "\n",
    "Ans:\n",
    "\n",
    "<img src=\"img/img1.png\" width=\"600\">\n",
    "\n",
    "Notes:\n",
    "\n",
    "1. Cells build new proteins from RNA (translation). RNA gets copies of the relevent portion of the DNA strand (transcription). All organic cells express their generitc information in this way.\n",
    "2. The hydrogen bonds that link base pairs are weak and hence allow DNA to be split without breakage of their backbones\n",
    "3. DNA is formed from an existing template strand (one half of the DNA) onto which a new strand is bound (other half the DNA)\n",
    "4. A gene is a region of DNA\n",
    "\n",
    "-------------------"
   ]
  },
  {
   "cell_type": "markdown",
   "metadata": {},
   "source": [
    "<h4>What is 5' to 3' and vice-versa?</h4>\n",
    "Ans: \n",
    "- 5 prime (5') to 3 (3') prime is a term biologists use to distinguish between the two halves of a DNA helix. Because one half of the DNA is essentially upside down to the other half, you can number each of the carbon atoms on the sugar 1,2,3,4,5.\n",
    "- The 5 prime carbon is outside the ring structure of the sugar. Depending on which side of the strand you are looking at the 5' prime will either come first in the count or last, and vice-versa for 3'.\n",
    "- DNA Polymerase can only work in the 5' to 3' (leading strand) direction\n",
    "\n",
    "Ref: \n",
    "- https://www.youtube.com/watch?v=G1AoVF3k9Hg\n",
    "- https://www.youtube.com/watch?v=5qSrmeiWsuc\n",
    "\n",
    "-----------------"
   ]
  },
  {
   "cell_type": "markdown",
   "metadata": {},
   "source": [
    "<h4> Describe DNA replication</h4>\n",
    "Ans:\n",
    "1. DNA replication starts at a certain point of the DNA called the origin\n",
    "5. Helicase - splits the DNA into two\n",
    "6. Primase - lays down primers (RNA) to help the Polymerase.\n",
    "7. DNA Polymerase - adds DNA bases. Can only work in the 5' to 3' direction, so this means one one hald it can keep zipping forwrd and build on a continuous basis. On the other half it has to wait for enough DNA to have been separated (known as Okazaki fragments), zip backwards, then wait for more to be unzipped. It's there not as quick at building as on the continuous side.\n",
    "8. Ligase - glues DNA fragments together\n",
    "\n",
    "<img src=\"img/img2.png\" width=\"600\">"
   ]
  },
  {
   "cell_type": "code",
   "execution_count": null,
   "metadata": {
    "collapsed": true
   },
   "outputs": [],
   "source": []
  }
 ],
 "metadata": {
  "anaconda-cloud": {},
  "kernelspec": {
   "display_name": "Python [Root]",
   "language": "python",
   "name": "Python [Root]"
  },
  "language_info": {
   "codemirror_mode": {
    "name": "ipython",
    "version": 3
   },
   "file_extension": ".py",
   "mimetype": "text/x-python",
   "name": "python",
   "nbconvert_exporter": "python",
   "pygments_lexer": "ipython3",
   "version": "3.5.2"
  }
 },
 "nbformat": 4,
 "nbformat_minor": 0
}
