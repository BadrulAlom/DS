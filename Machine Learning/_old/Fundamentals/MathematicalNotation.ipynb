{
 "cells": [
  {
   "cell_type": "markdown",
   "metadata": {},
   "source": [
    "<h2> Mathematical Notations and symbols</h2>\n",
    "When studying data science you will come across mathematical notation that you may not be familar with. Here is a list of any notation and symbols that I think are useful to know. Memorizing these will give you a significant boost to understanding the maths behind machine learning.\n",
    "\n",
    "This page will be incrementally added to over-time whenever I come across something worth noting."
   ]
  },
  {
   "cell_type": "markdown",
   "metadata": {},
   "source": [
    "<h4>Q:What do the following mathematical symbols represent? (in no particular order)<h4>\n",
    "\n",
    "1) $ \\vec{V}$\n",
    "\n",
    "\n",
    "2) $ \\langle V \\rangle  \\langle W \\rangle$\n",
    "\n",
    "\n",
    "3) $\\equiv$\n",
    "\n",
    "\n",
    "4) $\\prod$\n",
    "\n",
    "\n",
    "5) $n!$\n",
    "\n",
    "6) $E(x)$\n",
    "\n",
    "\n",
    "7) $\\triangleq$\n",
    "\n",
    "8) $\\bigg(\\frac{n}k \\bigg)$\n"
   ]
  },
  {
   "cell_type": "markdown",
   "metadata": {},
   "source": [
    "<h4>Ans:</h4>\n",
    "1) Vector\n",
    "\n",
    "\n",
    "2) Dot Product (multiply each inner value of a vector,V, with its corresponding value in W ). Same as V.*W in Matlab.\n",
    "\n",
    "\n",
    "3) 'is equivalent to'\n",
    "\n",
    "\n",
    "4) 'Product of' (like 'Sum of' $\\sum$ but multiplying instead of sum) \n",
    "\n",
    "\n",
    "5) 'N factorial', the number 'n' multiplied by every number below it down to 1 (e.g. $3! = 3*2*1$)\n",
    "\n",
    "6) E(x) In probability and statistics, the expectation or expected value, is the weighted average value of a random variable.<br>\n",
    "\n",
    "7) 'by definition'\n",
    "\n",
    "8) Shorthand for $\\frac{n!}{k!(n-k)!}$ i.e. the formula for working out combinations. Used for binomial probability."
   ]
  },
  {
   "cell_type": "markdown",
   "metadata": {},
   "source": [
    "<h4> What is $\\left \\| x \\right \\|_1$</h4>\n",
    "\n",
    "<h4>Ans:</h4>\n",
    "This is the L1 norm. Norms are ways in which the length of vectors can be quantified. The easiest way to understand the need for a norm is asking yourself how you compare which is larger 10 vs. 20 (or [10] versus [20] in vector format).\n",
    "\n",
    "Now ask yourself which is larger [10,10] or [10,20]. Whatever logic you used in your head to determine which is larger is an example of a 'norm'.\n",
    "\n",
    "There are different types of standard norms: L0,L1,L2,L3 of which L1 and L2 are the ones worth knowing about. For others see here: https://rorasa.wordpress.com/2012/05/13/l0-norm-l1-norm-l2-norm-l-infinity-norm/\n",
    "\n",
    "L1: $\\left \\| x \\right \\|_1 = \\sum_{i} \\left | x_i \\right |$ \n",
    "\n",
    "i.e. sum up all the values\n",
    "\n",
    "L2: $\\left \\| x \\right \\|_2 = \\sqrt{\\sum_{i}x_i^2}$ \n",
    "\n",
    "Square the values, sum it up, then square root it. One of the most popular norms but not without its flaws (namely [5] and [-5] would give you the ame result).  The norm function in Matlab uses the L2 norm.\n"
   ]
  },
  {
   "cell_type": "markdown",
   "metadata": {},
   "source": [
    "<h4>What is a tuple?</h4>\n",
    "\n",
    "<h4>Ans:</h4>\n",
    "Just means an ordered list of items. E.g. [1,2,3] is a tuple.\n",
    "\n",
    "A more thorough Wikipedia explanation is:\n",
    "A tuple is a finite ordered list of elements. In mathematics, an n-tuple is a sequence (or ordered list) of n elements, where n is a non-negative integer. There is only one 0-tuple, an empty sequence. An n-tuple is defined inductively using the construction of an ordered pair. Tuples are usually written by listing the elements within parentheses \" ${\\displaystyle ({\\text{ }})} (\\text{ })$\" and separated by commas; for example, $(2, 7, 4, 1, 7)$ denotes a 5-tuple. Sometimes other symbols are used to surround the elements, such as square brackets [ ] or angle brackets < >. Braces { } are only used in defining arrays in some programming languages such as Java, but not in mathematical expressions, as they are the standard notation for sets. Tuples are often used to describe other mathematical objects, such as vectors."
   ]
  },
  {
   "cell_type": "code",
   "execution_count": null,
   "metadata": {
    "collapsed": true
   },
   "outputs": [],
   "source": []
  }
 ],
 "metadata": {
  "anaconda-cloud": {},
  "kernelspec": {
   "display_name": "Python [Root]",
   "language": "python",
   "name": "Python [Root]"
  },
  "language_info": {
   "codemirror_mode": {
    "name": "ipython",
    "version": 3
   },
   "file_extension": ".py",
   "mimetype": "text/x-python",
   "name": "python",
   "nbconvert_exporter": "python",
   "pygments_lexer": "ipython3",
   "version": "3.5.2"
  }
 },
 "nbformat": 4,
 "nbformat_minor": 0
}
