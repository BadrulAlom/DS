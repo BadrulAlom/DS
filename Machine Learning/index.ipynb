{
 "cells": [
  {
   "cell_type": "markdown",
   "metadata": {},
   "source": [
    "<h1>Data Science Maths & Stats fundamentals</h1>\n",
    "\n",
    "These pages will focus on basic and advanced maths and stats knowledge.\n",
    "You'll notice that the pages explain things in Q&A format. This is to allow one to memorize the content by testing their knowledge in little bite-sized pieces each day.\n",
    "\n",
    "\n",
    "[Mathematical Notation](MathematicalNotation.ipynb)<br>\n",
    "\n",
    "[Linear Algebra](LinearAlgebra.ipynb)<br>\n",
    "\n",
    "[Calculus](Calculus.ipynb)<br>\n",
    "\n",
    "[Frequentist Statistics](FrequentistStats.ipynb)<br>\n",
    "\n",
    "[Bayesian Statistics](BayesianStats.ipynb)<br>\n",
    "\n"
   ]
  },
  {
   "cell_type": "code",
   "execution_count": null,
   "metadata": {
    "collapsed": true
   },
   "outputs": [],
   "source": [
    " "
   ]
  }
 ],
 "metadata": {
  "anaconda-cloud": {},
  "kernelspec": {
   "display_name": "Python [Root]",
   "language": "python",
   "name": "Python [Root]"
  },
  "language_info": {
   "codemirror_mode": {
    "name": "ipython",
    "version": 3
   },
   "file_extension": ".py",
   "mimetype": "text/x-python",
   "name": "python",
   "nbconvert_exporter": "python",
   "pygments_lexer": "ipython3",
   "version": "3.5.2"
  }
 },
 "nbformat": 4,
 "nbformat_minor": 0
}
