{
 "cells": [
  {
   "cell_type": "markdown",
   "metadata": {
    "deletable": true,
    "editable": true
   },
   "source": [
    "<h1>Data Science Maths & Stats fundamentals</h1>\n",
    "\n",
    "These pages will focus on basic and advanced maths and stats knowledge.\n",
    "You'll notice that the pages explain things in Q&A format. This is to allow one to memorize the content by testing their knowledge in little bite-sized pieces each day.\n",
    "\n",
    "\n",
    "<br><b>[0. Maths Pre-requisites</b>](#PreReq)\n",
    "<br><b>\n",
    "[Mathematical Notation](MathematicalNotation.ipynb)<br>\n",
    "\n",
    "[Linear Algebra](LinearAlgebra.ipynb)<br>\n",
    "\n",
    "[Calculus](Calculus.ipynb)<br>\n",
    "\n",
    "[Frequentist Statistics](FrequentistStats.ipynb)<br>\n",
    "\n",
    "[Bayesian Statistics](BayesianStats.ipynb)<br>\n",
    "\n",
    "<br>[<b>1. Linear Regression</b>](#Linear Regression)\n",
    "<br>[Least Squares Loss](#Loss)\n",
    "<br>[Auto Regressive Models](#Loss)\n",
    "<br>[Radial Basis Functions](#Radial)\n",
    "\n",
    "<br>[<b>2. Clustering and Classification</b>](#Clustering)\n",
    "<br>[K-NN](#KNN)\n",
    "<br>[Maximum Liklihood](#MaxLiklihood)\n",
    "<br>[Naieve Bayes](#NaieveBayes)\n",
    "<br>[SVMs](#SVM)\n",
    "<br>[Decision Trees](#DecisionTrees)\n",
    "<br>[Mixture Models](#MixtureModels)\n",
    "\n",
    "<br>[<b>3. Optimization</b>](#Optimization)\n",
    "<br>[Gradient Descent](#Gradient Descent)\n",
    "<br>[Line search & conjugate gradients](#ConjugateGradients)\n",
    "<br>[Higher order methods](#HigherOrder)\n",
    "\n",
    "<br>[<b>4. Large Scale Problems</b>](#LargeScale)\n",
    "<br>[Stochastic Gradient Descent](#SGD)\n",
    "<br>[Sparsity](#SGD)\n",
    "<br>[Batch vs Online](#BatchOnline)\n",
    "\n",
    "<br>[<b>5. Preprocessing & Dimensionality Reduction</b>](#Dimensionality Reduction)\n",
    "<br>[PCA](#PCA)\n",
    "<br>[Non-Negative Matrix Factorization](#MF)\n",
    "<br>[ICA](#ICA)\n",
    "<br>[Fishers Linear Discrimnate & Canonical Variables](#Fishers)\n",
    "\n",
    "<br>[<b>6. Neural Networks</b>](#NN)\n",
    "<br>[Auto Encoders](#AutoEncoders)\n",
    "<br>[CNNs](#CNNs)\n",
    "<br>[NLP](#NLP)\n",
    "<br>[RNNs](#RNNs)\n",
    "<br>[Gradient Decay/Explosion](#DecayExplosion)\n",
    "<br>[LSTM](#LSTM)\n",
    "<br>[SeqToSeq and Bidirectional](#Seq)\n",
    "<br>[Parameter Tying](#ParamTying)\n",
    "<br>[BackProp Through Time](#BPTime)\n",
    "<br>[Auto Differentiation](#AutoDiff)\n",
    "<br>[Initialization](#Initializtion)\n",
    "\n",
    "<br>[<b>7. Visualization</b>](#Visualization)\n",
    "<br>[T-SNE](#TSNE)\n",
    "\n",
    "<br>[<b>8. Fastest Nearest Neighbours</b>](#FastestNN)\n",
    "<br>[Orchard](#Orchard)\n",
    "<br>[AESA](#AESA)\n",
    "<br>[KD Trees](#KD Trees)\n",
    "\n",
    "-----------------------"
   ]
  },
  {
   "cell_type": "code",
   "execution_count": null,
   "metadata": {
    "collapsed": true,
    "deletable": true,
    "editable": true
   },
   "outputs": [],
   "source": [
    " "
   ]
  }
 ],
 "metadata": {
  "anaconda-cloud": {},
  "kernelspec": {
   "display_name": "Python 3",
   "language": "python",
   "name": "python3"
  },
  "language_info": {
   "codemirror_mode": {
    "name": "ipython",
    "version": 3
   },
   "file_extension": ".py",
   "mimetype": "text/x-python",
   "name": "python",
   "nbconvert_exporter": "python",
   "pygments_lexer": "ipython3",
   "version": "3.5.2+"
  }
 },
 "nbformat": 4,
 "nbformat_minor": 0
}
