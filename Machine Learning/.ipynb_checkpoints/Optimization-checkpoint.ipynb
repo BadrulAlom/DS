{
 "cells": [
  {
   "cell_type": "markdown",
   "metadata": {},
   "source": [
    "Quadrtic fiunctions type - for summetric positive difinite A"
   ]
  },
  {
   "cell_type": "markdown",
   "metadata": {},
   "source": [
    "* First order steepest gradient descent is calculate gradient, take a step, repeat\n",
    "* Convergence rate proof is not examineable\n",
    "* Lipschitz continuous ~ second derivative is bounded. Limit to how much the funcation can vary.\n",
    "\n"
   ]
  },
  {
   "cell_type": "code",
   "execution_count": null,
   "metadata": {
    "collapsed": true
   },
   "outputs": [],
   "source": []
  }
 ],
 "metadata": {
  "kernelspec": {
   "display_name": "Python [Root]",
   "language": "python",
   "name": "Python [Root]"
  },
  "language_info": {
   "codemirror_mode": {
    "name": "ipython",
    "version": 3
   },
   "file_extension": ".py",
   "mimetype": "text/x-python",
   "name": "python",
   "nbconvert_exporter": "python",
   "pygments_lexer": "ipython3",
   "version": "3.5.2"
  }
 },
 "nbformat": 4,
 "nbformat_minor": 0
}
