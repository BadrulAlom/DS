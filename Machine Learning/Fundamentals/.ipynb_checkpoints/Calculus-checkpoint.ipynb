{
 "cells": [
  {
   "cell_type": "markdown",
   "metadata": {
    "collapsed": true,
    "deletable": true,
    "editable": true
   },
   "source": [
    "<h2>Calculus</h2>\n"
   ]
  },
  {
   "cell_type": "markdown",
   "metadata": {
    "deletable": true,
    "editable": true
   },
   "source": [
    "<h4>Q:What is differentiation and integration?</h4>\n",
    "\n",
    "\n",
    "Ans:\n",
    "\n",
    "* Differentiation is used to find how much something changes. For example, if you have a function which tells you how fast a car is going a certain time after it sets off, differentiation can tell you its acceleration. The result of differentiation is known as a derivative.\n",
    "\n",
    "* Integration is the inverse of differentiation. Given the function described above, it could be used to find the distance the car travelled over a certain period of time."
   ]
  },
  {
   "cell_type": "markdown",
   "metadata": {},
   "source": [
    "<h4>What are the rules of differentiation?</h4>\n",
    "\n",
    "1. The Power rule: Copy the power to the front, then reduce original power by 1\n",
    "2. "
   ]
  },
  {
   "cell_type": "markdown",
   "metadata": {
    "deletable": true,
    "editable": true
   },
   "source": [
    "<h4>Q: How would you interpret the formula below this chart?</h4>\n",
    "\n",
    "<img src=\"../../_img/calculus/img2.png\" height=\"100\" width=\"200\">\n",
    "\n",
    "Ans: The probabilty of x being between a and b is given by adding up (integrating) the probability at every point of the differential curve between a and b"
   ]
  },
  {
   "cell_type": "markdown",
   "metadata": {
    "deletable": true,
    "editable": true
   },
   "source": [
    "<h4> Differentiate:\n",
    "<br>\n",
    "1. $y = 4x^3$\n",
    "<br>\n",
    "2. $x^3+x^2+x + 10$\n",
    "</h4>\n",
    "\n",
    "Ans:\n",
    "$12x^2$\n"
   ]
  },
  {
   "cell_type": "markdown",
   "metadata": {
    "deletable": true,
    "editable": true
   },
   "source": [
    "<h4> How would you intergrate it $f(x) = dx^2$</h4?"
   ]
  },
  {
   "cell_type": "markdown",
   "metadata": {
    "collapsed": true,
    "deletable": true,
    "editable": true
   },
   "source": [
    "<h4>Q: What is a derivative? What is the derivative of f(x) = x$^2$ </h4>\n",
    "1) Derviative = angle at a single point on a curve (kinda like a single point in time)\n",
    "\n",
    "2) Only way to measure that is zoom in and look at a very tiny portion of that curve\n",
    "\n",
    "<img src=\"../../_img/calculus/slope-dy-dx.gif\" width=\"150\">\n",
    "\n",
    "3) The derivative can be calculated as the $\\frac{change \\ in \\ y}{change \\ in \\ x}$ so if y moved by 5, when x moved by 1 then the derivative (slope) would be 5/1.\n",
    "\n",
    "4) Now instead of co-ordinates, x & y could be input x, and transformation of that x into an output f(x). In this case you can say the derivative of the curve at any point is \n",
    "\n",
    "$\\frac{change \\ in \\ f(x)}{change \\ in \\ x}$ = $\\frac{df}{dx}$ =  $\\frac {(f(x) + change \\ in \\ x) - f(x))}{change \\ in \\ x}$ = $\\frac {(f(x) + \\delta) - f(x))}{\\delta}$ \n",
    "\n",
    "Note: The $\\delta$ sign is used to denote 'change'\n",
    "\n",
    "5) When doing this with actual functions, say f(x) = x$^2$  , inserting into the above formula and re-arranging it would lead to the derivative of $x^2$ being 2x (note, this describes the derivative at any point in the curve)\n",
    "\n",
    "6) There are common rules of thumbs that help figure out what the derivative of a f(x) is. The one used here is the power rule. Deriviative of $x^n = nx^{n-1}$ \n",
    "\n",
    "7) Imagine there is a 1 infront of the x to begin with, so $1x^n = n1x^{-n}$ -- helps later with Second derviatives)\n",
    "\n",
    "Ref: \n",
    "1. https://www.mathsisfun.com/calculus/derivatives-rules.html\n",
    "2. https://www.mathsisfun.com/calculus/derivatives-introduction.html\n",
    "---------------------"
   ]
  },
  {
   "cell_type": "markdown",
   "metadata": {
    "deletable": true,
    "editable": true
   },
   "source": [
    "<h4> Q: What is the derivative of $x^3$? </h4>\n",
    "Ans: $2x^2$ (Power rule)\n",
    "\n",
    "---------------"
   ]
  },
  {
   "cell_type": "markdown",
   "metadata": {
    "deletable": true,
    "editable": true
   },
   "source": [
    "<h4> Q: What is a second derviative? What is the second derivativeof $x^3$?</h4>\n",
    "\n",
    "Ans: Where as a derviative measures the rate of change, a second derivative measures the rate of change of the rate of change. On a graph this would be measure the curvature of the curve.\n",
    "\n",
    "$$ \\frac {d^2f}{dx^2} = \\frac{\\frac{df}{dx} (x + \\delta) - \\frac{df}{dx}(x)}{\\delta} = f''(x)$$\n",
    "\n",
    "To find the derivative of a function, you derive it twice\n",
    "\n",
    "Example: f(x) = x$^3$\n",
    "\n",
    "1) Derivative is f'(x) = 3$x^2$\n",
    "\n",
    "2) Derivative of Derivative, f''(x) = 6x \n",
    "\n",
    "Note:\n",
    "THe functions and derivatives here can all be classed as a polynomial.\n",
    "\n",
    "-------------"
   ]
  },
  {
   "cell_type": "markdown",
   "metadata": {
    "collapsed": true,
    "deletable": true,
    "editable": true
   },
   "source": [
    "<h4> What is a polynomial</h4>\n",
    "Ans: A polynomial is an expression consisting of variables and coefficients which only employs the operations of addition, subtraction, multiplication, and non-negative integer exponents. An example of a polynomial of a single variable x is $x^2 − 4x + 7$. An example in three variables is $x^3 + 2xyz^2 − yz + 1.$\n",
    "\n",
    "The 'degree' of a polynomial is the highest exponent (^) it utilizes\n",
    "\n",
    "Polynomials allow a linear function to add on additional layers of complexity as shown below:\n",
    "\n",
    "<img src=\"../../_img/polynomials.jpg\" height=\"200\" width=\"400\">\n",
    "\n",
    "Recommended viewing: https://www.khanacademy.org/math/calculus-home/series-calc/taylor-series-calc/v/maclauren-and-taylor-series-intuition\n",
    "\n",
    "\n",
    "---------------"
   ]
  },
  {
   "cell_type": "markdown",
   "metadata": {
    "deletable": true,
    "editable": true
   },
   "source": [
    "<h4>What is the Taylor series and why is it important?</h4>\n",
    "\n",
    "Ans:\n",
    "\n",
    "1) The Taylor series is the idea that you can rewrite any smooth function (one who's shape can be described by a single formula) into a series of simpler \"generaized\" polynomials . Since (almost) all functions you encounter have a Taylor series, all functions can be thought of as \"generalized\" polynomials!\n",
    "\n",
    "2) For example we can write a function as a power series with center $x_0$ \n",
    "\n",
    "3) Highly recommend viewing this: http://www.mathsisfun.com/algebra/taylor-series.html\n",
    "\n",
    "\n",
    "4) Power series are easy to differentiate and integrate. No more techniques of integration, if one is satisfied with writing an integral as a power series!\n",
    "\n",
    "5) In finding integrals and solving differential equations, one often faces the problem that the solutions can't be \"found\", just because they do not have a name, i.e., they cannot be written down by combining the familiar function names and the familiar mathematical notation. The error function tex2html_wrap_inline159 and the functions describing the motion of a \"simple\" pendulum are important examples. Power series open the door to explore even functions like these! \n",
    "\n"
   ]
  },
  {
   "cell_type": "markdown",
   "metadata": {
    "collapsed": true,
    "deletable": true,
    "editable": true
   },
   "source": [
    "## Convex analysis"
   ]
  },
  {
   "cell_type": "markdown",
   "metadata": {
    "deletable": true,
    "editable": true
   },
   "source": [
    "#### What is a convex function? \n",
    "\n",
    "* In mathematics, a function is called convex if the line segment between any two points on the graph of the function lies above or on the graph in a vector space of at least two dimensions.\n",
    "\n",
    "<img src=\"../../_img/convex.png\" height=\"200\" width=\"400\">\n",
    "\n",
    "You can prove something is covex in two ways:\n",
    "    \n",
    "    1) \n",
    "    \n",
    "$$f(\\lambda x + (1-\\lambda)y) \\leq \\lambda f(x)+(1-\\lambda)f(y)$$\n",
    "where $\\lambda$ is between 0 and 1 (see chart)\n",
    "\n",
    "This basically means that given a function, if you wanted to work out if its convex, then pick any two values of x, and if the output of the function never goes above what you would get from a straight line between those two points then it is convex.\n",
    "\n",
    "Regarding the $\\lambda$ As we vary from 0 to 1, this traces\n",
    "points between x (= 0) and y (= 1). Hence for= 0 we start at the pointx;f (x) and as increase trace a straight line towards the point y;f (y) at = 1.\n",
    "\n",
    " 2) \n",
    " If f(x) is twice differentiable, then f (x) is convex if its Hessian H(x) is positive definite for all points x\n",
    "\n",
    "* The opposite of a convex function is a concave function\n",
    "* All norms are convex e.g. -- need to explain this better\n",
    "* A function f (x) is concave if −f (x) is convex.\n",
    "* Convex functions are important in machine learning as if you can show that something is convex it makes finding the globally optimal solution a lot easier"
   ]
  },
  {
   "cell_type": "markdown",
   "metadata": {
    "deletable": true,
    "editable": true
   },
   "source": [
    "#### What is a Hessian matrix?\n",
    "\n",
    "https://www.quora.com/What-is-the-Hessian-matrix\n",
    "\n",
    "---------------"
   ]
  },
  {
   "cell_type": "markdown",
   "metadata": {
    "deletable": true,
    "editable": true
   },
   "source": [
    "#### What is an increasing or decreasing function?\n",
    "\n",
    "The derivative of a function may be used to determine whether the function is increasing or decreasing on any intervals in its domain. If the derivative is positive then it is an increasing function. If it is negative then it is a decrasing function.\n"
   ]
  },
  {
   "cell_type": "markdown",
   "metadata": {
    "deletable": true,
    "editable": true
   },
   "source": [
    "#### What are the properties of two convex functions, f (x)& g(x)?\n",
    "\n",
    "* f(x) + g(x) will also be convex\n",
    "* expanding the function f to multiply its input by something and adding on to it (f(Ax + B)) will also give you something convex\n",
    "* using g(x) as the input into f, so f(g(x)), will also be convex provided f is an increasing function -- what is an increasing function?"
   ]
  },
  {
   "cell_type": "markdown",
   "metadata": {
    "deletable": true,
    "editable": true
   },
   "source": [
    "#### What is log convex?\n",
    "\n",
    "When the log of a function is convex. E.g. $exp(x^2)$"
   ]
  },
  {
   "cell_type": "markdown",
   "metadata": {
    "deletable": true,
    "editable": true
   },
   "source": [
    "#### Show that $f(x) = x^2$ is convex\n",
    "\n",
    "* Recall a function is convex if  you can twice differentiate and the Hessian matrix (differentiate twice at the gradient) and it is positive for all values of x then it is a convex function.\n",
    "\n",
    "* Here we can twice differentiate it: d' = 2x,  d'' = 2. \n",
    "\n",
    "* 2 is positive for all values of x. Therefore $x^2$ is convex.\n",
    "\n",
    "-----------------"
   ]
  },
  {
   "cell_type": "markdown",
   "metadata": {
    "deletable": true,
    "editable": true
   },
   "source": [
    "#### Show that $f(x) = -log \\ \\sigma(x)$ is convex, where $\\sigma(x) =\\frac{1}{1+exp^{-x}}$\n",
    "\n",
    "Ans 1:\n",
    "* $\\frac{d}{dx}\\log(1+e^{-x}) = \\frac{-e^{-x}}{1+e^{-x}} = -\\frac{1}{e^x+1}$\n",
    "\n",
    "\n",
    "* $-\\frac{1}{e^x+1}$ is an increasing function, since $e^x$ is an increasing function.\n",
    "\n",
    "* Therefore $\\log(1+e^{-x})$ is a convex function.\n",
    "\n",
    "Ans2:\n",
    "\n",
    "1. Diffentiate it twice to show it is positive\n",
    "\n",
    "<img src=\"../../_img/calculus/img4.png\" height=\"200\" width=\"400\">\n",
    "\n",
    "<a href=\"https://www.symbolab.com/solver/second-derivative-calculator/%5Cfrac%7Bd%5E%7B2%7D%7D%7Bdx%5E%7B2%7D%7D%5Cleft(%5Clog_%7B%20%7D%5Cleft(%5Cfrac%7B1%7D%7B1%2Be%5E%7B-x%7D%7D%5Cright)%5Cright)\">See  here</a>\n",
    "\n",
    "\n",
    "http://web4.cs.ucl.ac.uk/staff/D.Barber/textbook/171216.pdf\n",
    "\n",
    "https://www.mathsisfun.com/algebra/exponents-logarithms.html\n",
    "\n",
    "\n",
    "-----------------"
   ]
  },
  {
   "cell_type": "markdown",
   "metadata": {
    "deletable": true,
    "editable": true
   },
   "source": [
    "#### What are the basic rules for logarithms?\n",
    "\n",
    "* Product:\tln(xy)=ln(x)+ln(y)\n",
    "* Quotient:\tln(x/y)=ln(x)−ln(y)\n",
    "* Log of power:\tln(xy)=yln(x)\n",
    "* Log of e\n",
    "* ln(e)=1\n",
    "* Log of one:\tln(1)=0\n",
    "* Log reciprocal:\tln(1/x)=−ln(x)"
   ]
  },
  {
   "cell_type": "markdown",
   "metadata": {
    "deletable": true,
    "editable": true
   },
   "source": [
    "#### Is log x convex or concave?\n",
    "\n",
    "If we differentiate once we get:\n",
    "$\\frac {d}{dx}log x = \\frac {1}{x}$\n",
    "\n",
    "If we differentiate again we get:\n",
    "$\\frac {d^2}{dx^2}log x = -\\frac {1}{x^2}$\n",
    "\n",
    "As this is negative it is concave"
   ]
  },
  {
   "cell_type": "markdown",
   "metadata": {
    "deletable": true,
    "editable": true
   },
   "source": [
    "#### What is the differential of $log(\\frac{1}{1+e^{-x}})?$\n",
    "\n",
    "<img src=\"../../_img/calculus/img5.png\" width=\"300\">"
   ]
  },
  {
   "cell_type": "markdown",
   "metadata": {
    "collapsed": true,
    "deletable": true,
    "editable": true
   },
   "source": [
    "<h4>What is Matrix inversion?</h4>\n",
    "\n",
    "* The reciprocal of a number is a number that when you multiply it with it becomes one. So the reciprocal of 8 is $\\frac{1}{8}$ as 8 * $\\frac{1}{8}$ = 1\n",
    "\n",
    "* The inverse of a matrix is the same concept, it's what you multiply a matrix by to make it equal the identity matrix (1's across the diagnal, 0 everywhere else)\n",
    "\n",
    "* (As aside, the identify matrix behaves the same way as the '1' in the above example - multiplying a matrix by its I gives you back the same matrix)\n",
    "\n",
    "* The inverse of a matrix is needed because matrices <b>do not divide.</b> Seriously, there is no concept of dividing by a Matrix. But we can multiply by an Inverse, which achieves the same thing.\n",
    "* So if you have the matrix function $$XA = B$$ and you want to calculate X. You can multiply both sides by the inverse of A; so $A^-1$ which we know is the Identity matrix.\n",
    "* This results in $X*1 = BA^-1$ and so there we have our answer presuming we can calculate the inversion matrix, $A^-1$\n",
    "\n"
   ]
  },
  {
   "cell_type": "code",
   "execution_count": null,
   "metadata": {
    "collapsed": true
   },
   "outputs": [],
   "source": []
  }
 ],
 "metadata": {
  "anaconda-cloud": {},
  "kernelspec": {
   "display_name": "Python 3",
   "language": "python",
   "name": "python3"
  },
  "language_info": {
   "codemirror_mode": {
    "name": "ipython",
    "version": 3
   },
   "file_extension": ".py",
   "mimetype": "text/x-python",
   "name": "python",
   "nbconvert_exporter": "python",
   "pygments_lexer": "ipython3",
   "version": "3.5.2+"
  }
 },
 "nbformat": 4,
 "nbformat_minor": 0
}
