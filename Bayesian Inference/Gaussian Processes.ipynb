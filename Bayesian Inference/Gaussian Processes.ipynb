{
 "cells": [
  {
   "cell_type": "markdown",
   "metadata": {},
   "source": [
    "<h3>Recommended resources</h3>\n",
    "\n",
    "<b>Beginners:</b>\n",
    "    \n",
    "1. https://www.youtube.com/watch?v=IEpc2ClaYH8&feature=youtu.be\n",
    "2. http://katbailey.github.io/post/gaussian-processes-for-dummies/\n",
    "3. https://blog.dominodatalab.com/fitting-gaussian-process-models-python/\n",
    "3. https://www.youtube.com/watch?v=CYkAhje2o-4"
   ]
  },
  {
   "cell_type": "code",
   "execution_count": null,
   "metadata": {
    "collapsed": true
   },
   "outputs": [],
   "source": [
    "Key points:\n",
    "    \n",
    "* A Gaussian process models all the possible projections (functions) not just one line\n",
    "* It can handle an infinite set of variables but not a very large amount of data\n",
    "* "
   ]
  }
 ],
 "metadata": {
  "anaconda-cloud": {},
  "kernelspec": {
   "display_name": "Python [Root]",
   "language": "python",
   "name": "Python [Root]"
  },
  "language_info": {
   "codemirror_mode": {
    "name": "ipython",
    "version": 3
   },
   "file_extension": ".py",
   "mimetype": "text/x-python",
   "name": "python",
   "nbconvert_exporter": "python",
   "pygments_lexer": "ipython3",
   "version": "3.5.2"
  }
 },
 "nbformat": 4,
 "nbformat_minor": 0
}
