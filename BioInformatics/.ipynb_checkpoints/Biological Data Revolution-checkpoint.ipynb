{
 "cells": [
  {
   "cell_type": "markdown",
   "metadata": {},
   "source": [
    "<h4>Name 5 primary BioInformatics databases</h4>\n",
    "* Genbank: Contains the reference genetic code for a whole host of species\n",
    "* The NLM Visible Human Project - human body, sliced up\n",
    "* Taxonomy Records (Linking genetic code to species and lineage)\n",
    "* Ontological data (framework for unifying data, e.g. gene and gene function across species)\n",
    "* 1000Genomes project- for storing variations in gene sequences using the Variant Call Format\n",
    "----------------------\n",
    "Also:\n",
    "* Swiss-Prot: Contains functional information about protein"
   ]
  },
  {
   "cell_type": "markdown",
   "metadata": {
    "deletable": true,
    "editable": true
   },
   "source": [
    "<h4>Name 4 secondary BioInformatics databases</h4>\n",
    "Contain data derived from analyzing primary data\n",
    "\n",
    "* InterPro: Collections of patterns for protein families\n",
    "* CATH: Hierarchircal classification of protein structures\n",
    "* Pfam: Collection of protein families\n",
    "* OMIM: Information on inhereted disease\n",
    "----------------------"
   ]
  },
  {
   "cell_type": "markdown",
   "metadata": {},
   "source": [
    "<b>What is the nucleic acid notation</b>\n",
    "* An expansion of the base pair notation for nucelutoides\n",
    "* Goes further as to classify the 4 base pairs as useful for research\n",
    "* <img src=\"../_img/bio_1.jpg\" width=\"500\">\n",
    "\n",
    "--------------------------_"
   ]
  },
  {
   "cell_type": "markdown",
   "metadata": {},
   "source": [
    "<h4> How can we infer function using computational methods? </h4>\n",
    "\n",
    "* By sequencce alignemnt: >30% indentity between two proteing sequences implies probable common structure and possible common function (although there are exceptions to this rule of thumb)\n",
    "* By homology: (Shared ancestry)\n",
    "* By protein structure\n",
    "* From microarray data or protein to protein interaction networks"
   ]
  },
  {
   "cell_type": "markdown",
   "metadata": {},
   "source": [
    "<h4>What is ProtFun </h4>\n",
    "\n",
    "* Online system for predicting features from sequence using SwissProt data plus any submissions\n",
    "* Uses neural nets"
   ]
  }
 ],
 "metadata": {
  "kernelspec": {
   "display_name": "Python 3",
   "language": "python",
   "name": "python3"
  },
  "language_info": {
   "codemirror_mode": {
    "name": "ipython",
    "version": 3
   },
   "file_extension": ".py",
   "mimetype": "text/x-python",
   "name": "python",
   "nbconvert_exporter": "python",
   "pygments_lexer": "ipython3",
   "version": "3.5.2+"
  }
 },
 "nbformat": 4,
 "nbformat_minor": 2
}
