{
 "cells": [
  {
   "cell_type": "markdown",
   "metadata": {
    "deletable": true,
    "editable": true
   },
   "source": [
    "<h4>What is homology?</h4>\n",
    "\n",
    "* Two genes are said to be homologous if they have both evolved from a common ancestor \n",
    "* Homology cannot be MEASURED i.e. it is impossible to be 50% HOMOLOGOUS – it is either YES or NO\n",
    "* However, the LIKELIHOOD that two genes are related (i.e. are homologous) can be ESTIMATED"
   ]
  },
  {
   "cell_type": "markdown",
   "metadata": {
    "deletable": true,
    "editable": true
   },
   "source": [
    "<h4>What are the measures of Amino acid similarity</h4>\n",
    "\n",
    "1. Identity\n",
    "2. Similarity in properties (e.g. hydrophobicity or size)\n",
    "3. Similarity in Genetic code (codons)\n",
    "4. Exchange propensities\n",
    "   - Dayhoff Matrix\n",
    "   - BLOSUM Matrix\n",
    "   \n",
    "   \n",
    "---------------"
   ]
  },
  {
   "cell_type": "markdown",
   "metadata": {
    "deletable": true,
    "editable": true
   },
   "source": [
    "<h4>Explain mutation (aka. substitution) matrices</h4>\n",
    "\n",
    "* These are ways of calculating the similarity between two sequences in order to infer evolution\n",
    "* The log-odds scores are used to express the probability of transformation:\n",
    "$$log\\frac{observed freq.}{expected freq.} = log \\frac{prob. \\ of \\ j \\ given \\ i \\ * freq. of\\ i }{freq \\ of\\  j \\ * freq \\ of\\  i}$$\n",
    "\n",
    "<b>PAM</b>\n",
    "\n",
    "The PAM (Point Accepted Mutation) matrix was developed by Margaret Dayhoff in the 1970s. This matrix is calculated by observing the differences in closely related proteins. The PAM1 matrix estimates what rate of substitution would be expected if 1% of the amino acids had changed. Using this logic, Dayhoff derived matrices as high as PAM250. \n",
    "\n",
    "A matrix for more distantly related sequences can be calculated from a matrix for closely related sequences by taking the second matrix to a power. For instance, we can roughly approximate the WIKI2 matrix from the WIKI1 matrix by saying W 2 = W 1 2 W_{2}=W_{1}^{2}} W_{2}=W_{1}^{2} where W 1 {\\displaystyle W_{1}} W_1 is WIKI1 and W 2 {\\displaystyle W_{2}} W_2 is WIKI2. This is how the PAM250 matrix is calculated.\n",
    "\n",
    "<b>BLOSUM</b>\n",
    "\n",
    "Dayhoff's methodology of comparing closely related species turned out not to work very well for aligning evolutionarily divergent sequences. Sequence changes over long evolutionary time scales are not well approximated by compounding small changes that occur over short time scales. The BLOSUM (BLOck SUbstitution Matrix) series of matrices rectifies this problem. \n",
    "\n",
    "The probabilities used in the matrix calculation are computed by comparing present-day related sequences ton each other, rather than to inferred common ancestors\n",
    "\n",
    "It turns out that the BLOSUM62 matrix does an excellent job detecting similarities in distant sequences, and this is the matrix used by default in most recent alignment applications such as BLAST. A positive score is given to the more likely substitutions while a negative score is given to the less likely substitutions.\n",
    "\n",
    "Differences between PAM and BLOSUM\n",
    "\n",
    "PAM matrices are based on an explicit evolutionary model (i.e. replacements are counted on the branches of a phylogenetic tree), whereas the BLOSUM matrices are based on an implicit model of evolution.\n",
    "\n",
    "The PAM matrices are based on mutations observed throughout a global alignment, this includes both highly conserved and highly mutable regions. The BLOSUM matrices are based only on highly conserved regions in series of alignments forbidden to contain gaps.\n",
    "\n",
    "-------------------------"
   ]
  },
  {
   "cell_type": "markdown",
   "metadata": {
    "collapsed": true,
    "deletable": true,
    "editable": true
   },
   "source": [
    "<h4>Explain Dynamic Programming for global sequence comparison</h4>\n",
    "\n",
    "* Used to compare the similarity in two sequences of possibly different lengths (i.e. allowing gaps where they don't match)\n",
    "* But where sequences are presumed to be related over their entire lengths\n",
    "\n",
    "<img src=\"../_img/bio_2.jpg\" width=\"100\">\n",
    "\n",
    "* Put your two sequences into a matrix - one along the top and the other down the side\n",
    "* Decide how you are going align your sequences - (this means where they don't match you might leave a gap in one so that other portions do match)\n",
    "* This means you could have one of these scenarios:\n",
    "   - Match: The two letters are the same\n",
    "   - Mismatch: The two letters are differential\n",
    "   - Indel (INsertion or DELetion) : One letter aligns to a gap in the other string\n",
    "   \n",
    "There are various ways to score these three scenarios. \n",
    "\n",
    "---------------"
   ]
  },
  {
   "cell_type": "markdown",
   "metadata": {
    "deletable": true,
    "editable": true
   },
   "source": [
    "* Constant penalty: 1 gap, 7 non-gaps, so 7 -1 = 6\n",
    "* Linear Gap Penalty: length of gap =3, so 7 -3 = 4\n",
    "* Affine Gap Penalty: Let A = 1, B=2 so gap cost = A + (B* Gap Length) = 7\n",
    "\n",
    "\n",
    "<h4>NW Global Alignment</h4>\n",
    "* Needleman and Wunsch; matches are given +1, mismatches are given -1 and indels are given -1   \n",
    "\n",
    "<img src=\"../_img/bio_3.jpg\" width=\"500\">\n",
    "\n",
    "<img src=\"../_img/bio_4.jpg\" width=\"500\">"
   ]
  },
  {
   "cell_type": "markdown",
   "metadata": {
    "deletable": true,
    "editable": true
   },
   "source": [
    "<b>The Smith-Waterman Algorithm</b>\n",
    "* The SW algorithm guarantees to find the optimum scoring local\n",
    "alignment between two sequences\n",
    "* The optimum local alignment could be identical to the optimum global\n",
    "alignment\n",
    "* There could be other significant local alignments, but SW will just return\n",
    "the highest scoring one\n",
    "* We can find other significant alignments by masking out the initial SW\n",
    "alignment and re-running the algorithm\n",
    "* Note that SW will only produce a local alignment under certain\n",
    "conditions i.e. with certain score and gap penalty choices e.g. a score\n",
    "matrix without any negative scores is unlikely to result in a local\n",
    "alignment\n",
    "* Necessary conditions for local alignment behaviour are hard to\n",
    "predetermine, but as a rule of thumb, for aligned random sequences,\n",
    "the expectation value of the alignment score should be negative for local\n",
    "behaviour to result."
   ]
  },
  {
   "cell_type": "markdown",
   "metadata": {
    "collapsed": true,
    "deletable": true,
    "editable": true
   },
   "source": [
    "<b>The FASTA method</b>\n",
    "\n",
    "<img src=\"https://github.com/BadrulAlom/Data-Science-Notes/raw/master/_img/bio/bio099.png\" height=\"100\" width=\"300\">\n",
    "\n",
    "Notes:\n",
    "* Larger ktuple increases speed since fewer “hits” are found but it also decreases sensitivity for finding similar but not identical sequences since exact matches of this length are required\n",
    "\n",
    "FASTA can miss significant similarity since\n",
    "* For proteins, similar sequences do not have to share identical\n",
    "residues\n",
    "* Asp-Lys-Val is quite similar to Glu-Arg-Ile yet it is missed even\n",
    "with ktuple size of 1 since none of the amino acids matches\n",
    "* Gly-Asp-Gly-Lys-Gly is quite similar to Gly-Glu-Gly-Arg-Gly but\n",
    "there is no match with ktuple size of 2 (no common words of\n",
    "length 2)"
   ]
  },
  {
   "cell_type": "markdown",
   "metadata": {
    "deletable": true,
    "editable": true
   },
   "source": [
    "<h4> Explain multiple sequence alignment</h4>\n",
    "\n",
    "* Although pairwise sequence comparison is the single most widely used similarity/homology detection method, multiple sequence methods are much more powerful\n",
    "\n",
    "* Allows a statistical model to be built of a whole family of sequences rather than just an isolated pair of sequences -- basically given a sequence, you get a feel for how many different (or not) places it seems to occur across biology\n",
    "\n",
    "Typical algorithm:\n",
    "\n",
    "* Compare all pairwise sequences. \n",
    "* Construct a guide tree based on these alignments\n",
    "* Build the multiple alignment by following the order of the tree branches – i.e. first aligning the most similar pair of sequences within each cluster, then the next most similar pair and so on, until all sequences have been aligned.\n",
    "\n",
    "<img src=\"https://github.com/BadrulAlom/Data-Science-Notes/raw/master/_img/bio/bio098.png\" height=\"100\" width=\"400\">\n"
   ]
  },
  {
   "cell_type": "markdown",
   "metadata": {
    "deletable": true,
    "editable": true
   },
   "source": [
    "<h4>Explain Sequence Profiles</h4>\n",
    "\n",
    "* One way of profiling sequences is on the exact letter ordering they contain\n",
    "* Sequence Profilng provide a more general alternative to regular expression patterns\n",
    "* It takes any sequence and turns each letter into a probability based on the frequency within that sequence\n",
    "\n",
    "----------------"
   ]
  },
  {
   "cell_type": "markdown",
   "metadata": {
    "deletable": true,
    "editable": true
   },
   "source": [
    "<h4> What is PFam?</h4>\n",
    "\n",
    "* Protein families database of alignments and HMMs\n",
    "* Uses profile-HMMs to represent families\n",
    "\n",
    "Allows you to:\n",
    "- Look at multiple alignments\n",
    "- View protein domain architectures\n",
    "- Examine species distribution\n",
    "- Follow links to other databases\n",
    "- View known protein structures\n",
    "\n",
    "---------------"
   ]
  },
  {
   "cell_type": "markdown",
   "metadata": {
    "deletable": true,
    "editable": true
   },
   "source": [
    "<h4>  Describe the 3 main HMM algorithms </h4>\n",
    "\n",
    "1. The Viterbi algorithm: get the most probable state sequence i.e. alignment\n",
    "\n",
    "2. The Forward algorithm: get the probability of each state at each position and the overall match probability\n",
    "\n",
    "3. Expectation Maximization: derive the parameters of the model from the data"
   ]
  },
  {
   "cell_type": "markdown",
   "metadata": {
    "deletable": true,
    "editable": true
   },
   "source": [
    "HMMER is now the most widely used tool for building and using protein HMMs\n",
    "\n",
    "• Uses a slight simplification of the state model called “Plan 7” (but with some extra features)\n",
    "\n",
    "• Now includes several heuristic speedups to allow searching of very large databases\n",
    "\n",
    "------------------\n",
    "\n",
    "<h4> Iterative HMM </h4>\n",
    "lose homologues of a seed sequence are first found using a rapid\n",
    "databank search technique (usually BLAST) and a suitably conservative\n",
    "E-value threshold.\n",
    "These sequences are multiply aligned (either using an HMM approach\n",
    "or a classic multiple sequence alignment technique such as\n",
    "CLUSTALW)\n",
    "An initial HMM is constructed based on this seed alignment (most\n",
    "often with Viterbi training for speed)\n",
    "The HMM is used to identify new members of the family in the\n",
    "database according to the log-odds ratio above (i.e. sequences which\n",
    "score above a set threshold and which were not already found). If no\n",
    "new members are found then the process terminates\n",
    "\n",
    "<h4> Compared to BLAST</h4>\n",
    "\n",
    "Profile HMMs have higher sensitivity at 1%\n",
    "FPR compared to PSIBLAST\n",
    "• However, better PSIBLAST statistics generally\n",
    "results in much sharper convergence\n",
    "\n",
    "\n",
    "---------------------"
   ]
  },
  {
   "cell_type": "markdown",
   "metadata": {
    "deletable": true,
    "editable": true
   },
   "source": [
    "<h4>Describe Secondary (or more) Proteing Structure Predictions</h4>\n",
    "\n",
    "\n",
    "The greatest unsolved problem in molecular\n",
    "biology: The Protein Folding Problem - how does protein foind into secondart,tertiary , quaternary structure to form what wew see?\n",
    "\n",
    "* 1st gen method: Based on propensity analysis (i.e. probability).  \n",
    "Two ways to view the significance of this\n",
    "preference (or propensity)\n",
    "\n",
    "– It may control or affect the folding of the protein\n",
    "in its immediate vicinity (amino acid determines\n",
    "structure)\n",
    "\n",
    "– It may constitute selective pressure to use\n",
    "particular amino acids in regions that must have a\n",
    "particular structure (structure determines amino\n",
    "acid)\n",
    "\n",
    "* 2nd gen method: Use neighbouring residue info to help better predict\n",
    "\n",
    "* 3rd gen method: NN, e.g. PSPIRED\n",
    "PROs\n",
    "– High residue accuracy\n",
    "– Less underprediction of strands\n",
    "– Good quality segment predictions\n",
    "• CONs\n",
    "– Provides prediction for FAMILY CONSENSUS\n",
    "structure NOT THE STRUCTURE OF THE TARGET\n",
    "SEQUENCE\n",
    "\n",
    "<b>PSPIRED</b>\n",
    "\n",
    "Works directly on PSI-BLAST profiles\n",
    "* Uses 2-stages of feedforward neural\n",
    "networks\n",
    "* First network predicts secondary structure\n",
    "* Second network cleans outputs from 1 st net\n"
   ]
  },
  {
   "cell_type": "markdown",
   "metadata": {
    "deletable": true,
    "editable": true
   },
   "source": [
    "<h4> What are common Measures of Secondary Structure Prediction Accuracy</h4>\n",
    "* Q3 scores give the percentage of correctly\n",
    "predicted residues across 3 states (H,E,C)\n",
    "* Sov scores give the percentage of correctly\n",
    "predicted SEGMENTS across 3 states\n",
    "* Other scores such as Matthew’s Correlation Coefficient try to identify accuracy for\n",
    "individual states (Coil, Strand, Helix)"
   ]
  },
  {
   "cell_type": "markdown",
   "metadata": {
    "deletable": true,
    "editable": true
   },
   "source": [
    "<h4>Advantages of more data </h4>\n",
    "* In most molecular evolution applications a common simplifying assumption is made that\n",
    "mutations occurring at one site in a protein are independent of mutations occurring in other\n",
    "sites\n",
    "\n",
    "* This simplification allows the use of Markovian methods e.g. HMMs and profiles\n",
    "\n",
    "* This is also the best we can do with limited data. With lots of sequence data, however, we can start considering coevolutionary epistatic effects"
   ]
  },
  {
   "cell_type": "code",
   "execution_count": null,
   "metadata": {
    "collapsed": true,
    "deletable": true,
    "editable": true
   },
   "outputs": [],
   "source": []
  }
 ],
 "metadata": {
  "kernelspec": {
   "display_name": "Python 3",
   "language": "python",
   "name": "python3"
  },
  "language_info": {
   "codemirror_mode": {
    "name": "ipython",
    "version": 3
   },
   "file_extension": ".py",
   "mimetype": "text/x-python",
   "name": "python",
   "nbconvert_exporter": "python",
   "pygments_lexer": "ipython3",
   "version": "3.5.2+"
  }
 },
 "nbformat": 4,
 "nbformat_minor": 2
}
