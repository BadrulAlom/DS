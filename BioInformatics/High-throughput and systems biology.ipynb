{
 "cells": [
  {
   "cell_type": "markdown",
   "metadata": {
    "deletable": true,
    "editable": true
   },
   "source": [
    "<h1>High-throughput and systems biology</h1>\n",
    "\n",
    "* Understanding biological systems requires more than just a reductionist understanding of the individual parts that compose them.\n",
    "* In this part of the course we will look at complete biological systems, techniques that apply to these and how machine learning is useful.\n",
    "\n",
    "-------------"
   ]
  },
  {
   "cell_type": "markdown",
   "metadata": {
    "deletable": true,
    "editable": true
   },
   "source": [
    "* During development each cell receives different ‘signals’ from chemicals released from other cells ... and an intricate ‘genetic program’ where proteins bind to DNA and turn on/off particular genes finally gives all the different cell types\n",
    "\n",
    "\n",
    "<h4> Give examples of Biological networks></h4>\n",
    "\n",
    "- Biological Network Data helps integrate diverse types of data about biological components\n",
    "- Signalling Pathways (e.g. Heart Disease)\n",
    "- Metabolic Pathways (e.g. Insulin regulation)\n",
    "- Gene Regulation Pathways (how a gene is determined)\n",
    "- Protein to Protein interaction pathways - Proteins interact with each other for a number of reasons, e.g: Allosteric activation, Inhibitory binding\n",
    "\n",
    "\n",
    "-------------"
   ]
  },
  {
   "cell_type": "markdown",
   "metadata": {
    "deletable": true,
    "editable": true
   },
   "source": [
    "<h4> Describe each of these: Genomics, Transcriptomics, Proteomics, Metabolomics</h4>\n",
    "\n",
    "<b>Genomics</b>\n",
    "* About determining the complete sequence of the DNA genome of an organism\n",
    "\n",
    "<b>Transcriptomics</b>\n",
    "* Globally measuring the expression level of all the different mRNAs within a tissue.\n",
    "* i.e. giving you information about the genes being expressed in a tissue\n",
    "* Established databases such as GEO and ArrayExpress\n",
    "* Very mature - Transcriptomics based on Next Generation Sequencing (NGS) is currently revolutionizing the field: massively parallel sequencing\n",
    "\n",
    "<b>Proteomics</b>\n",
    "* Globally measuring the concentration/activity of all the different proteins within a tissue.\n",
    "* Giving you direct info’ about what protein activities are present in the tissue\n",
    "* Starting to mature\n",
    "\n",
    "<b>Metabolomics</b>\n",
    "* Provides information about small molecule metabolites (a substance formed in or necessary for metabolism) under different conditions.\n",
    "* Key technique is high-resolution NMR.\n",
    "* Metabolomics data standards currently under development: http://msi-workgroups.sourceforge.net/\n",
    "* Starting to mature"
   ]
  },
  {
   "cell_type": "markdown",
   "metadata": {
    "collapsed": true,
    "deletable": true,
    "editable": true
   },
   "source": [
    "<h4> What are the 3 major technologies of Transcriptomics?</h4>\n",
    "\n",
    "<b>1. Spotted Microarrays: </b>\n",
    "- Look for the presence or absence of genes \n",
    "- Can compare the genes of two different sources\n",
    "- DNA samples are taken and placed on the Microarray chips to hyberdize (bonding DNA from different sources)\n",
    "- Microarray chips contain different features (half of a DNA strand) and from seeing what forms you can determeine what squences exist in any sample, or the similarities / differences between two samples\n",
    "* Yellow, Red,Green and Black color coiding is used to denote mathes in both, one or the other, or neither\n",
    "* Two versions of this color scheme is used (two channels) to more accurately determine intensity level\n",
    "\n",
    "https://www.youtube.com/watch?v=pWk_zBpKt_w\n",
    "\n",
    "<b>2. Affymetrix GenChips</b>\n",
    "* A better more accurate chip\n",
    "* Affymetrix manufacturing and processing is much more controlled and thus image analysis is more straightforward (generally using their own software).\n",
    "\n",
    "3. RNASeq Sequencing\n",
    "\n"
   ]
  },
  {
   "cell_type": "markdown",
   "metadata": {},
   "source": [
    "<h4>The reference design for spotted arrays is more complex than Affymetrix due to using two channels.\n",
    "Could we not just use spotted arrays in the same way as\n",
    "Affymetrix? (One sample hybridized to each array) ...</h4>\n",
    "\n",
    "* Spotted cDNA arrays only works well when considering\n",
    "expression ratios between 2 samples since this helps to\n",
    "eliminate the enormous variation present in spot shapes/sizes\n",
    "from array to array.\n",
    "* Whereas Affymetrix chips have much more uniform ‘squares’\n",
    "present and so intensities can be accurately compared between\n",
    "chips (after appropriate normalization).\n",
    "* Imagine if two spotted arrays were compared as single channel\n",
    "with these variations in sizes and shapes!"
   ]
  },
  {
   "cell_type": "markdown",
   "metadata": {},
   "source": [
    "<h4> Explain Normalization in Gene expression</h4>\n",
    "Variation in gene expression values can either be:\n",
    "* Variations that we are interested in, for example caused by particular\n",
    "sample treatments or disease states (Signal)\n",
    "* Variations that we are not interested in, for example caused by\n",
    "differences in the chip spotting process, sample handling and labelling,\n",
    "quantity of sample applied to the microarrays, hybridization time and\n",
    "temperature, image scanning parameters, image processing, etc.\n",
    "(Systematic Bias or Noise)\n",
    "\n",
    "* Normalization is a term used to describe a collection of methods which try to eliminate the unwanted variations between sample expression\n",
    "values while retaining the variation that we are interested in.\n",
    "\n",
    "------------------"
   ]
  },
  {
   "cell_type": "markdown",
   "metadata": {},
   "source": [
    "### Just read the rest of the slides & practice questions -- too dull to write up..."
   ]
  },
  {
   "cell_type": "code",
   "execution_count": null,
   "metadata": {
    "collapsed": true
   },
   "outputs": [],
   "source": []
  }
 ],
 "metadata": {
  "kernelspec": {
   "display_name": "Python 3",
   "language": "python",
   "name": "python3"
  },
  "language_info": {
   "codemirror_mode": {
    "name": "ipython",
    "version": 3
   },
   "file_extension": ".py",
   "mimetype": "text/x-python",
   "name": "python",
   "nbconvert_exporter": "python",
   "pygments_lexer": "ipython3",
   "version": "3.5.2+"
  }
 },
 "nbformat": 4,
 "nbformat_minor": 2
}
