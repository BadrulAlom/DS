{
 "cells": [
  {
   "cell_type": "markdown",
   "metadata": {
    "deletable": true,
    "editable": true
   },
   "source": [
    "# <center>Biological Data Revolution</center>\n",
    "\n",
    "\n",
    "----------------"
   ]
  },
  {
   "cell_type": "markdown",
   "metadata": {
    "deletable": true,
    "editable": true
   },
   "source": [
    "<a id='Key questions'></a>\n",
    "<h3 style=\"background-color:#616161;color:white\">0. Key questions</h3>\n",
    "\n",
    "* Name 6 Primary databases\n",
    "\n",
    "* Name 4 Secondary databases\n",
    "\n",
    "* What is ProtFun\n",
    "\n",
    "* What is the Nuceleic Acid notation?\n",
    "\n",
    "* How can we infer function using computational methods?\n",
    "\n",
    "* Explain the 6 parts of MAIME and draw the diagram\n",
    "\n",
    "* Explain BioPAX\n",
    "\n",
    "---------------"
   ]
  },
  {
   "cell_type": "markdown",
   "metadata": {
    "deletable": true,
    "editable": true
   },
   "source": [
    "<a id='Databases'></a>\n",
    "<h3 style=\"background-color:#616161;color:white\">1. Databases</h3>"
   ]
  },
  {
   "cell_type": "markdown",
   "metadata": {
    "deletable": true,
    "editable": true
   },
   "source": [
    "<h4>Name 6 primary BioInformatics databases</h4>\n",
    "\n",
    "Genbank: \n",
    "* Contains the reference genetic code for a whole host of species (so one per species)\n",
    "\n",
    "Swiss-Prot \n",
    "* a protein sequence database which strives to provide a high level of annotations(such as the description of the function of a protein, its domains structure, post-translational modifications, variants, etc.), a minimal level of redundancy and high level of integration with other databases.\n",
    "\n",
    "NLM Visible Human Project\n",
    "* human body, sliced up\n",
    "\n",
    "NCBI Taxonomy Records \n",
    "* Linking genetic code to species and lineage\n",
    "\n",
    "Gene Ontological data (framework for unifying data, e.g. gene and gene function across species)\n",
    "* Maintained in mySQL, available as XML\n",
    "* The Gene Ontology project provides controlled vocabularies of defined terms representing gene product properties. \n",
    "* These cover three domains: \n",
    "    - Cellular Component, the parts of a cell or its extracellular environment; \n",
    "    - Molecular Function, the elemental activities of a gene product at the molecular level, such as binding or catalysis\n",
    "    - Biological Process, operations or sets of molecular events with a defined beginning and end, pertinent to the functioning of integrated living units: cells, tissues, organs, and organisms.\n",
    "\n",
    "1000Genomes project\n",
    "* For storing variations in gene sequences using the Variant Call Format\n",
    "\n",
    "\n",
    "-------------_"
   ]
  },
  {
   "cell_type": "markdown",
   "metadata": {
    "deletable": true,
    "editable": true
   },
   "source": [
    "<h4>Name 4 secondary BioInformatics databases</h4>\n",
    "Contain data derived from analyzing primary data\n",
    "\n",
    "* InterPro: Collections of patterns for protein families\n",
    "* CATH: Hierarchircal classification of protein structures\n",
    "* Pfam: \n",
    "    - Collection of protein families database of alignments and HMMs\n",
    "    - Uses profile-HMMs to represent families\n",
    "    \n",
    "    Allows you to:\n",
    "    - Look at multiple alignments\n",
    "    - View protein domain architectures\n",
    "    - Examine species distribution\n",
    "    - Follow links to other databases\n",
    "    - View known protein structures\n",
    "\n",
    "* OMIM: Information on inhereted disease\n",
    "----------------------"
   ]
  },
  {
   "cell_type": "markdown",
   "metadata": {
    "deletable": true,
    "editable": true
   },
   "source": [
    "<h4>What is ProtFun </h4>\n",
    "\n",
    "* Online system for predicting protein function & features from sequence using SwissProt data plus any submissions\n",
    "* Human protein sequences from SWISS-PROT were\n",
    "assigned to functional classes based on their keywords\n",
    "* The set of sequences was divided into a test and a training\n",
    "set with no significant sequence similarity between the\n",
    "two sets\n",
    "* Neural networks were initially trained using individual features and subsequently trained on combinations of the best performing features\n",
    "\n",
    "Examples of ProtFun features:\n",
    "\n",
    "* Average hydrophobicity\n",
    "* Number of negatively charged residues\n",
    "* Number of positively charges residues\n",
    "* Subcellular location\n",
    "\n",
    "------------"
   ]
  },
  {
   "cell_type": "markdown",
   "metadata": {
    "deletable": true,
    "editable": true
   },
   "source": [
    "<b>What is the nucleic acid notation</b>\n",
    "* An expansion of the base pair notation for nucelutoides\n",
    "* Goes further as to classify the 4 base pairs as useful for research\n",
    "<img src=\"../_img/bio_1.jpg\" width=\"300\">\n",
    "\n",
    "--------------------------_"
   ]
  },
  {
   "cell_type": "markdown",
   "metadata": {
    "deletable": true,
    "editable": true
   },
   "source": [
    "<h4> How can we infer function using computational methods? </h4>\n",
    "\n",
    "* By sequencce alignement: >30% indentity between two protein sequences implies probable common structure and possible common function (although there are exceptions to this rule of thumb)\n",
    "* By homology: (Shared ancestry)\n",
    "* By protein structure\n",
    "* From microarray data or protein to protein interaction networks\n",
    "\n",
    "------------"
   ]
  },
  {
   "cell_type": "markdown",
   "metadata": {
    "deletable": true,
    "editable": true
   },
   "source": [
    "<h4>Explain MIAME</h4>\n",
    "\n",
    "<img src=\"https://github.com/BadrulAlom/Data-Science-Notes/raw/master/_img/bio/bio093.png\" height=\"100\" width=\"500\">\n",
    "\n",
    "* MIAME is a standard that was developed to standardize how microarray experiment data is recorded in order to provide consistency\n",
    "* It specifies the type of data to be recorded, and only makes recommendations on the technical format to use to do this\n",
    "* Controlled vocabulary takes on a ‘qualifier, value, source’ triplet\n",
    "* Data was transferred usig XML standads: MAGE-OM / MAGE-ML, but this is out of favor in terms of a more simpler tabular structure\n",
    "* ArrayExpress is the public microarray database for XML formats\n",
    "* Geo is the competing database for the simpler tab format\n",
    "\n",
    "------------------------\n",
    "\n",
    "The 6 parts of MIAME\n",
    "\n",
    "1. Experimental design: \n",
    "    - the set of hybridization experiments as a whole (e.g. Pub Med)\n",
    "    - The minimal information required in this section includes the type of the experiment (such as normal-versus-diseased compar-ison, time course, dose response, and so on) and the experimen- tal variables, including parameters or conditions tested (such as time, dose, genetic variation or response to a treatment or com- pound).\n",
    "\n",
    "2. Array design: each array used and each element (spot,feature) on the array\n",
    "    - A systematic definition of all arrays used in the experiment, including the genes represented and their physical layout on the array. \n",
    "    - Suggested refence to Genbank\n",
    "    \n",
    "3. Samples: samples used, extract preparation and labeling (e.g. NCBI Taxonomy records)\n",
    "    - This section describes the second partner in\n",
    "the hybridization reaction: the labeled nucleic acids that repre-\n",
    "sent the transcripts in the sample. The MIAME ‘sample’ concept\n",
    "represents the biological material (or biomaterial) for which the\n",
    "gene expression profile is being established. This section is\n",
    "divided into three parts which describe the source of the original\n",
    "sample (such as organism taxonomy and cell type) and any bio-\n",
    "logical in vivo or in vitro treatments applied, the technical extrac-\n",
    "tion of the nucleic acids, and their subsequent labeling.\n",
    "    - As the characteristics necessary to accurately define a biologi-\n",
    "cal sample vary greatly from organism to organism, most of the\n",
    "biological sample definition is provided as an adaptable list of\n",
    "‘qualifier, value, source’ triplets (such as ‘strain’, ‘129P1-Lama2 dy ’\n",
    "or ‘ICSGNM’).\n",
    "4. Hybridizations: procedures and parameters\n",
    "    - the laboratory conditions under which the hybridizations were carried out.\n",
    "    - Other than a free-text description of the hybridization protocol,\n",
    "MIAME requires that a number of critical hybridization parame-\n",
    "ters are explicitly specified: choice of hybridization solution\n",
    "(such as salt and detergent concentrations), nature of the block-\n",
    "ing agent, wash procedure, quantity of labeled target used,\n",
    "hybridization time, volume, temperature and descriptions of the\n",
    "hybridization instruments.\n",
    "5. Measurements: images, quantification and specifications\n",
    "    - the\n",
    "original scans of the array (images), \n",
    "    - the microarray quantification matrices based on image analysis\n",
    "    - the finalgene expression matrix after normalization and consolidation from possible replicates.\n",
    "6. Normalization controls: types, values and specifications\n",
    "   The specification of parameters relevant to normalization and control elements. Our proposed standard includes:\n",
    "    - the normalization strategy (spiking, housekeeping genes, total array,other approach) \n",
    "    - the normalization and quality control algorithms used\n",
    "    - the identities and location of the array elements serving as controls, as well as their type (spiking, normalization, negative or positive hybridization controls, ‘landing lights’ to assist spotfinding)\n",
    "    - hybridization extract preparation, detailing how the control samples are included in sample targets prior to hybridization.\n",
    "    \n",
    "-------------"
   ]
  },
  {
   "cell_type": "markdown",
   "metadata": {
    "deletable": true,
    "editable": true
   },
   "source": [
    "<h4> Explain Biopax </h4>\n",
    "\n",
    "* Represent biological pathway concepts so that they can be analyzed by machines\n",
    "* Uses an XML standard (OWL)\n",
    "\n",
    "\n",
    "<img src=\"https://github.com/BadrulAlom/Data-Science-Notes/raw/master/_img/bio/bio092.png\" height=\"100\" width=\"500\">\n",
    "\n",
    "\n",
    "Example answer:\n",
    "* a protein that can be phosphorylated at two amino acid positions (position 308 and 473)\n",
    "* shows an enzyme (PDK1) that is adding a phosphate onto AKT1 at position 308\n",
    "* Another enzyme PP2A that is removing this phosphate \n"
   ]
  },
  {
   "cell_type": "code",
   "execution_count": null,
   "metadata": {
    "collapsed": true,
    "deletable": true,
    "editable": true
   },
   "outputs": [],
   "source": []
  }
 ],
 "metadata": {
  "kernelspec": {
   "display_name": "Python 3",
   "language": "python",
   "name": "python3"
  },
  "language_info": {
   "codemirror_mode": {
    "name": "ipython",
    "version": 3
   },
   "file_extension": ".py",
   "mimetype": "text/x-python",
   "name": "python",
   "nbconvert_exporter": "python",
   "pygments_lexer": "ipython3",
   "version": "3.5.2+"
  }
 },
 "nbformat": 4,
 "nbformat_minor": 2
}
