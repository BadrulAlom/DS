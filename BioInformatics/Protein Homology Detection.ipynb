{
 "cells": [
  {
   "cell_type": "markdown",
   "metadata": {
    "deletable": true,
    "editable": true
   },
   "source": [
    "<h4>What is homology?</h4>\n",
    "\n",
    "* Two genes are said to be homologous if they have both evolved from a common ancestor \n",
    "* Homology cannot be MEASURED i.e. it is impossible to be 50% HOMOLOGOUS – it is either YES or NO\n",
    "* However, the LIKELIHOOD that two genes are related (i.e. are homologous) can be ESTIMATED"
   ]
  },
  {
   "cell_type": "markdown",
   "metadata": {
    "deletable": true,
    "editable": true
   },
   "source": [
    "<h4>What are the measures of Amino acid similarity</h4>\n",
    "\n",
    "1. Identity\n",
    "2. Similarity in properties (e.g. hydrophobicity or size)\n",
    "3. Similarity in Genetic code (codons)\n",
    "4. Exchange propensities\n",
    "   - Dayhoff Matrix\n",
    "   - BLOSUM Matrix\n",
    "   \n",
    "   \n",
    "---------------"
   ]
  },
  {
   "cell_type": "markdown",
   "metadata": {
    "deletable": true,
    "editable": true
   },
   "source": [
    "<h4>Explain mutation (aka. substitution) matrices</h4>\n",
    "\n",
    "* These are ways of calculating the similarity between two sequences in order to infer evolution\n",
    "* The log-odds scores are used to express the probability of transformation:\n",
    "$$log\\frac{observed freq.}{expected freq.} = log \\frac{prob. \\ of \\ j \\ given \\ i \\ * freq. of\\ i }{freq \\ of\\  j \\ * freq \\ of\\  i}$$\n",
    "\n",
    "<b>PAM</b>\n",
    "\n",
    "The PAM (Point Accepted Mutation) matrix was developed by Margaret Dayhoff in the 1970s. This matrix is calculated by observing the differences in closely related proteins. The PAM1 matrix estimates what rate of substitution would be expected if 1% of the amino acids had changed. Using this logic, Dayhoff derived matrices as high as PAM250. \n",
    "\n",
    "A matrix for more distantly related sequences can be calculated from a matrix for closely related sequences by taking the second matrix to a power. For instance, we can roughly approximate the WIKI2 matrix from the WIKI1 matrix by saying W 2 = W 1 2 W_{2}=W_{1}^{2}} W_{2}=W_{1}^{2} where W 1 {\\displaystyle W_{1}} W_1 is WIKI1 and W 2 {\\displaystyle W_{2}} W_2 is WIKI2. This is how the PAM250 matrix is calculated.\n",
    "\n",
    "<b>BLOSUM</b>\n",
    "\n",
    "Dayhoff's methodology of comparing closely related species turned out not to work very well for aligning evolutionarily divergent sequences. Sequence changes over long evolutionary time scales are not well approximated by compounding small changes that occur over short time scales. The BLOSUM (BLOck SUbstitution Matrix) series of matrices rectifies this problem. \n",
    "\n",
    "The probabilities used in the matrix calculation are computed by comparing present-day related sequences ton each other, rather than to inferred common ancestors\n",
    "\n",
    "It turns out that the BLOSUM62 matrix does an excellent job detecting similarities in distant sequences, and this is the matrix used by default in most recent alignment applications such as BLAST. A positive score is given to the more likely substitutions while a negative score is given to the less likely substitutions.\n",
    "\n",
    "Differences between PAM and BLOSUM\n",
    "\n",
    "PAM matrices are based on an explicit evolutionary model (i.e. replacements are counted on the branches of a phylogenetic tree), whereas the BLOSUM matrices are based on an implicit model of evolution.\n",
    "\n",
    "The PAM matrices are based on mutations observed throughout a global alignment, this includes both highly conserved and highly mutable regions. The BLOSUM matrices are based only on highly conserved regions in series of alignments forbidden to contain gaps.\n",
    "\n",
    "-------------------------"
   ]
  },
  {
   "cell_type": "markdown",
   "metadata": {
    "collapsed": true,
    "deletable": true,
    "editable": true
   },
   "source": [
    "<h4>Explain Dynamic Programming for global sequence comparison</h4>\n",
    "\n",
    "* Used to compare the similarity in two sequences of possibly different lengths (i.e. allowing gaps where they don't match)\n",
    "* But where sequences are presumed to be related over their entire lengths\n",
    "\n",
    "<img src=\"../_img/bio_2.jpg\" width=\"100\">\n",
    "\n",
    "* Put your two sequences into a matrix - one along the top and the other down the side\n",
    "* Decide how you are going align your sequences - (this means where they don't match you might leave a gap in one so that other portions do match)\n",
    "* This means you could have one of these scenarios:\n",
    "   - Match: The two letters are the same\n",
    "   - Mismatch: The two letters are differential\n",
    "   - Indel (INsertion or DELetion) : One letter aligns to a gap in the other string\n",
    "   \n",
    "There are various ways to score these three scenarios. \n",
    "\n",
    "---------------"
   ]
  },
  {
   "cell_type": "markdown",
   "metadata": {
    "deletable": true,
    "editable": true
   },
   "source": [
    "* Constant penalty: 1 gap, 7 non-gaps, so 7 -1 = 6\n",
    "* Linear Gap Penalty: length of gap =3, so 7 -3 = 4\n",
    "* Affine Gap Penalty: Let A = 1, B=2 so gap cost = A + (B* Gap Length) = 7\n",
    "\n",
    "\n",
    "<h4>NW Global Alignment</h4>\n",
    "* Needleman and Wunsch; matches are given +1, mismatches are given -1 and indels are given -1   \n",
    "\n",
    "<img src=\"../_img/bio_3.jpg\" width=\"500\">\n",
    "\n",
    "<img src=\"../_img/bio_4.jpg\" width=\"500\">"
   ]
  },
  {
   "cell_type": "markdown",
   "metadata": {
    "deletable": true,
    "editable": true
   },
   "source": [
    "<b>The Smith-Waterman Algorithm</b>\n",
    "* The SW algorithm guarantees to find the optimum scoring local\n",
    "alignment between two sequences\n",
    "* The optimum local alignment could be identical to the optimum global\n",
    "alignment\n",
    "* There could be other significant local alignments, but SW will just return\n",
    "the highest scoring one\n",
    "* We can find other significant alignments by masking out the initial SW\n",
    "alignment and re-running the algorithm\n",
    "* Note that SW will only produce a local alignment under certain\n",
    "conditions i.e. with certain score and gap penalty choices e.g. a score\n",
    "matrix without any negative scores is unlikely to result in a local\n",
    "alignment\n",
    "* Necessary conditions for local alignment behaviour are hard to\n",
    "predetermine, but as a rule of thumb, for aligned random sequences,\n",
    "the expectation value of the alignment score should be negative for local\n",
    "behaviour to result."
   ]
  },
  {
   "cell_type": "markdown",
   "metadata": {
    "collapsed": true,
    "deletable": true,
    "editable": true
   },
   "source": [
    "<b>The FASTA method</b>\n",
    "\n",
    "<img src=\"https://github.com/BadrulAlom/Data-Science-Notes/raw/master/_img/bio/bio099.png\" height=\"100\" width=\"300\">\n"
   ]
  },
  {
   "cell_type": "code",
   "execution_count": null,
   "metadata": {
    "collapsed": true
   },
   "outputs": [],
   "source": []
  }
 ],
 "metadata": {
  "kernelspec": {
   "display_name": "Python 3",
   "language": "python",
   "name": "python3"
  },
  "language_info": {
   "codemirror_mode": {
    "name": "ipython",
    "version": 3
   },
   "file_extension": ".py",
   "mimetype": "text/x-python",
   "name": "python",
   "nbconvert_exporter": "python",
   "pygments_lexer": "ipython3",
   "version": "3.5.2+"
  }
 },
 "nbformat": 4,
 "nbformat_minor": 2
}
