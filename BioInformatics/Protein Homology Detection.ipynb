{
 "cells": [
  {
   "cell_type": "markdown",
   "metadata": {},
   "source": [
    "<h4>What is homology?</h4>\n",
    "\n",
    "* Two genes are said to be homologous if they have both evolved from a common ancestor \n",
    "* Homology cannot be MEASURED i.e. it is impossible to be 50% HOMOLOGOUS – it is either YES or NO\n",
    "* However, the LIKELIHOOD that two genes are related (i.e. are homologous) can be ESTIMATED"
   ]
  },
  {
   "cell_type": "code",
   "execution_count": null,
   "metadata": {
    "collapsed": true
   },
   "outputs": [],
   "source": []
  }
 ],
 "metadata": {
  "kernelspec": {
   "display_name": "Python 3",
   "language": "python",
   "name": "python3"
  },
  "language_info": {
   "codemirror_mode": {
    "name": "ipython",
    "version": 3
   },
   "file_extension": ".py",
   "mimetype": "text/x-python",
   "name": "python",
   "nbconvert_exporter": "python",
   "pygments_lexer": "ipython3",
   "version": "3.5.2+"
  }
 },
 "nbformat": 4,
 "nbformat_minor": 2
}
