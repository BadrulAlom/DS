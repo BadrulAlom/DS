{
 "cells": [
  {
   "cell_type": "markdown",
   "metadata": {
    "collapsed": true,
    "deletable": true,
    "editable": true
   },
   "source": [
    "# <center>Genomics</center>\n",
    "\n",
    "\n",
    "----------------"
   ]
  },
  {
   "cell_type": "markdown",
   "metadata": {
    "deletable": true,
    "editable": true
   },
   "source": [
    "<br>[<b>1. Cells</b>](#Cells)\n",
    "<br>[<b>2. DNA to Protein</b>](#DNA)\n",
    "<br>[<b>3. Genes</b>](#Genes)\n",
    "\n"
   ]
  },
  {
   "cell_type": "markdown",
   "metadata": {
    "deletable": true,
    "editable": true
   },
   "source": [
    "<a id='Key questions'></a>\n",
    "<h3 style=\"background-color:#616161;color:white\">0. Key questions</h3>\n",
    "\n",
    "* Name parts of a Eurkaryote cell not found in a Prokaryote\n",
    "\n",
    "* Describe the process of DNA replication. Use diagrams and give as many details as possible; you will gain credit for key terms (eg. Okasaki fragment) well explained.\n",
    "\n",
    "* Explain Transcription\n",
    "\n",
    "* Explain Translation\n",
    "\n",
    "* Name all of the Amino acids that have a different starting letter for their abbreiviations\n",
    "\n",
    "* Describe the classic Sanger DNA sequencing method, including the names of any reagents used. Briefly explain how the method can be adapted to sequence longer stretches of DNA.\n",
    "\n",
    "* Draw and describe the Exon model in the VEIL system\n",
    "\n",
    "* Draw and describe the Intron model in the VEIL system\n",
    "\n",
    "* What is sensitivity & specificity for exons?\n",
    "\n",
    "* Explain SNPs\n",
    "\n",
    "* Which secondary structure is hydrophoic and which is not?\n"
   ]
  },
  {
   "cell_type": "markdown",
   "metadata": {
    "deletable": true,
    "editable": true
   },
   "source": [
    "<a id='Cells'></a>\n",
    "<h3 style=\"background-color:#616161;color:white\">1. Cells</h3>"
   ]
  },
  {
   "cell_type": "markdown",
   "metadata": {
    "deletable": true,
    "editable": true
   },
   "source": [
    "<h4>What are the two types of cells in sexually reproducing animals and plants?</h4>\n",
    "<br><br>\n",
    "Germ cells (transmit generic information from parent to offspring) and Somatic cells (form the body of the organism)\n",
    "\n",
    "------------------"
   ]
  },
  {
   "cell_type": "markdown",
   "metadata": {
    "collapsed": true,
    "deletable": true,
    "editable": true
   },
   "source": [
    "<h4>Describe the two types of cells</h4>\n",
    "<br><br>\n",
    "\n",
    "Ans: \n",
    "\n",
    "Prokaryotic cells \n",
    "- Structurally simple, just cytosol and plasma membrane\n",
    "- Hypothesized to be precursor to Eukaryotic cells\n",
    "- E.g. Bacteria\n",
    "- Genomes are short\n",
    "- High gene density\n",
    "- And so gene identification is relatively easy No introns\n",
    "\n",
    "<br><br>\n",
    "Eukaryotic cells (Plants and Animals)\n",
    "<br><br>\n",
    "- Cells are internally compartmentalized - contain organelles which perform specific job functions such as nucleus and mitochrondia \n",
    "<br><br>\n",
    "- Genomes are long - or open reading frames are long with multiple genes in one without a stop\n",
    "<br><br>\n",
    "- Low density ( less than 50% of DNS contain genes with a biological function)\n",
    "<br><br>\n",
    "- Has introns\n",
    "<br><br>\n",
    "- Gene identification is complex\n",
    "\n",
    "-----------------\n",
    "\n",
    "<h4>List 4 components of a typical human cell that would not be found in the\n",
    "cell of a prokaryote.</h4>\n",
    "\n",
    "Prokaryotic cells:\n",
    "<img src=\"img/img5.png\" width=\"200\">\n",
    "\n",
    "Eukaryotic cell (general):\n",
    "<img src=\"img/img4.png\" width=\"300\">\n",
    "\n",
    "Simplified Animal Eukaryotic cell:\n",
    "<img src=\"img/img6.png\" width=\"300\">\n",
    "\n",
    "* Mitochondria\n",
    "* RER\n",
    "* Lysosome\n",
    "* Golgi apparatus\n",
    "\n",
    "---------------"
   ]
  },
  {
   "cell_type": "markdown",
   "metadata": {
    "deletable": true,
    "editable": true
   },
   "source": [
    "#### Describe the membrane\n",
    "<br><br>\n",
    "* A lipid/protein/carbohydrate structure that provides a barrier and containing transport and signalling systems\n",
    "\n",
    "---------------------\n",
    "\n",
    "#### Describe mitochondria\n",
    "<br><br>\n",
    "* the main energy source of the cell\n",
    "* surrounded by a double membrane\n",
    "* contains its own DNA and is believed to have originated as an external bacterium that has developed a symbiotic relationship\n",
    "\n",
    "---------------------\n",
    "\n",
    "#### Describe the nucleus\n",
    "<br><br>\n",
    "* Houses the chromosomal DNA which is the genetic information store\n",
    "* Surrounded by a double membrane\n",
    "* The nucleus is where RNA is synthesized\n",
    "\n",
    "---------------------\n",
    "\n",
    "\n",
    "#### Describe the Rough endoplasmic reticulum (RER)\n",
    "<br><br>\n",
    "* Where most of the  ribosomes reside (causing the \"rough\" appearance). \n",
    "\n",
    "* Ribosomes: Protein and RNA complex responsible for protein synthesis. \n",
    "\n",
    "\n",
    "-------------"
   ]
  },
  {
   "cell_type": "markdown",
   "metadata": {
    "deletable": true,
    "editable": true
   },
   "source": [
    "<a id='DNA'></a>\n",
    "<h3 style=\"background-color:#616161;color:white\">2. DNA to Protein</h3>"
   ]
  },
  {
   "cell_type": "markdown",
   "metadata": {
    "deletable": true,
    "editable": true
   },
   "source": [
    "<h4>What are the base pairings?</h4>\n",
    "<br><br>\n",
    "Ans:\n",
    "* C with G: the pyrimidine cytosine (C) always pairs with the purine guanine (G)\n",
    "* A with T: the purine adenine (A) always pairs with the pyrimidine thymine (T)\n",
    "\n",
    "----------------"
   ]
  },
  {
   "cell_type": "markdown",
   "metadata": {
    "deletable": true,
    "editable": true
   },
   "source": [
    "<h4>Describe the structure of DNA Helix</h4>\n",
    "\n",
    "Ans:\n",
    "\n",
    "<img src=\"img/img1.png\" width=\"500\">\n",
    "\n",
    "Notes:\n",
    "\n",
    "1. Sugar phosphate + Base = Nucleotide\n",
    "2. Weak sugar-phosphate back bone\n",
    "3. Strong hydrogen bonds between bases\n",
    "4. 5 to 3 prime vs 3 to 5 prime\n",
    "5. Cells build new proteins from RNA (translation). RNA gets copies of the relevent portion of the DNA strand (transcription). All organic cells express their generitc information in this way.\n",
    "6. The hydrogen bonds that link base pairs are weak and hence allow DNA to be split without breakage of their backbones\n",
    "7. DNA is formed from an existing template strand (one half of the DNA) onto which a new strand is bound (other half the DNA)\n",
    "8. A gene is a region of DNA\n",
    "\n",
    "-------------------"
   ]
  },
  {
   "cell_type": "markdown",
   "metadata": {
    "deletable": true,
    "editable": true
   },
   "source": [
    "<h4>What is 5' to 3' and vice-versa?</h4>\n",
    "Ans: \n",
    "- 5 prime (5') to 3 (3') prime is a term biologists use to distinguish between the two halves of a DNA helix. Because one half of the DNA is essentially upside down to the other half, you can number each of the carbon atoms on the sugar 1,2,3,4,5.\n",
    "- The 5 prime carbon is outside the ring structure of the sugar. Depending on which side of the strand you are looking at the 5' prime will either come first in the count or last, and vice-versa for 3'.\n",
    "- DNA Polymerase can only work in the 5' to 3' (leading strand) direction \n",
    "\n",
    "-----------------"
   ]
  },
  {
   "cell_type": "markdown",
   "metadata": {
    "deletable": true,
    "editable": true
   },
   "source": [
    "<h4>Outline the central dogma of molecular biology</h4>\n",
    "<br><br>\n",
    "1. DNA makes RNA makes Protein\n",
    "2. DNA is used to create RNA through transcription\n",
    "3. RNA is used to create Protein through translation\n",
    "4. There are exceptions to this rule: DNA can make functional RNAs that do not become proteins, and RNA can exist in the nucleotide\n",
    "\n",
    "<img src=\"https://github.com/BadrulAlom/Data-Science-Notes/raw/master/_img/bio/bio097.png\" height=\"100\" width=\"400\">\n",
    "\n",
    "\n",
    "------------"
   ]
  },
  {
   "cell_type": "markdown",
   "metadata": {
    "deletable": true,
    "editable": true
   },
   "source": [
    "<h4> Describe the process of DNA replication. Use diagrams and give as many\n",
    "details as possible; you will gain credit for key terms (eg. Okasaki fragment) well explained.\n",
    "</h4>\n",
    "<br><br>\n",
    "Ans:\n",
    "1. DNA replication starts at a certain point of the DNA called the origin\n",
    "5. Helicase - splits the DNA into two\n",
    "6. Primase - lays down primers (RNA) to help the DNA Polymerase.\n",
    "7. DNA Polymerase - adds DNA bases using free nucleotides. Can only work in the 5' to 3' direction, so this means one one hald it can keep zipping forwrd and build on a continuous basis. On the other half it has to wait for enough DNA to have been separated (known as Okazaki fragments), zip backwards, then wait for more to be unzipped. It's therefore not as quick at building as on the continuous side.\n",
    "8. Ligase - glues DNA fragments together\n",
    "\n",
    "Essential Viewing: \n",
    "- https://www.youtube.com/watch?v=G1AoVF3k9Hg\n",
    "- https://www.youtube.com/watch?v=5qSrmeiWsuc\n",
    "\n",
    "<img src=\"img/img2.png\" width=\"600\">\n",
    "\n",
    "------------"
   ]
  },
  {
   "cell_type": "markdown",
   "metadata": {
    "deletable": true,
    "editable": true
   },
   "source": [
    "<b>Explain Transcription (DNA to RNA):</b>\n",
    "\n",
    "Bit like a rollercoaster\n",
    "https://www.youtube.com/watch?v=WsofH466lqk\n",
    "\n",
    "<img src=\"https://github.com/BadrulAlom/Data-Science-Notes/raw/master/_img/bio/bio094.png\" height=\"100\" width=\"200\">\n",
    "\n",
    "1) Initiation – Transcription factors attach themselves to the DNA which then allows RNA polymerase to bind to bind and unzip the double helix\n",
    "\n",
    "2) Elongation\n",
    "* free nucleotides bind to their complementary pairs on the template strand of the DNA elongating the RNA chain \n",
    "* this is identical to the informational strand of DNA, except that the nucleotide thymine (T) in DNA is replaced by uracil (U) in RNA. \n",
    "* The polymerase moves along the DNA in the 3’ to 5’ direction, creating a heavy RNA that's 5’ to 3’.\n",
    "\n",
    "3) Termination – specific sequences in the DNA signal termination of transcription; when one of these is encountered by the polymerase, the RNA transcript (one sided) is released from the DNA and the double helix can zip up again. The transcription from the DNA gives heavy nuclear RNA (hnRNA). It contains transcripts of both introns and exons. \n",
    "<br><br>\n",
    "Note: \n",
    "* Difference with DNA replication: DNA replication occurs in preparation for cell division, while transcription happens in preparation for protein translation. \n",
    "* DNA replication is important for properly regulating the growth and division of cells.  Transcription of DNA is the method for regulating gene expression. \n",
    "\n",
    "* Although all of our cells contain copies of all of our genes, each cell only expresses, or turns on, the genes that are necessary for the functions of that cell. Transcription only occurs when a gene is turned on."
   ]
  },
  {
   "cell_type": "markdown",
   "metadata": {
    "collapsed": true,
    "deletable": true,
    "editable": true
   },
   "source": [
    "#### What is RNA?\n",
    "\n",
    "* Like DNA but the sugar-phosphate backbone has a different sugar: ribose instead of deoxyribose\n",
    "\n",
    "* DNA has the nucleobase T (thymine), RNA has U (uracil)\n",
    "\n",
    "* RNA is almost always single stranded\n",
    "\n",
    "* RNA comes in diffent forms:\n",
    "    - Messenger RNA (mRNA) is transcribed from DNA and\n",
    "translated into protein.\n",
    "\n",
    "- Transfer RNA (tRNA) is a functional molecule used in the process of translation (see later).\n",
    "    \n",
    "------------"
   ]
  },
  {
   "cell_type": "markdown",
   "metadata": {
    "deletable": true,
    "editable": true
   },
   "source": [
    "-----------------\n",
    "\n",
    "<h4>What is splicing?</h4>\n",
    "<br><br>\n",
    "<img src=\"img/img10.png\" width=\"200\">\n",
    "\n",
    "* The original transcription from the DNA gives heavy nuclear RNA (hnRNA). It\n",
    "contains transcripts of both introns and exons. The introns are removed by a process\n",
    "called splicing to produce messenger RNA (mRNA) and the ends of the RNA\n",
    "molecule are processed.\n",
    "\n",
    "* One gene can be spliced in multiple ways (different exon combinations) to produce multiple gene products – this is called alternative splicing. This means that one gene can code for many proteins.\n",
    "\n",
    "* Intro: The non-coding region of a gene\n",
    "* Exon: The coding region of the gene\n",
    "\n",
    "<img src=\"../_img/intronexon.jpg\" width=\"600\">\n",
    "\n",
    "-------------\n",
    "\n",
    "<b>Explain Translation (RNA to Amino acids):</b>\n",
    "\n",
    "https://www.youtube.com/watch?v=5bLEDd-PSTQ\n",
    "\n",
    "<img src=\"https://github.com/BadrulAlom/Data-Science-Notes/raw/master/_img/bio/bio091.png\" height=\"100\" width=\"300\">\n",
    "\n",
    "\n",
    "- Protein synthesis takes place when q small sub-unit of the Ribosome connects with mRNa and moves to the translation initiation site\n",
    "- mRNA is a single stranded string of nucleutide triplets known as codons. Has a unique 3 prime end called the Poly(A) tail.\n",
    "- There are special start codons (usually AUG) and stop codons\n",
    "\n",
    "- A free floating tRNA connects to the mRNA at the P site\n",
    "- It contains an anti-codon that is complementary to the the codon it connects to.\n",
    "- Another tRNA connects at the A site and the anticodon from the first tTRNA gets trannsferred to the second one\n",
    "- The first tRNA exits and the second one moves to the P site where the process repeats\n",
    "- A minimum of 31 tRNA are required to translate, unambiguously, all 61 sense codons of the standard genetic code, due to Wobble-Base pairing\n",
    "\n",
    "\n",
    "\n",
    "---------------"
   ]
  },
  {
   "cell_type": "markdown",
   "metadata": {
    "deletable": true,
    "editable": true
   },
   "source": [
    "<a id='Genes'></a>\n",
    "<h3 style=\"background-color:#616161;color:white\">3. Genes</h3>"
   ]
  },
  {
   "cell_type": "markdown",
   "metadata": {
    "collapsed": true,
    "deletable": true,
    "editable": true
   },
   "source": [
    "#### What is a gene?\n",
    "\n",
    "* A region of DNA that controls a discrete hereditary characteristic, usually corresponding to a single mRNA\n",
    "\n",
    "* In eukaryotes, the genes have their coding sequences (exons) interrupted by non-coding\n",
    "sequences (introns).\n",
    "\n",
    "* In humans, genes constitute only about 2-3% of\n",
    "DNA, the rest is “junk” DNA.\n",
    "\n",
    "------------"
   ]
  },
  {
   "cell_type": "markdown",
   "metadata": {
    "deletable": true,
    "editable": true
   },
   "source": [
    "#### How many chromosomes are there in the human genome?\n",
    "\n",
    "24 (1 to 22 + x & y)\n",
    "\n",
    "---------------"
   ]
  },
  {
   "cell_type": "markdown",
   "metadata": {
    "deletable": true,
    "editable": true
   },
   "source": [
    "<a id='Amino'></a>\n",
    "<h3 style=\"background-color:#616161;color:white\">4. Amino Acids</h3>"
   ]
  },
  {
   "cell_type": "markdown",
   "metadata": {
    "collapsed": true,
    "deletable": true,
    "editable": true
   },
   "source": [
    "<h4>Name all of the Amino acids and their abbreiviations</h4>\n",
    "\n",
    "- Aspartic AciD (Asp) - D: Small, Negative, Charged, Polar\n",
    "- AspargiNe (ASN) - N: Small Polar\n",
    "- ARginine (Arg) - R: Positive, Charged, Polar\n",
    "- Glutamic Acid (Gln)- E: Negative, Charged, Polar\n",
    "- Glutamine (Gin) - Q: Polar\n",
    "- Serine (Ser) - S: Tiny, Polar\n",
    "\n",
    "\n",
    "- Proline (Pro) - P: Small\n",
    "- Lysine (Lys, K): Postive, Charged, Polar, Hydrophobic\n",
    "- Phenylananine (Phe,F): Hydrophobic, Aromatic\n",
    "\n",
    "\n",
    "- Alanine (Ala, A): Tiny, Hydrophobic\n",
    "- Cystenine (Cys, C): Tiny Polar and Small Hydrophobic \n",
    "- Glycine (Gly, G): Tiny, Hydrophobic\n",
    "- Isoleucine (Ile, I) - I: Alpihatic, Hydrophobic\n",
    "- Leucine (Leu,L):  Alpihatic, Hydrophobic\n",
    "- Methonine (Met,M): Hydrophobic\n",
    "- Valine (Val,V): Small, Aliphatic, Hydrophobic\n",
    "\n",
    "\n",
    "- Histidine (His, H): Positive, Charged, Hydropohbic, Polar\n",
    "- Thereonine (Thr, T): Small, Hydrophobic & Polar\n",
    "- Tryptophan (Trp, W): Aromatic, Hydropohbic, Polar\n",
    "- Tyrosine (Tyr,Y): Aromatic, Hydrophobic, Polar\n",
    "\n",
    "\n",
    "\n",
    "\n",
    "\n",
    "\n",
    "\n",
    "------------"
   ]
  },
  {
   "cell_type": "markdown",
   "metadata": {
    "deletable": true,
    "editable": true
   },
   "source": [
    "<h4>Explain how to use the genetic code table too decipher: 5' - acatga aggctctcat tgttctgggg cttgtcctcc tttctgttac  3'. Use single letters to denote amino acids and * to denote stop. </h4>\n",
    "\n",
    "<img src=\"https://github.com/BadrulAlom/Data-Science-Notes/raw/master/_img/bio/bio095.png\" height=\"100\" width=\"400\">\n",
    "\n",
    "\n",
    "* You will remember that when DNA is transcribed into messenger RNA, the sequence of bases remains exactly the same, except that each thymine (T) is replaced by uracil (U)\n",
    "* To use the table the first letter is on the left, next letter is along the top, and the third letter is along the right\n",
    "* Therefore the above sequence would be: T\\*RLSCF etc.\n",
    "* The start codon marks the site at which translation into protein sequence begins, and the stop codon marks the site at which translation ends.\n",
    "* 'Met' (AUG) is also the start codon\n",
    "\n",
    "------------------------------\n",
    "\n",
    "<h4> Explain SNPs</h4>\n",
    "\n",
    "* A single-nucleotide polymorphism (SNP) is a variation in a single nucleotide that occurs at a specific position in the genome. For example, at a specific base position in the human genome, the base C may appear in most individuals, but in a minority of individuals, the position is occupied by base A. \n",
    "\n",
    "* SNPs may fall within the extrons or intron regions of a gene\n",
    "\n",
    "* SNPs within a coding sequence do not necessarily change the amino acid sequence of the protein that is produced, due to degeneracy of the genetic code. \n",
    "* SNPs in the coding region are of two types, synonymous and nonsynonymous SNPs. \n",
    "    - Synonymous SNPs do not affect the protein sequence\n",
    "    - Nonsynonymous SNPs change the amino acid sequence of protein.\n",
    "\n",
    "* A single SNP may cause a Mendelian disease, though for complex diseases, SNPs do not usually function individually, rather, they work in coordination with other SNPs to manifest a disease condition\n",
    "\n",
    "* Correlated mutations may mean one covers up for the other\n",
    "\n",
    "-------------\n",
    "\n",
    "<h4> Explain Correlated mutations in proteins and why multiple sequence alignment is useful here</h4>\n",
    "\n",
    "* Residues in close proximity have a tendency to covary in order to maintain a\n",
    "microenvironment\n",
    "* Changes in one position may be compensated for by a mutation in another position\n",
    "* These structural constraints leave a record within the sequence\n",
    "* By observing patterns of covarying residues in Multiple Sequence Alignments (MSAs) of homologous sequences, you can infer this structural information"
   ]
  },
  {
   "cell_type": "markdown",
   "metadata": {
    "deletable": true,
    "editable": true
   },
   "source": [
    "<h4>Describe secondary structures</h4>\n",
    "\n",
    "https://www.youtube.com/watch?v=O5gN-IK6uKs\n",
    "\n",
    "<img src=\"img/img7.png\" width=\"300\">\n",
    "\n",
    "<b>Alpha-Helix (Hydro-phobic)</b>\n",
    "\n",
    "* An alpha-helix is a tight rod-like helix formed out of a polypeptide chain.\n",
    "* The polypeptide main chain makes up the central structure, and the side chains extend out and away from the helix.\n",
    "* The CO group of one amino acid (n) is hydrogen bonded to the NH group of the amino acid four residues away (n+4):\n",
    "http://www.bio.miami.edu/tom/courses/bil255/bil255goods/03_proteins.htmlAlpha helix \n",
    "* Alpha helices are most commonly made up of hydrophobic amino acids, because hydrogen bonds are generally the strongest attraction possible between such amino acids.\n",
    "* Between one amino acid and the next is a rise of 1.5Å and a turn of 100.\n",
    "* Alpha helices are found in almost all proteins to\n",
    "various extents , e.g. haemoglobin -75% (see Stryer).\n",
    "* Proteins have right-handed helices.\n",
    "\n",
    "<b>Beta-Sheet </b>\n",
    "\n",
    "* A beta pleated sheet is another type of secondary structure. Sheets can either be parallel or anti-\n",
    "parallel.\n",
    "* The individual lines of amino acids within the protein are called strands.\n",
    "* Typically a sheet will have 2-5 parallel or anti-parallel strands.\n",
    "* The axial distance between two amino acids is 3.5Å.\n",
    "\n",
    "--------------\n",
    "\n",
    "<b>Coil (hydrophilic)</b>\n",
    "* Between the alpha helices and beta strands in the protein are loop regions.\n",
    "* These are less regular, although may still have some structure.\n",
    "* Coil tend to end up on the outside of the proteins when the protein folds up to form its full 3D structure (tertiary structure), so they are exposed to water- the loop regions thus tend to\n",
    "be rich in hydrophilic residues (amino acid sidechains)\n",
    "* Coil often ~ binding sites for other molecules.\n",
    "\n"
   ]
  },
  {
   "cell_type": "markdown",
   "metadata": {
    "deletable": true,
    "editable": true
   },
   "source": [
    "<h4> Describe tertiary structures</h4>\n",
    "\n",
    "* The tertiary structure is the way in which the secondary structure elements (e.g. alpha helices) fit together in the full 3D structure.\n",
    "* The protein folds up so that amino acids which are far apart in the linear sequence may be close together in space, forming a domain"
   ]
  },
  {
   "cell_type": "markdown",
   "metadata": {
    "deletable": true,
    "editable": true
   },
   "source": [
    "<a id='Sequencing'></a>\n",
    "<h3 style=\"background-color:#616161;color:white\">3. Sequencing</h3>"
   ]
  },
  {
   "cell_type": "markdown",
   "metadata": {
    "deletable": true,
    "editable": true
   },
   "source": [
    "<h4>Describe the classic Sanger DNA sequencing method, including the names\n",
    "of any reagents used. Briefly explain how the method can be adapted to\n",
    "sequence longer stretches of DNA.</h4>\n",
    "\n",
    "Ans:\n",
    "\n",
    "1. The DNA from the genome is chopped into bits- whole chromosomes are too large to deal with, so the DNA is broken into manageably-sized overlapping segments.\n",
    "2. Use Polymerase Chain Reaction (PCR) to amplify the sample and spread it into 4 test tubes each one of the 4 deoxynucelotides (dATP, dGTP, dCTP, dTTP), plus a primer, plus DNA Polymerase. Crucially one of 4 dideoxyncleuotides (ddATP, ddGTP, ddCTP, and ddTTP) is also added to each test tube\n",
    "3. Mixture is heated to separate the two strands\n",
    "4. The primer then binds to one end of the template strand\n",
    "5. The DNA Polymerase will then start to work and start building on the strand, utilizing the deoxynucelotides as it  goes until such time that it uses the dd version instead of the d version.\n",
    "6. This then causes the build to halt and performed enough times results in DNA sequences of different lengths\n",
    "7. These sequences are then put into separate lanes of gels and elecotropherosis is used to attract the sequences - with thoses that are shorter moving futher\n",
    "8. All this allows the sequence to be inferred\n",
    "\n",
    "\n",
    "Note: \n",
    "* the modern way is to put everything into one test tube and flourescenetly label the dd's for detection, as well as to use lasers to detect\n",
    "* Shotgun sequencing is faster than mapping-based assembly methods, but can have accuracy problems\n",
    "\n",
    "---------------"
   ]
  },
  {
   "cell_type": "markdown",
   "metadata": {},
   "source": [
    "<h4>What are expressed sequence tags?</h4>\n",
    "* Expressed sequence tags (ESTs) are short pieces of sequence data that correspond to mRNAs, found in cells of the organism.\n",
    "* ESTs are produced by purifying mRNA from cells and then using an enzyme called reverse transcriptase to convert these to copy DNA (cDNA). The DNA is then cloned in bacteria and sequenced.\n",
    "* The sequence obtained is usually only short (c. 700 base pairs) and may not be very accurate, but ESTs still provide very useful information.\n",
    "* A weakness of ESTs is that it is very difficult to obtain them for genes which are expressed at a low level/ only under certain conditions, also slow, so\n",
    "* People try to predict where in sequence the genes are.\n",
    "* In prokaryotes, just look for long stretches of DNA without stop codon in any of the 6 reading frames.\n",
    "\n",
    "-------------__"
   ]
  },
  {
   "cell_type": "markdown",
   "metadata": {
    "collapsed": true,
    "deletable": true,
    "editable": true
   },
   "source": [
    "<h4>Looking at the 3rd column of the genetic code table, what might you infer\n",
    "about the specificity of anticodon binding in the ribosome and what is the common name given to this effect?</h4>\n",
    "\n",
    "* Some anticodons can pair with more than one codon due to a phenomenon known as wobble base pairing. \n",
    "\n",
    "* In the genetic code, it is common for a single amino acid to be specified by all four third-position possibilities, for example, the amino acid glycine is coded for by the codon sequences GGU, GGC, GGA, and GGG. \n",
    "\n",
    "* Other modified nucleotides may also appear at the first anticodon position - sometimes known as the \"wobble position\" - resulting in subtle changes to the genetic code, as for example in mitochondria.\n",
    "\n",
    "* To provide a one-to-one correspondence between tRNA molecules and codons that specify amino acids, 61 types of tRNA molecules would be required per cell. However, many cells contain fewer than 61 types of tRNAs because the wobble base is capable of binding to several, though not necessarily all, of the codons that specify a particular amino acid. \n",
    "\n",
    "* A minimum of 31 tRNA are required to translate, unambiguously, all 61 sense codons of the standard genetic code due to Wobble-base pairing.\n",
    "\n",
    "-------\n",
    "\n",
    "<h4>Looking at the amino acid sequence of the anti-bacterial protein, briefly argue for and\n",
    "against this sequence segment coding for a typical transmembrane helix.</h4>\n",
    "\n",
    "* Transmembrane needs to let fluids in and out so shouldn't contain too many hydrophobic proteins\n",
    "\n",
    "-----------"
   ]
  },
  {
   "cell_type": "markdown",
   "metadata": {
    "deletable": true,
    "editable": true
   },
   "source": [
    "<h4>What is a polypeptide?</h4>\n",
    "\n",
    "Polypeptides are just long chains of amino acids linked by\n",
    "peptide bonds ."
   ]
  },
  {
   "cell_type": "markdown",
   "metadata": {
    "deletable": true,
    "editable": true
   },
   "source": [
    "<h4>Explain the following terms: C-value, haploid/diploid, chromosomes</h4>\n",
    "    \n",
    "* C-value: The amount, in picograms, of DNA contained within a haploid nucleus (e.g. a gamete) or one half the amount in a diploid somatic cell of a eukaryotic organism. \n",
    "* Haploid/Diploid: The nucleus of a eukaryotic cell is haploid if it has a single set of chromosomes, each one not being part of a pair. By extension a cell may be called haploid if its nucleus is haploid, and an organism may be called haploid if its body cells (somatic cells) are haploid. The number of chromosomes in a single set is called the haploid number, given the symbol n. Gametes (sperm and ova) are haploid cells. The haploid gametes produced by most organisms combine to form a zygote with n pairs of chromosomes, i.e. 2n chromosomes in total. The chromosomes in each pair, one of which comes from the sperm and one from the egg, are said to be homologous. Cells and organisms with pairs of homologous chromosomes are called diploid. For example, most animals are diploid and produce haploid gametes.\n",
    "* A chromosome is a DNA molecule with part or all of the genetic material (genome) of an organism. Prokaryotes usually have one single circular chromosome, whereas most eukaryotes are diploid, like humans. \n",
    "\n",
    "-----------------"
   ]
  },
  {
   "cell_type": "markdown",
   "metadata": {
    "deletable": true,
    "editable": true
   },
   "source": [
    "<h4> What is a non-coding DNA or RNA sequence</h4>\n",
    "* Components of an organism's DNA that do not encode protein sequences. Some noncoding DNA is transcribed into functional non-coding RNA molecules (e.g. transfer RNA, ribosomal RNA, and regulatory RNAs). Other functions of noncoding DNA include the transcriptional and translational regulation of protein-coding sequences, scaffold attachment regions, origins of DNA replication, centromeres and telomeres.\n",
    "* When there is a lot of non-coding DNA in a species, a large proportion appears to have no biological function,\n",
    "\n",
    "----------------"
   ]
  },
  {
   "cell_type": "markdown",
   "metadata": {
    "deletable": true,
    "editable": true
   },
   "source": [
    "<h4>Describe genes</h4>\n",
    "* Genes are a region of DNA that carry out a specific purpose \n",
    "* Efforts have been made to identify genes out of sequence\n",
    "data.\n",
    "* To find a gene you look for ATG (in DNA) or AUG (in RNA) in the 5' prime to 3' direction then continue going till you either reach the end or a stop\n",
    "* Expressed sequence tags (ESTs) are short pieces of\n",
    "sequence data that correspond to mRNAs found in cells of\n",
    "the organism.\n",
    "* ESTs are produced by purifying mRNA from cells and then\n",
    "using an enzyme called reverse transcriptase to convert\n",
    "these to copy DNA (cDNA). The DNA is then cloned in\n",
    "bacteria and sequenced.\n",
    "* The sequence obtained is usually only short (c. 700 base pairs) and may not be very accurate, but ESTs still provide very useful information\n",
    "* A weakness of ESTs is that it is very difficult to obtain them for genes which are expressed at a low level/\n",
    "only under certain conditions, also slow so people try to predict where in sequence the genes\n",
    "are.\n",
    "• In prokaryotes, just look for long stretches of DNA without stop codon in any of the 6 reading frames.\n",
    "\n",
    "-----------------_"
   ]
  },
  {
   "cell_type": "markdown",
   "metadata": {
    "deletable": true,
    "editable": true
   },
   "source": [
    "<h4>Describe open reading frames</h4>\n",
    "\n",
    "1. open reading frame (ORF) is the part of a reading frame that has the potential to be translated. An ORF is a continuous stretch of codons that do not contain a stop codon (usually UAA, UAG or UGA).\n",
    "2. Given a long sequence of codes you can count the number of open reading frames you find\n",
    "3. In bacteria, open reading frames (ORFs) are pretty much enough to indicate genes, but in eukaryotes finding genes is more complicated, because:\n",
    "    - Eukaryotic DNA (e.g. human DNA) is roughly 97-98% noncoding - in such a large amount, ORFs may exist by chance.\n",
    "    - Eukaryotic DNA contains introns, so finding the start and the end of a gene is not enough- also have to find which bits (introns) to edit out of sequence. Also introns break up open reading frames."
   ]
  },
  {
   "cell_type": "markdown",
   "metadata": {
    "deletable": true,
    "editable": true
   },
   "source": [
    "<h4>Explain signal sensors</h4>\n",
    "* Translation signal: AUG / ATG\n",
    "* Transcription signals\n",
    "* Splicing signals - trying to predict the probability of adjacent positions, in order to predict the end of a gene\n",
    "* Polyadenylation signals - \n",
    "\n",
    "Various pattern recognition methods have been used for detecting signals"
   ]
  },
  {
   "cell_type": "markdown",
   "metadata": {
    "deletable": true,
    "editable": true
   },
   "source": [
    "<h4>What is the VEIL system?</h4>\n",
    "* VEIL (the Viterbi Exon-Intron Locator) uses a custom-designed hidden Markov model (HMM) to find genes in eukaryotic DNA.\n",
    "* The VEIL system is an HMM that incorporates several distinct, small HMMs that model information within exons, introns, intergenic regions, and splice functions\n",
    "* It uses the Expectation Maximization (EM) algorithm to train all its models\n"
   ]
  },
  {
   "cell_type": "markdown",
   "metadata": {
    "deletable": true,
    "editable": true
   },
   "source": [
    "<h4>Draw and describe the Exon model in the VEIL system </h4>\n",
    "\n",
    "Exon and Introns are features of DNA, whereas codons are features of RNA\n",
    " \n",
    "<img src=\"../_img/veil.jpg\" width=\"500\">\n",
    "\n",
    "* Each arrow represents a probability\n",
    "* Three columns represent each position of a codon\n",
    "* Can be entered either after a start codon, or after a 3-splice model\n",
    "* Note A and G are repeated twice in the last column in order to model stop codons that forec it to exit the model\n",
    "* Alternatively it can exit through the 5' splice site in which case an intron must follow the exon\n",
    "* The blank states are used to encode 'any base' as splice junctions need not respect codon boundaries\n",
    "* It also encodes Donor splice sites (length 9 nucelutides in length) - The exon/intron boundary occurs between stages 4-9 and the sequence must pass through it to get from exon to intron\n",
    "* Acceptor sites (15 nucleutides in length)\n",
    "\n",
    "---------------_"
   ]
  },
  {
   "cell_type": "markdown",
   "metadata": {
    "deletable": true,
    "editable": true
   },
   "source": [
    "<h4>Draw and describe the Intron model in the VEIL system </h4>\n",
    "\n",
    "<img src=\"https://github.com/BadrulAlom/Data-Science-Notes/raw/master/_img/bio/bio096.png\" height=\"100\" width=\"400\">\n",
    "\n",
    "-----------------------"
   ]
  },
  {
   "cell_type": "markdown",
   "metadata": {
    "deletable": true,
    "editable": true
   },
   "source": [
    "<h4> What is sensitivity & specificity for exons?</h4>\n",
    "* Sensitivity for exons = correct exons / total exons\n",
    "* Specificity for exons = correct exons / predicted exons\n",
    "\n",
    "-------------_"
   ]
  },
  {
   "cell_type": "markdown",
   "metadata": {
    "deletable": true,
    "editable": true
   },
   "source": [
    "<h4>What are the different approaches for finding genes?</h4>\n",
    "\n",
    "* Similarity-based methods (extrinsic) - uses similarity to known sequences\n",
    "   - Based on matching sequences due to functional constraints\n",
    "   - Use local alignment tools (Smith-Waterman algorithm, BLAST, FASTA) to search protein, cDNA, and EST database \n",
    "   - Will not identify genes that code for proteins not already in databases (can identify ~50% new genes)\n",
    "   - Limits of the regions of similarity not well defined\n",
    "   - Very sensitive to so-called “frame shift errors” (mutations that mean the sequence is no longer divisible by 3)\n",
    "   - “Defunct” genes (pseudogenes) create false positives\n",
    "\n",
    "* Comparative genomics - Aligning genomic sequences from different specified where a lot of the code may be similar\n",
    "   - intra-genomic (gene families): Does this region resemble a region elsewhere in the genome?\n",
    "   - inter-genomic (cross-species): Does this region resemble a region in the genome of another species?\n",
    "   - Alignment of homologous regions\n",
    "   - Difficult to define limits of similarity i.e. start/end points\n",
    "   - “Defunct” genes (pseudogenes) create false positives\n",
    "* Ab initio gene finding (intrinsic) - try to spot statistical patterns\n",
    "   - Using only sequence information\n",
    "   - Identify only coding exons of protein-coding genes (transcription start site, 5’ and 3’ UTRs are ignored)\n",
    "   - Combine statistical analysis of coding regions (biases in the coding sequence) with signal detection (i.e. parsing features in the sequence)\n",
    "   - Statistics can be global (e.g. Humans are 59%A+T) or local (e.g. ATG is almost always the start codon)\n",
    "   Genes are separated by large intergenic regions\n",
    "\n",
    "   Ab inito is hard as:\n",
    "   - Genes are not continuous, but split in a number of (small) coding exons,\n",
    "separated by (larger) non-coding introns\n",
    "   - in humans coding sequence comprise only a few percent of the genome and an average of 5% of each gene\n",
    "   - sequence signals that are essential for elucidation of a gene structure are degenerate and highly unspecific\n",
    "   - Alternative splicing\n",
    "   - Repeat elements (>50% in humans) – some contain coding regions\n",
    "   - No biological evidence\n",
    "   - In long genomic sequences many false positive predictions\n",
    "   - Prediction accuracy high, but not sufficient for full automation\n",
    "\n",
    "* Hybrid approaches\n",
    "\n",
    "-----------------"
   ]
  },
  {
   "cell_type": "markdown",
   "metadata": {
    "collapsed": true,
    "deletable": true,
    "editable": true
   },
   "source": [
    "<h4>What is the Chou Fastman method for predicting secondary structure</h4>\n",
    "\n",
    "* For each aminino acid, look up their liklihood of belonging to a particular secondary structure\n",
    "* Keep going forward until you gain enough confidence - the exact rules for this vary"
   ]
  },
  {
   "cell_type": "code",
   "execution_count": null,
   "metadata": {
    "collapsed": true
   },
   "outputs": [],
   "source": [
    "s"
   ]
  }
 ],
 "metadata": {
  "anaconda-cloud": {},
  "kernelspec": {
   "display_name": "Python 3",
   "language": "python",
   "name": "python3"
  },
  "language_info": {
   "codemirror_mode": {
    "name": "ipython",
    "version": 3
   },
   "file_extension": ".py",
   "mimetype": "text/x-python",
   "name": "python",
   "nbconvert_exporter": "python",
   "pygments_lexer": "ipython3",
   "version": "3.5.2+"
  }
 },
 "nbformat": 4,
 "nbformat_minor": 0
}
