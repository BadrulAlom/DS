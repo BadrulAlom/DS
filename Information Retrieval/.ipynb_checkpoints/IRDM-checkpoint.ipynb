{
 "cells": [
  {
   "cell_type": "markdown",
   "metadata": {},
   "source": [
    "Topics\n",
    "\n",
    "* Boolean\tRetrieval\tand\tVector\tSpace\tModels\n",
    "* Inverted\tIndex\n",
    "* Evaluation\n",
    "* IR\n",
    "* Recommender Systems\n",
    "* Web Search\n",
    "* Mapreduce & Spark\n",
    "* Association Rule Mining\n",
    "* Sentiment analysis\n",
    "* Online behavioral mining"
   ]
  },
  {
   "cell_type": "markdown",
   "metadata": {},
   "source": [
    "<b> What is anchor text</b>\n",
    "\n",
    "* Anchor text is any text that comes after the main domain name that helps locate content\n",
    "    - http://en.wikipedia.org/<b>wiki/Main_Page\">Wikipedia</b>\n",
    "    - https://www.infoq.com/<b>news/2017/03/tensorflow-spark</b>\n",
    "* d \n"
   ]
  },
  {
   "cell_type": "markdown",
   "metadata": {},
   "source": [
    "<h4> Boolean\tRetrieval\tand\tVector\tSpace Models</h4>\n",
    "\n",
    "* Boolean Retrieval: Traditional exact match search (AND, NOT, OR)\n",
    "* Ranked Boolean Retrieval: Same but rank the results at end by freq. of query terms\n",
    "* Both these are too precise or too loose, don't do weighted rankings, and are bad at discriminating the important results\n",
    "* Similarity of doc d to query terms A AND B = $1-\\sqrt{\\frac{(1-d_A)^2+(1-d_B)^2}2}$  \n",
    "* where ($d_A, d_B$ =1 if match, 0 if not)"
   ]
  },
  {
   "cell_type": "markdown",
   "metadata": {},
   "source": [
    "<h4> What is Precision and Recall?</h4>\n",
    "\n",
    "* Precision:\tthe\tnumber\tof\trelevant\tdocuments retrieved\tdivided\tby\tthe\ttotal\tnumber\tof\t\n",
    "documents\tretrieved\t\n",
    "* Recall:\t\tthe\tnumber\tof\trelevant\tdocuments\t retrieved\tdivided\tby\tthe\ttotal\tnumber\tof\texisting\t\n",
    "relevant documents"
   ]
  },
  {
   "cell_type": "code",
   "execution_count": null,
   "metadata": {
    "collapsed": true
   },
   "outputs": [],
   "source": []
  }
 ],
 "metadata": {
  "kernelspec": {
   "display_name": "Python 3",
   "language": "python",
   "name": "python3"
  },
  "language_info": {
   "codemirror_mode": {
    "name": "ipython",
    "version": 3
   },
   "file_extension": ".py",
   "mimetype": "text/x-python",
   "name": "python",
   "nbconvert_exporter": "python",
   "pygments_lexer": "ipython3",
   "version": "3.5.2+"
  }
 },
 "nbformat": 4,
 "nbformat_minor": 2
}
