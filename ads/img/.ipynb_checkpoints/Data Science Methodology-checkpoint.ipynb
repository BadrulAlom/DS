{
 "cells": [
  {
   "cell_type": "markdown",
   "metadata": {},
   "source": [
    "While every data science project presents its own unique challenges there is a methodology that one can apply each time. The following methodology has been formulated by IBM though I shall tweak it where I see necessary.\n",
    "\n",
    "<img src=\"img/methodology.png\" height=\"100\" width=\"200\">"
   ]
  },
  {
   "cell_type": "markdown",
   "metadata": {},
   "source": [
    "### Data Science Methodology\n",
    "\n",
    "1. Understand the Business problem\n",
    "2. Formulate the approach\n",
    "3. "
   ]
  },
  {
   "cell_type": "code",
   "execution_count": null,
   "metadata": {
    "collapsed": false
   },
   "outputs": [],
   "source": [
    "# Badaruls Kaggle Boilerplate code\n",
    "\n",
    "# Essentials\n",
    "import pandas as pd\n",
    "import bokeh as bk\n",
    "from pandas import Series,DataFrame\n",
    "\n",
    "# numpy, matplotlib, seaborn\n",
    "import numpy as np\n",
    "import matplotlib.pyplot as plt\n"
   ]
  },
  {
   "cell_type": "code",
   "execution_count": null,
   "metadata": {
    "collapsed": true
   },
   "outputs": [],
   "source": []
  }
 ],
 "metadata": {
  "anaconda-cloud": {},
  "kernelspec": {
   "display_name": "Python [Root]",
   "language": "python",
   "name": "Python [Root]"
  },
  "language_info": {
   "codemirror_mode": {
    "name": "ipython",
    "version": 3
   },
   "file_extension": ".py",
   "mimetype": "text/x-python",
   "name": "python",
   "nbconvert_exporter": "python",
   "pygments_lexer": "ipython3",
   "version": "3.5.2"
  }
 },
 "nbformat": 4,
 "nbformat_minor": 0
}
