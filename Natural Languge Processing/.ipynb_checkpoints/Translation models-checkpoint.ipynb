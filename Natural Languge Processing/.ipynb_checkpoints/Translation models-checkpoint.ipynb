{
 "cells": [
  {
   "cell_type": "markdown",
   "metadata": {
    "collapsed": true
   },
   "source": [
    "<b>Add-One Smoothing"
   ]
  },
  {
   "cell_type": "markdown",
   "metadata": {},
   "source": [
    "$ p(w|hist) = \\frac {count \\, of\\,(w|h) \\,+1}{count \\,of \\,h\\,+vSize} $"
   ]
  },
  {
   "cell_type": "markdown",
   "metadata": {},
   "source": [
    " c = count of n-gram in corpus<br>\n",
    " n = count of history<br>\n",
    " vSize = vocabulary size<br>\n",
    " \n",
    "<b>Laplace Smoothing"
   ]
  },
  {
   "cell_type": "markdown",
   "metadata": {},
   "source": [
    "$ p(w|hist) = \\frac {count \\, of\\,(w|h) \\,+1}{count \\,of \\,h\\,+1} $"
   ]
  },
  {
   "cell_type": "code",
   "execution_count": null,
   "metadata": {
    "collapsed": true
   },
   "outputs": [],
   "source": []
  }
 ],
 "metadata": {
  "kernelspec": {
   "display_name": "Python [Root]",
   "language": "python",
   "name": "Python [Root]"
  },
  "language_info": {
   "codemirror_mode": {
    "name": "ipython",
    "version": 3
   },
   "file_extension": ".py",
   "mimetype": "text/x-python",
   "name": "python",
   "nbconvert_exporter": "python",
   "pygments_lexer": "ipython3",
   "version": "3.5.2"
  }
 },
 "nbformat": 4,
 "nbformat_minor": 0
}
