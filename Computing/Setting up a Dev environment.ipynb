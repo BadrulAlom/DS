{
 "cells": [
  {
   "cell_type": "markdown",
   "metadata": {
    "collapsed": true
   },
   "source": [
    "<h3>Contents</h3>\n",
    "\n",
    "<br>[<b>Installs</b>](#Installs)\n"
   ]
  },
  {
   "cell_type": "markdown",
   "metadata": {},
   "source": [
    "<a id='Installs'></a>\n",
    "<h3 style=\"background-color:#616161;color:white\">Installs</h3>"
   ]
  },
  {
   "cell_type": "markdown",
   "metadata": {},
   "source": [
    "This tutorial assumes you have just completed a fresh install of Ubuntu and nothing else.\n",
    "\n",
    "1. Install <b>JDK or JSE</b>\n",
    "\t* sudo apt-get install openjdk-8-jdk\n",
    "\n",
    "2. Install <b>Anaconda</b>\n",
    "* https://www.continuum.io/downloads\n",
    "\n",
    "3. Install <b>Spark</b>\n",
    "\t* Download .tar.gz and move to install folder of your choice\n",
    "\t* Run:  tar zxvf spark-2.1.1-bin-hadoop2.7.tgz \n",
    "\n",
    "\n",
    "4. Install <b>PyCharm:</b> \n",
    "* https://www.jetbrains.com/pycharm/download/#section=linux\n",
    "\n",
    "\n",
    "5. Install <b>Dask</b>\n",
    "* conda install dask -c conda-forge\n",
    "\n"
   ]
  },
  {
   "cell_type": "markdown",
   "metadata": {},
   "source": [
    "<a id='EnvironmentSetup'></a>\n",
    "<h3 style=\"background-color:#616161;color:white\">Environment Setup</h3>\n",
    "\n",
    "Here we will set up an environment to work in within Conda. Conda allows several ready-made environments (see url) but we will opt for Tensroflow.\n",
    "\n",
    "To create a new TF conda environment:\n",
    "* conda create --name mainDev tensorflow\n",
    "* See here for other environments: https://docs.continuum.io/anaconda/pkg-docs\n",
    "\n",
    "\n",
    "To activate the environment: \n",
    "* source activate mainDev\n",
    "To deactivate: \n",
    "* source deactivate mainDev\n",
    "\n"
   ]
  },
  {
   "cell_type": "markdown",
   "metadata": {},
   "source": [
    "<a id='Spark'></a>\n",
    "<h3 style=\"background-color:#616161;color:white\">Spark</h3>\n",
    "\n",
    "To run the python spark shell\n",
    "* Go to the main folder\n",
    "* Run ./bin/pyspark"
   ]
  },
  {
   "cell_type": "markdown",
   "metadata": {
    "collapsed": true
   },
   "source": [
    "<a id='DatabaseInstall'></a>\n",
    "<h3 style=\"background-color:#616161;color:white\">Database Install</h3>\n",
    "\n",
    "Rather than going with the coventional choice of MySQL or HeidiSQL here (my preferred up till now) I've decided to give SQL Server 2017 a spin, primarily due to the investment Microsoft are making to integrate it with analytic tools like R and Python. For now it's in preview mode.\n",
    "https://docs.microsoft.com/en-us/sql/linux/sql-server-linux-setup-ubuntu"
   ]
  }
 ],
 "metadata": {
  "kernelspec": {
   "display_name": "Python 3",
   "language": "python",
   "name": "python3"
  },
  "language_info": {
   "codemirror_mode": {
    "name": "ipython",
    "version": 3
   },
   "file_extension": ".py",
   "mimetype": "text/x-python",
   "name": "python",
   "nbconvert_exporter": "python",
   "pygments_lexer": "ipython3",
   "version": "3.6.0"
  }
 },
 "nbformat": 4,
 "nbformat_minor": 2
}
