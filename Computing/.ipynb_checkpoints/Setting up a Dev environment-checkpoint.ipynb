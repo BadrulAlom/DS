{
 "cells": [
  {
   "cell_type": "markdown",
   "metadata": {
    "collapsed": true
   },
   "source": [
    "<h3>Contents</h3>\n",
    "\n",
    "<br>[<b>Installs</b>](#Installs)\n"
   ]
  },
  {
   "cell_type": "markdown",
   "metadata": {},
   "source": [
    "<a id='Installs'></a>\n",
    "<h3 style=\"background-color:#616161;color:white\">Installs</h3>"
   ]
  },
  {
   "cell_type": "markdown",
   "metadata": {},
   "source": [
    "This tutorial assumes you have just completed a fresh install of Ubuntu and nothing else.\n",
    "\n",
    "1. Install <b>JDK or JSE</b>\n",
    "\n",
    "    * Open source version: sudo apt-get install openjdk-8-jdk\n",
    "    \n",
    "    * Official version: sudo apt-get install oracle-java8-installer\n",
    "\n",
    "2. Install the Scala Build Tool: http://www.scala-sbt.org/download.html\n",
    "\n",
    "3. Install <b>Anaconda</b>\n",
    "* https://www.continuum.io/downloads\n",
    "\n",
    "4. Install Docker: https://store.docker.com/editions/community/docker-ce-server-ubuntu\n",
    "\n",
    "5. Install the Hortonworks Sandbox: https://hortonworks.com/downloads/\n",
    "https://hortonworks.com/hadoop-tutorial/setting-spark-development-environment-scala/\n",
    "\n",
    "5. Install <b>PyCharm:</b> \n",
    "    * https://www.jetbrains.com/pycharm/download/#section=linux\n",
    "\n",
    "6. Install emacs\n",
    "\n",
    "7. Install Sqlite Browser:\n",
    "    * sudo add-apt-repository -y ppa:linuxgndu/sqlitebrowser\n",
    "    * sudo apt-get update\n",
    "    * sudo apt-get install sqlitebrowser\n",
    "  \n",
    "8. Install Pendulum on Anaconda\n",
    "    * conda install -c conda-forge pendulum=1.2.4 "
   ]
  },
  {
   "cell_type": "markdown",
   "metadata": {},
   "source": [
    "<a id='Ubuntu on VirtualBox on Windows setup'></a>\n",
    "<h3 style=\"background-color:#616161;color:white\">Ubuntu on VirtualBox on Windows setup</h3>\n",
    "\n",
    "To setup a Tensorflow environment on Conda:\n",
    "* Install Oracle VirtualBox: https://www.liberiangeek.net/2015/06/how-to-install-and-use-virtualbox-on-windows-to-create-ubuntu-guest-machine/\n",
    "* To set up a shared folder:\n",
    "* https://www.howtogeek.com/189974/how-to-share-your-computers-files-with-a-virtual-machine/\n",
    "* sudo usermod -G vboxsf -a username\n",
    "* reboot"
   ]
  },
  {
   "cell_type": "markdown",
   "metadata": {},
   "source": [
    "<a id='EnvironmentSetup'></a>\n",
    "<h3 style=\"background-color:#616161;color:white\">Environment Setup</h3>\n",
    "\n",
    "To setup a Tensorflow environment on Conda:\n",
    "* conda create --name tensorflow python=3.5\n",
    "* source activate tensorflow\n",
    "* conda install jupyter\n",
    "* conda install scipy\n",
    "* conda install tensorflow\n",
    "\n",
    "Note: python=3.5 only needs to be specified so long as TF does not support 3.6\n",
    "Here we will set up an environment to work in within Conda. Conda allows several ready-made environments (see url) but we will opt for Tensroflow.\n",
    "\n",
    "See here for other environments: https://docs.continuum.io/anaconda/pkg-docs"
   ]
  },
  {
   "cell_type": "markdown",
   "metadata": {},
   "source": [
    "<a id='Spark'></a>\n",
    "<h3 style=\"background-color:#616161;color:white\">Spark</h3>\n",
    "\n",
    "To run the python spark shell\n",
    "* Go to the main folder\n",
    "* Run ./bin/pyspark"
   ]
  },
  {
   "cell_type": "markdown",
   "metadata": {},
   "source": [
    "<a id='Gensim'></a>\n",
    "<h3 style=\"background-color:#616161;color:white\">Gensim</h3>\n",
    "\n",
    "* sudo apt-get install python3-dev build-essential\n",
    "\n",
    "then:\n",
    "* sudo pip3 install --upgrade gensim\n"
   ]
  },
  {
   "cell_type": "markdown",
   "metadata": {
    "collapsed": true
   },
   "source": [
    "<a id='DatabaseInstall'></a>\n",
    "<h3 style=\"background-color:#616161;color:white\">Database Install</h3>\n",
    "\n",
    "Rather than going with the coventional choice of MySQL or HeidiSQL here (my preferred up till now) I've decided to give SQL Server 2017 a spin, primarily due to the investment Microsoft are making to integrate it with analytic tools like R and Python. For now it's in preview mode.\n",
    "https://docs.microsoft.com/en-us/sql/linux/sql-server-linux-setup-ubuntu"
   ]
  }
 ],
 "metadata": {
  "anaconda-cloud": {},
  "kernelspec": {
   "display_name": "Python 3",
   "language": "python",
   "name": "python3"
  },
  "language_info": {
   "codemirror_mode": {
    "name": "ipython",
    "version": 3
   },
   "file_extension": ".py",
   "mimetype": "text/x-python",
   "name": "python",
   "nbconvert_exporter": "python",
   "pygments_lexer": "ipython3",
   "version": "3.6.1"
  }
 },
 "nbformat": 4,
 "nbformat_minor": 2
}
