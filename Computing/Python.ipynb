{
 "cells": [
  {
   "cell_type": "markdown",
   "metadata": {},
   "source": [
    "<b>Tuple</b>"
   ]
  },
  {
   "cell_type": "markdown",
   "metadata": {},
   "source": [
    "A tuple is a list with fixed values that cannot be changed."
   ]
  },
  {
   "cell_type": "markdown",
   "metadata": {},
   "source": [
    "Functional Programming Intro\n",
    "https://docs.python.org/2/howto/functional.html"
   ]
  },
  {
   "cell_type": "code",
   "execution_count": 4,
   "metadata": {
    "collapsed": true
   },
   "outputs": [],
   "source": [
    "tup1 = ('physics', 'chemistry', 1997, 2000);\n",
    "tup2 = (1, 2, 3, 4, 5 );\n",
    "tup3 = \"a\", \"b\", \"c\", \"d\";"
   ]
  },
  {
   "cell_type": "markdown",
   "metadata": {
    "collapsed": true
   },
   "source": [
    "| character"
   ]
  },
  {
   "cell_type": "markdown",
   "metadata": {},
   "source": [
    "If the two operands are set types, the '|' operator will return the union of two sets.\n",
    "If both are number then it is a bitwise OR of integers. For example, if one or both of ax or bx are 1, this evaluates to 1, otherwise to 0. It also works on other integers, for example 15 | 128 = 143, i.e. 00001111 | 10000000 = 10001111 in binary"
   ]
  },
  {
   "cell_type": "markdown",
   "metadata": {
    "collapsed": true
   },
   "source": [
    "<b>Common Python Errors</b>"
   ]
  },
  {
   "cell_type": "markdown",
   "metadata": {},
   "source": [
    "<b>TypeError: method() takes 1 positional argument but 2 were given"
   ]
  },
  {
   "cell_type": "markdown",
   "metadata": {},
   "source": [
    "In Python, this:\n",
    "my_object.method(\"foo\")\n",
    "... is syntactic sugar, which the interpreter translates behind the scenes into:\n",
    "MyClass.method(my_object, \"foo\")\n",
    "... which, as you can see, does indeed have two arguments - it's just that the first one is implicit, from the point of view of the caller.\n",
    "This is because most methods do some work with the object they're called on, so there needs to be some way for that object to be referred to inside the method. By convention, this first argument is called self inside the method definition:\n",
    "class MyNewClass:\n",
    "\n",
    "    def method(self, arg):\n",
    "        print(self)\n",
    "        print(arg)\n",
    "If you call method(\"foo\") on an instance of MyNewClass, it works as expected:\n",
    ">>> my_new_object = MyNewClass()\n",
    ">>> my_new_object.method(\"foo\")\n",
    "<__main__.MyNewClass object at 0x29045d0>\n",
    "foo\n",
    "Occasionally (but not often), you really don't care about the object that your method is bound to, and in that circumstance, you can decorate the method with the builtin staticmethod() function to say so:\n",
    "class MyOtherClass:\n",
    "\n",
    "    @staticmethod\n",
    "    def method(arg):\n",
    "        print(arg)\n",
    "... in which case you don't need to add a self argument to the method definition, and it still works:\n",
    ">>> my_other_object = MyOtherClass()\n",
    ">>> my_other_object.method(\"foo\")\n",
    "foo"
   ]
  },
  {
   "cell_type": "markdown",
   "metadata": {},
   "source": [
    "<b>TypeError: 'method' object is not subscriptable</b>"
   ]
  },
  {
   "cell_type": "markdown",
   "metadata": {},
   "source": [
    "You used square brackets when passing a parameter when you should have used round brackets"
   ]
  },
  {
   "cell_type": "markdown",
   "metadata": {
    "collapsed": true
   },
   "source": [
    "<b>TypeError: 'collections.defaultdict' object is not callable"
   ]
  },
  {
   "cell_type": "markdown",
   "metadata": {
    "collapsed": true
   },
   "source": [
    "<b>TypeError: 'str' object is not callable</b> when doing str = str+str(len(str))\n",
    "\n",
    "Don't call you variable 'str'"
   ]
  },
  {
   "cell_type": "markdown",
   "metadata": {
    "collapsed": true
   },
   "source": [
    "Handling timestamps\n",
    "\n",
    "http://stackoverflow.com/questions/21269399/datetime-dtypes-in-pandas-read-csv"
   ]
  },
  {
   "cell_type": "code",
   "execution_count": null,
   "metadata": {
    "collapsed": true
   },
   "outputs": [],
   "source": []
  }
 ],
 "metadata": {
  "anaconda-cloud": {},
  "kernelspec": {
   "display_name": "Python [Root]",
   "language": "python",
   "name": "Python [Root]"
  },
  "language_info": {
   "codemirror_mode": {
    "name": "ipython",
    "version": 3
   },
   "file_extension": ".py",
   "mimetype": "text/x-python",
   "name": "python",
   "nbconvert_exporter": "python",
   "pygments_lexer": "ipython3",
   "version": "3.5.2"
  }
 },
 "nbformat": 4,
 "nbformat_minor": 0
}
