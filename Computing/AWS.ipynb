{
 "cells": [
  {
   "cell_type": "markdown",
   "metadata": {},
   "source": [
    "<b>Advantages of cloud computing</b>\n",
    "<br><br>\n",
    "1) <b>Fixed -> Variable expense:</b> Trade capital expense for variable expense Instead of having to invest heavily in data centers and servers before you know how you’re going to use them, you can pay only when you consume computing resources, and pay only for how much you consume. \n",
    "\n",
    "2) <b>Lower variable cost through economies of scale: </b>Benefit from massive economies of scale By using cloud computing, you can achieve a lower variable cost than you can get on your own. Because usage from hundreds of thousands of customers is aggregated in the cloud, providers such as AWS can achieve higher economies of scale, which translates into lower pay as-you-go prices. \n",
    "\n",
    "3) <b>Extra capacity on demand: </b>Stop guessing about capacity Eliminate guessing on your infrastructure capacity needs. When you make a capacity decision prior to deploying an application, you often end up either sitting on expensive idle resources or dealing with limited capacity. With cloud computing, these problems go away. You can access as much or as little capacity as you need, and scale up and down as required with only a few minutes’ notice. \n",
    "\n",
    "4) <b>Faster development: </b>Increase speed and agility In a cloud computing environment, new IT resources are only a click away, which means that you reduce the time to make those resources available to your developers from weeks to just minutes. This results in a dramatic increase in agility for the organization, since the cost and time it takes to experiment and develop is significantly lower. \n",
    "\n",
    "5)<b>Outsource IT and focus on core: </b>Stop spending money running and maintaining data centers Focus on projects that differentiate your business, not the infrastructure. Cloud computing lets you focus on your own customers, rather than on the heavy lifting of racking, stacking, and powering servers. \n",
    "\n",
    "6)<b>Scalable: </b>Go global in minutes Easily deploy your application in multiple regions around the world with just a few clicks. This means you can provide lower latency and a better experience for your customers at minimal cost"
   ]
  },
  {
   "cell_type": "markdown",
   "metadata": {},
   "source": [
    "<b>Terminology</b>"
   ]
  },
  {
   "cell_type": "markdown",
   "metadata": {},
   "source": [
    "<u>Storage & Content Delivery</u><br>\n",
    "S3 - file storage, like windows explorer\n",
    "<u>Storage & Content Delivery</u><br>"
   ]
  },
  {
   "cell_type": "markdown",
   "metadata": {},
   "source": [
    "<b>CLI</b>\n",
    "The Command Line Interpreter allows a way for developer tools to communicate with AWS.\n",
    "http://docs.aws.amazon.com/cli/latest/userguide/cli-chap-getting-started.html"
   ]
  },
  {
   "cell_type": "markdown",
   "metadata": {
    "collapsed": true
   },
   "source": [
    "MrJob: https://pythonhosted.org/mrjob/guides/quickstart.html\n",
    "\n",
    "Yahoo: https://developer.yahoo.com/hadoop/tutorial/module4.html"
   ]
  },
  {
   "cell_type": "code",
   "execution_count": null,
   "metadata": {
    "collapsed": true
   },
   "outputs": [],
   "source": []
  }
 ],
 "metadata": {
  "anaconda-cloud": {},
  "kernelspec": {
   "display_name": "Python [Root]",
   "language": "python",
   "name": "Python [Root]"
  },
  "language_info": {
   "codemirror_mode": {
    "name": "ipython",
    "version": 3
   },
   "file_extension": ".py",
   "mimetype": "text/x-python",
   "name": "python",
   "nbconvert_exporter": "python",
   "pygments_lexer": "ipython3",
   "version": "3.5.2"
  }
 },
 "nbformat": 4,
 "nbformat_minor": 0
}
