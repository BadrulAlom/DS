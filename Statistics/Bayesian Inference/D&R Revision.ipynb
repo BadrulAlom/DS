{
 "cells": [
  {
   "cell_type": "markdown",
   "metadata": {
    "deletable": true,
    "editable": true
   },
   "source": [
    "<h3>Key concepts</h3>\n",
    "<br>[Essential Concepts](#EssentialConcepts)\n",
    "<br>[Basic Probability](#Basic Probability)\n",
    "<br>[Basic Probability2 2: Risk/Reward](#Basic Probability2)\n",
    "<br>[Change Points](#ChangePoints)\n",
    "\n",
    "<h3>Q & A</h3>\n",
    "<br>[Conjugate Priors](#ConjugatePriors)\n",
    "<br>[Exponential Liklihoods](#Exponential)\n",
    "<br>[Poisson Liklihoods](#Poisson)\n"
   ]
  },
  {
   "cell_type": "markdown",
   "metadata": {
    "deletable": true,
    "editable": true
   },
   "source": [
    "<h4>Useful Latex Math symbols</h4>\n",
    "\n",
    "http://web.ift.uib.no/Teori/KURS/WRK/TeX/symALL.html"
   ]
  },
  {
   "cell_type": "markdown",
   "metadata": {
    "deletable": true,
    "editable": true
   },
   "source": [
    "<a id='EssentialQuestions'></a>\n",
    "<h3 style=\"background-color:#616161;color:white\">Essential Questions</h3>\n",
    "\n",
    "1. What is the posterior function?\n",
    "\n",
    "2. What is the total probability of Y?\n",
    "\n",
    "3. What is the predictive function?\n",
    "\n",
    "4. What does 99% VaR mean?\n",
    "\n",
    "5. What is the Trapezoid rule?\n",
    "\n",
    "6. What does a non-informative prior of Gamma(0,0) mean?\n",
    "\n",
    "7. Give the formulae for an ARCH and GARCH model\n",
    "\n",
    "8. Show that the gamma distribution is a conjugate prior for a poisson\n",
    "\n",
    "9. Show that the gamma distribution is a conjugate prior for an exponential\n",
    "\n",
    "10. Assuming the mean is fixed, show that the inverse gamma is a conjugate prior for an exponential distribution\n"
   ]
  },
  {
   "cell_type": "markdown",
   "metadata": {
    "deletable": true,
    "editable": true
   },
   "source": [
    "<a id='PDFs'></a>\n",
    "<h3 style=\"background-color:#616161;color:white\">Probability Distributions</h3>\n",
    "\n",
    "<h5>Poisson PDF:</h5> \n",
    "$$\\frac {\\lambda ^{Y}}{Y!}e^{-\\lambda }$$ \n",
    "<br><br>\n",
    "$$\\frac {\\lambda ^{\\sum Y}}{nY!}e^{-n \\lambda }$$ where $\\lambda$ is the mean, n is the count of Ys\n",
    "<h5>Binomial PDF:</h5> \n",
    "\n",
    "$$ f(k;n,p)=\\Pr(X=k)={\\binom {n}{k}}p^{k}(1-p)^{n-k}$$\n",
    "$${\\binom {n}{k}}={\\frac {n!}{k!(n-k)!}}$$\n",
    "\n",
    "<h5>Exponential PDF:</h5> \n",
    "$$p(Y|\\lambda) = \\prod^n_{i=1} \\lambda e^{-\\lambda y_i} = \\lambda^n e^{-\\lambda \\sum y}$$\n",
    "\n",
    "where $\\lambda^{-1}$ is the mean and $\\sum$ y  means sum up any y observations you have\n",
    "\n",
    "<h5>Gamma $\\alpha$ and $\\beta$</h5> \n",
    "\n",
    "$\\alpha = E(X)^2 / Var[X] \\quad\\quad$    (Mean squared divided by variance = alpha)\n",
    "\n",
    "$\\beta = E(X)/Var[X] \\quad\\quad$  (Mean divided by variance = beta)\n",
    "\n",
    "$E(X) = \\frac{\\alpha}{\\beta}$\n",
    "$Var(X) = \\frac{\\alpha}{\\beta^2}$\n"
   ]
  },
  {
   "cell_type": "markdown",
   "metadata": {
    "deletable": true,
    "editable": true
   },
   "source": [
    "<a id='EssentialConcepts'></a>\n",
    "<h3 style=\"background-color:#616161;color:white\">Essential Concepts</h3>"
   ]
  },
  {
   "cell_type": "markdown",
   "metadata": {
    "deletable": true,
    "editable": true
   },
   "source": [
    "<h4>What is the posterior function?</h4> \n",
    "\n",
    "Posterior function: p($\\theta$ | Y) where $\\theta$ is parameter is of Y's pdf\n",
    "\n",
    "$$p(\\theta | Y) = \\frac{p(Y|\\theta)p(\\theta)}{p(Y)}$$\n",
    "\n",
    "(Note: Dividing by Y scales it to between 0 and 1)\n",
    "\n",
    "\n",
    "--------------\n",
    "\n",
    "<h4>What is the total probability of y?</h4>\n",
    "$$p (Y) = \\int p(Y|\\theta) p(\\theta) \\quad for \\ all \\ values\\  of \\  \\theta$$\n",
    "\n",
    "\n",
    "<hr>\n",
    "\n",
    "\n",
    "<h4>What is the predictice function? p(future y | previous y)</h4> \n",
    "\n",
    "$$p(\\tilde Y | Y) = \\int p(\\tilde Y | \\theta) p(\\theta | Y) d\\theta$$\n",
    "\n",
    "* What this means is that instead of assuming a single value for $\\theta$ you are integrating over all possible values\n",
    "* But the liklihood portion of this formula is as if $\\theta$ is known\n",
    "* Also note that when you use the liklihood pdf, $\\theta$ represents the parameter of that function, but when you are using the prior distribution, $\\theta$ represents X.  So the two distributions, side by side, are kind of partners with each other, doing different things\n",
    "\n",
    "-------------"
   ]
  },
  {
   "cell_type": "markdown",
   "metadata": {
    "deletable": true,
    "editable": true
   },
   "source": [
    "<h4>Assuming that the mean is fixed show that the inverse gamma is the conjugate prior for a Normal liklihood</h4>\n",
    "\n",
    "\n",
    "$ Normal = \\int\\frac{1}{\\sqrt{2\\pi \\sigma^2}}e^{-\\frac{(x-\\mu)^2}{2\\sigma^2}} \\rightarrow \\frac{1}{\\sqrt{2\\pi \\sigma^2}}\\int (\\sigma^2)^{-1/2} e^{-\\frac{(x-\\mu)^2}{2\\sigma^2}} $\n",
    "\n",
    "$ Gamma: \\frac{\\beta^\\alpha}{\\Gamma(\\alpha)} \\lambda ^{\\alpha-1}e^{-\\beta \\lambda}$\n",
    "\n",
    "$PoissonGamma:$<br>\n",
    "$p(Y|\\lambda)= \\frac {\\lambda ^{\\sum Y}}{nY!}e^{- n\\lambda } \\frac{\\beta^\\alpha}{\\Gamma(\\alpha)} \\lambda ^{\\alpha-1}e^{-\\beta \\lambda}$\n",
    "<br><br>\n",
    "$p(Y|\\lambda)=  \\frac {1}{nY!} \\frac{\\beta^\\alpha}{\\Gamma(\\alpha)} \\lambda ^{ \\alpha + \\sum Y -1}e^{-\\lambda(\\beta + n)}$  \n",
    "<br><br>\n",
    "$p(Y|\\lambda)= Gamma(\\alpha + \\textstyle \\sum Y, \\beta + n)$\n",
    "\n",
    "Note:\n",
    "\n",
    "$\\frac {1}{nY!}$ gets dropped as it would have been in the denominator too had we calculated that\n",
    "\n",
    "The -1 gets dropped as that already part of the Gamma function so you'd be subtracting it twice if you mentioned it in the final Gamma\n",
    "\n",
    "--------------"
   ]
  },
  {
   "cell_type": "markdown",
   "metadata": {
    "deletable": true,
    "editable": true
   },
   "source": [
    "<h4> Show that gamma is the conjugate prior for an Exponential liklihood</h4>\n",
    "\n",
    "$ Exp: \\lambda e^{\\lambda y} \\rightarrow \\lambda^n e^{-\\lambda \\sum y}$\n",
    "\n",
    "$ Gamma: \\frac{\\beta^\\alpha}{\\Gamma(\\alpha)} \\lambda ^{\\alpha-1}e^{-\\beta \\lambda}$\n",
    "\n",
    "$ExpGamma:$\n",
    "$p(Y|\\lambda)= \\lambda^n e^{-\\lambda \\sum y} \\frac{\\beta^\\alpha}{\\Gamma(\\alpha)} \\lambda ^{\\alpha-1}e^{-\\beta \\lambda}$\n",
    "\n",
    "$p(Y|\\lambda)= \\frac{\\beta^\\alpha}{\\Gamma(\\alpha)}\\lambda^{\\alpha+n-1}e^{-\\lambda(\\beta+\\sum y)}$\n",
    "\n",
    "$p(Y|\\lambda)=Gamma(\\alpha+n,\\beta + \\textstyle \\sum y)$\n",
    "\n",
    "------\n",
    "\n",
    "<h4> Show that gamma is the conjugate prior for a Poisson liklihood</h4>\n",
    "\n",
    "\n",
    "$Possion: \\frac {\\lambda ^{k} e^{- \\lambda }}{k!} \\rightarrow \\frac {\\lambda ^{\\sum Y}}{nY!}e^{-n \\lambda }$ \n",
    "where $\\lambda$ is the mean, n is the count of Ys\n",
    "\n",
    "$ Gamma: \\frac{\\beta^\\alpha}{\\Gamma(\\alpha)} \\lambda ^{\\alpha-1}e^{-\\beta \\lambda}$\n",
    "\n",
    "$PoissonGamma:$<br>\n",
    "$p(Y|\\lambda)= \\frac {\\lambda ^{\\sum Y}}{nY!}e^{- n\\lambda } \\frac{\\beta^\\alpha}{\\Gamma(\\alpha)} \\lambda ^{\\alpha-1}e^{-\\beta \\lambda}$\n",
    "<br><br>\n",
    "$p(Y|\\lambda)=  \\frac {1}{nY!} \\frac{\\beta^\\alpha}{\\Gamma(\\alpha)} \\lambda ^{ \\alpha + \\sum Y -1}e^{-\\lambda(\\beta + n)}$  \n",
    "<br><br>\n",
    "$p(Y|\\lambda)= Gamma(\\alpha + \\textstyle \\sum Y, \\beta + n)$\n",
    "\n",
    "Note:\n",
    "\n",
    "$\\frac {1}{nY!}$ gets dropped as it would have been in the denominator too had we calculated that\n",
    "\n",
    "The -1 gets dropped as that already part of the Gamma function so you'd be subtracting it twice if you mentioned it in the final Gamma\n",
    "\n",
    "--------------"
   ]
  },
  {
   "cell_type": "markdown",
   "metadata": {
    "deletable": true,
    "editable": true
   },
   "source": [
    "<h4> What is the trapezoid rule</h4>\n",
    "\n",
    "$$\\int_a^b f(x)dx \\approx (b-a) \\frac{f(a)+f(b)}{2}$$\n",
    "\n",
    "---------------\n",
    "\n",
    "<h4>Explain what is mean by a 99% VaR?</h4>\n",
    "\n",
    "* 99% Value-at-Risk is the probability of losing more than 99% in a single day is 1% (assume 1% unless another value is given)\n",
    "* 99% may sometimes be quantified as an amount too\n",
    "\n",
    "---------------------"
   ]
  },
  {
   "cell_type": "markdown",
   "metadata": {
    "deletable": true,
    "editable": true
   },
   "source": [
    "<h4> What does a non-informative prior gamma(0,0) mean?</h4>\n",
    "\n",
    "* That alpha and beta are 0, so you'll then just add on the observations gamma(0+ n , 0 + s)\n",
    "\n",
    "---------------------"
   ]
  },
  {
   "cell_type": "markdown",
   "metadata": {
    "deletable": true,
    "editable": true
   },
   "source": [
    "<h4> Simplify this</h4>\n",
    "\n",
    "<img src=\"https://github.com/BadrulAlom/Data-Science-Notes/raw/master/_img/dr/dr26.png\" height=\"300\" width=\"200\">\n",
    "\n",
    "\n",
    "Ans:\n",
    "    \n",
    "<img src=\"https://github.com/BadrulAlom/Data-Science-Notes/raw/master/_img/dr/dr27.png\" height=\"300\" width=\"200\">\n",
    "\n",
    "\n",
    "<h4> Simplify this</h4>\n",
    "\n",
    "<img src=\"https://github.com/BadrulAlom/Data-Science-Notes/raw/master/_img/dr/dr28.png\" height=\"300\" width=\"130\">\n",
    "\n",
    "\n",
    "Ans:\n",
    "    \n",
    "<img src=\"https://github.com/BadrulAlom/Data-Science-Notes/raw/master/_img/dr/dr29.png\" height=\"300\" width=\"130\">\n"
   ]
  },
  {
   "cell_type": "markdown",
   "metadata": {
    "deletable": true,
    "editable": true
   },
   "source": [
    "<a id='Exam Tips'></a>\n",
    "<h3 style=\"background-color:#616161;color:white\">Exam Tips</h3>\n",
    "\n",
    "* Show the working out even if you don't get to the final answer. Still worth points.\n",
    "* For VaR/ARCH questions (or any predctive question) if the question then adds in another unknown, chances are you need to do an intergral around your existing integral\n",
    "\n",
    "* Don't forget to write the p(Y) denominator when doing risk questions and don't forget to multiply the top line by the loss and the prior!"
   ]
  },
  {
   "cell_type": "markdown",
   "metadata": {
    "deletable": true,
    "editable": true
   },
   "source": [
    "<a id='ChangePoints'></a>\n",
    "<h3 style=\"background-color:#616161;color:white\">Change Points</h3>"
   ]
  },
  {
   "cell_type": "markdown",
   "metadata": {
    "deletable": true,
    "editable": true
   },
   "source": [
    "<h4> Explain this </h4>\n",
    "<img src=\"https://github.com/BadrulAlom/Data-Science-Notes/raw/master/_img/dr/dr31.png\" height=\"300\" width=\"400\">\n",
    "\n",
    "Line 1:\n",
    "* We wish to estimate the probability of observations y, given a change point $\\tau$. However we don't know where the change point is and we also don't know what the distribution parameter, $\\lambda_1$ up to that change point is (so the prob. distribution to the left of the change point)\n",
    "* The integral is kind of like a loop around the product, it iterates through every possible value of $\\lambda$\n",
    "* and for each one it works out the total probability of seeing the y observations given that lambda for every change point up to $\\tau$\n",
    "* If  $\\lambda$ had been a known value the total probability of seeing y, determnined by the multiplication rules makes sense\n",
    "\n",
    "Line 2-3:\n",
    "* Once we have accepted it's ok to do this, it becomes easier. We substitute in the likihoods and priors and rearrange\n",
    "\n",
    "Line 4:\n",
    "* And then we use the conjugate rule to say what we have can effectively be re-written using the posterior distribution for the conjugate prior. And voila, we have removed $\\lambda$ from the equation leaving only $\\tau$ left to figure out\n",
    "* And because we are left with p(Y| $\\tau$) we can go on to combine it with the prior we have for $\\tau$\n",
    "\n",
    "<img src=\"https://github.com/BadrulAlom/Data-Science-Notes/raw/master/_img/dr/dr32.png\" height=\"300\" width=\"400\">\n",
    "\n",
    "This expression obviously looks horrible but it is easy to evaluate in a language such as R. The important thing is to understand where the various parts come from, particularly how to find the p (Y|$\\tau$) expression\n",
    "\n",
    "* Here though we may ask how we can multiply everything together in the loop within a loop structure\n",
    "* Well, think about what the expression p (τ| Y ) really means. It means that if we plug in τ = k into the formula on the previous page p (τ = k | Y ) , we get the posterior probability that τ = k There are only n − 1 possible locations for the change point τ , i.e. p (τ| Y ) is only non-zero at the values τ = 1 , 2 , . . . , n − 1 The part on the bottom p ( Y ) does not depend on τ - it will be the same regardless of which value of τ we plug in. It is hence just a constant which scales the posterior distribution so that it sums to 1 (as all probability distributions must)\n",
    "* the resulting posterior will not sum to 1. But we can rescale it to sum to 1 by dividing through by the sum of all the numerator values above."
   ]
  },
  {
   "cell_type": "markdown",
   "metadata": {
    "deletable": true,
    "editable": true
   },
   "source": [
    "<a id='Basic Probability'></a>\n",
    "<h3 style=\"background-color:#616161;color:white\">Basic Probability</h3>"
   ]
  },
  {
   "cell_type": "markdown",
   "metadata": {
    "deletable": true,
    "editable": true
   },
   "source": [
    "<h4>What is the prosecutors fallacy and defenders fallacy?</h4>\n",
    "\n",
    "Prosecutors fallacy is when you consider the liklihood but ignore the prior. E.g. if the liklihood of a certain blood type being fouund at the scene of a crime is 1%, and one of the suspects has that blood type, then you conclude there is a 99% chance of the suspect being guity. This is false as it is the prob. of a randomly selected person having the blood type, without regards to the prior probability of a person being guilty.\n",
    "\n",
    "$$p(guilty | blood \\ type \\  match) = \\frac{p(blood \\ type \\ match | guilty)* p(guilty)}{p(blood \\ type  \\ match)}$$\n",
    "\n",
    "\n",
    "Defenders fallacy is when you consider the prior but ignore the liklihood. E.g. If a crime occurred in a city of 800,000 people of which 8,000 had a certain blood type. The fallacy would be to think that the probability of being guilty is therefore 1 in 8000. \n",
    "\n",
    "\n",
    "---------------"
   ]
  },
  {
   "cell_type": "markdown",
   "metadata": {
    "deletable": true,
    "editable": true
   },
   "source": [
    "<h4>Based on past experience, you know that when a large attack (A) occurs, the expert\n",
    "correctly predicts it with probability 0.8. However there is also a 0.4 probability that\n",
    "the expert incorrectly predicts that an attack will occur when in fact no attack occurs.\n",
    "Additionally, your prior p(A) is 0.5\n",
    "Calculate p(A|E).\n",
    "\n",
    "Express p(E) in terms of p(E|T ) and p(E|T')   (T' denotes that event T does not occur).</h4>\n",
    "\n",
    "* p(E) = 0.8 ∗ 0.5 + 0.4 ∗ 0.5 = 0.67\n",
    "* $p(A|E) = \\frac{0.8*0.5}{0.67} = 60\\%$\n",
    "\n",
    "--------------------------------------------------------"
   ]
  },
  {
   "cell_type": "markdown",
   "metadata": {
    "deletable": true,
    "editable": true
   },
   "source": [
    "<h4>\n",
    "A new medical screening test is developed to assess whether a patient\n",
    "has a particular disease. The test is advertised to have the following\n",
    "degrees of accuracy: ”if the patient truly has the disease, then the test\n",
    "will correctly detect this and return a positive result with probability 0.95.\n",
    "If the patient truly does not have the disease, the test will correctly detect\n",
    "this and return a negative result with probability 0.98.\n",
    "Given that 1 in 1000 people in the population have the disease, what is\n",
    "the chance that a person testing positive on the test really has the\n",
    "disease?</h4>\n",
    "\n",
    "Ans:\n",
    "\n",
    "* p(d) = 1/1000 = 0.001\n",
    "* p(pos|d) = 0.95\n",
    "* p(not pos | not d) = 0.98\n",
    "\n",
    "* Therefore: p(d|pos) =  P(pos | d)P(d) / P(pos) = \n",
    "\n",
    "$\\frac{(0.95 * 0.001)}{(0.95 * 0.001 + 0.02 * 0.999)}$ = 0.045 $\\approx$ 0.45%\n",
    "\n",
    "--------------"
   ]
  },
  {
   "cell_type": "markdown",
   "metadata": {
    "deletable": true,
    "editable": true
   },
   "source": [
    "<h4>Q: You are planning a vacation in Italy. Before packing, you hear that there might\n",
    "be an earthquake the day you arrive.\n",
    "After consulting Google, you learn that in recent years there have been (on\n",
    "average) five earthquakes a year in the part of the country you are visiting\n",
    "(ignore leap years). Moreover, you learn that when there is an earthquake, the\n",
    "earthquake forecast service has correctly predicted it 90% of the time. The other\n",
    "10% of the times an earthquake is predicted, the forecast its wrong and there is\n",
    "no earthquake.\n",
    "What is the probability that there will be an earthquake on the day you arrive?</h4>\n",
    "\n",
    "\n",
    "Ans: \n",
    "* e = earthquake, e' = not earthquake,\n",
    "* f = an earthake being forecasted,   f' = an earthquake not being forecasted\n",
    "* p(e) = 5/365 = 0.0137,  p(e') = 1-p(e) = 0.9863\n",
    "* p(f|e) = 0.9,   p(f|e') = 0.1\n",
    "* p(f) = p(f|e)*p(e) + p(f|e')*p(e')       (prob of forecast given earthquake + prob. of forecast given no earthquake)\n",
    "\n",
    "Therefore: p(e|f) = p(f|e)p(e) / p(f) = 0.9*0.0137 / 0.9*0.0137 + 01*0.9863 = 0.11 ~ 11%\n",
    "\n",
    "--------------------"
   ]
  },
  {
   "cell_type": "markdown",
   "metadata": {
    "deletable": true,
    "editable": true
   },
   "source": [
    "<h4>Q: Consider a woman who has a brother with haemophilia, but whose father does\n",
    "not have haemophilia. This implies that her mother must be a carrier of the\n",
    "haemophilia gene on one of her X chromosomes and that her father is not a\n",
    "carrier. The woman herself thus has a fifty-fifty chance of having the gene.\n",
    "The situation involving uncertainty is whether or not the woman carries the\n",
    "haemophilia gene. The parameter of interest θ can take two states:\n",
    "• Carries the gene (θ = 1)\n",
    "• Does not carry the gene (θ = 0).\n",
    "<br><br>\n",
    "1. Write down the prior distribution for θ using the above information.\n",
    "<br>\n",
    "2. The data Y is the number of the woman’s sons who are infected. Suppose\n",
    "she has two sons, neither of whom is affected. Assuming the status of the two\n",
    "sons is independent, write down the likelihood function p(Y |θ) \n",
    "\n",
    "Note: if the woman is\n",
    "not a carrier then her sons cannot be affected, but if she is a carrier they each\n",
    "have a 50% chance of being effected).\n",
    "<br>\n",
    "3. Find the corresponding posterior distribution for θ</h4><br>\n",
    "\n",
    "1) $p(\\theta$ = 0) = 0.5, p($\\theta$ = 1) = 0.5\n",
    "\n",
    "2) \n",
    "<br>\n",
    "The data is that neither son is affected. D = No son  is affected (not infected).\n",
    "<br>Note that we are looking for p(Y) given $\\theta$ is known.\n",
    "<br>\n",
    "p(D|$\\theta$ = 0) = 1 (we know that neither son can get infected if the mother is not a carrier)\n",
    "\n",
    "p(D|$\\theta$ = 1) = 0.5 * 0.5 = 0.25\n",
    "\n",
    "3) \n",
    "<img src=\"https://github.com/BadrulAlom/Data-Science-Notes/raw/master/_img/dr/dr06.png\" height=\"100\" width=\"400\">\n",
    "Note: p(D) = p(D|θ=0)p(θ = 0) + p(D|θ = 1)p(θ = 1) = 1 ∗ 0.5 + 0.25 ∗ 0.5 = 0.625\n",
    "\n",
    "--------------------"
   ]
  },
  {
   "cell_type": "markdown",
   "metadata": {
    "deletable": true,
    "editable": true
   },
   "source": [
    "<H4>Q: Suppose that we believe that the time-between-earthquakes on a particular fault follows an Exponential(0.1) distribution (higher numbers towards beginning then long tail). If an earthquake occurs today, what is the probability of the next earthquake occurring within 10 years?”</H4>\n",
    "\n",
    "* You have the probability function given to you: Exponential (0.1)\n",
    "* The R function pexp(x, lambda) returns the probability of a random variable with the Exponential(λ) distribution having a value <b>less than or equal to</b> x\n",
    "* pexp(10,0.1) = 0.6321206\n",
    "* The probability of the next earthquake happening within 10 years is hence 0.63, or 63%\n",
    "\n",
    "---------------------"
   ]
  },
  {
   "cell_type": "markdown",
   "metadata": {
    "deletable": true,
    "editable": true
   },
   "source": [
    "<h4>Q: The number of fatalities in a terrorist attack follows an exponential distribution with $\\lambda$ = 0.24, what is the probability of more than 10 people dying? </h4>\n",
    "\n",
    "* The probability of more than 10 peple dying would be: 1 minus the probability of less than or equal to 10 dying\n",
    "* =1-pexp(10,0.24) = 0.09071795. Therefore 9% chance.\n",
    "\n",
    "------------------\n",
    "\n",
    "<h4>Q: What would the probability of 30 or more people dying be if the number of attacks increased to 2000 a year?</h4>\n",
    "\n",
    "= 1 - pexp(30,0.24)$^{2000}$ = 0.78\n",
    "\n",
    "So there is a 78 % chance of at least one attack killing 30 or more people\n",
    "\n",
    "--------------------"
   ]
  },
  {
   "cell_type": "markdown",
   "metadata": {
    "deletable": true,
    "editable": true
   },
   "source": [
    "<a id='Basic Probability2'></a>\n",
    "<h3 style=\"background-color:#616161;color:white\">Basic Probability 2: Risk/Reward</h3>"
   ]
  },
  {
   "cell_type": "markdown",
   "metadata": {
    "deletable": true,
    "editable": true
   },
   "source": [
    "<h4>\n",
    "Two coins are placed in a box. One is unbiased, the other has a 70% probability\n",
    "of landing heads. You pick one at random, toss it 5 times, and then need to decide\n",
    "whether the coin you picked is unbiased. \n",
    "<br><br>\n",
    "The losses, associated with i) mistakenly\n",
    "claiming that the unbiased coin is biased, and ii) mistakenly claiming that the biased\n",
    "coin is unbiased, are equal. If the coin is correctly classified as biased/unbiased then\n",
    "there is zero loss. Let action a 0 be claiming the coin is unbiased, and action a 1 be\n",
    "claiming the coin is biased.\n",
    "<br><br>\n",
    "a) Assuming you observe the sequence of tosses Y=HHHTH (where H=Head and\n",
    "T=Tail), write down the posterior risk ratio $R(a_0 |Y )/R(a_1|Y)$, and hence show that\n",
    "action a 1 is optimal in the sense of minimising the risk.\n",
    "<br><br>\n",
    "b) Let $c_0$ denote the cost of mistakenly classifying a biased coin as being unbiased.\n",
    "Also, let $kc_0$ denote the cost of mistakenly classifying an unbiased coin as being\n",
    "biased. For what values of k would it be optimal to classify the coin as unbiased, given\n",
    "the above sequence of tosses?\n",
    "</h4>\n",
    "\n",
    "--------------\n",
    "\n",
    "a)\n",
    "* Need to memorize the binomial formula:\n",
    "* prior is 0.5 for either coing\n",
    "* liklihood is a binomial\n",
    "* need to calculate probability of both coins given evidence and multiply each prob with the associated risk\n",
    "\n",
    "$$P(A) =  \\frac{n!}{(n-k)!k!} * p^kq^{n-k} $$\n",
    "\n",
    "$$R(a_0 | Y) = \\left(\\frac{5!}{(5-4)!4!} * 0.7^4 0.3^{5-4} \\right)*0.5 $$\n",
    "$$R(a_1 | Y) = \\left(\\frac{5!}{(5-4)!4!} * 0.5^4 0.5^{5-4} \\right)*0.5 $$\n",
    "\n",
    "$$=\\frac{0.072*$c_0$}{0.031*$c_1$}=2.32$$\n",
    "\n",
    "Action $a_1$ has lower risk so we say the coin is biased.\n",
    "\n",
    "b) Need to find the point at which the two ratios are equal.\n",
    "$$=\\frac{0.072*$c_0$}{0.031*$kc_0$}=2.32$$\n",
    "\n",
    "So we will classify the coin as unbiased if k > 2.33\n",
    "\n",
    "-----------------"
   ]
  },
  {
   "cell_type": "markdown",
   "metadata": {
    "deletable": true,
    "editable": true
   },
   "source": [
    "<h4>Q: The police believe that a criminal is guilty of theft. A criminal prosecutor has\n",
    "to decide whether the case is worth taking to court. He will take it to court if\n",
    "he believes the person will be convicted of the crime, and not take it to court\n",
    "otherwise (he is more concerned with his own career advancement than with\n",
    "justice!)\n",
    "\n",
    "Based on previous experience, the prosecutor knows that 70% of people who the\n",
    "police believe are guilty of theft get convicted in court. His loss function (based\n",
    "on career considerations) is as follows:\n",
    "\n",
    "<img src=\"https://github.com/BadrulAlom/Data-Science-Notes/raw/master/_img/dr/dr18.png\" height=\"100\" width=\"400\">\n",
    "<br>\n",
    "\n",
    "Based purely on the prosecutor’s prior beliefs, should he take the case to\n",
    "court? (i.e. calculate the risks of both taking to court, and not taking to court)</h4>\n",
    "\n",
    "\n",
    "Ans:\n",
    "\n",
    "* p(guilty) = 0.7,  p(not guilty) = 0.3\n",
    "\n",
    "* Risk if taken to court = p(not guilty)* loss(if not found guity & taken to court) = $0.3 * 5 = 1.5$ \n",
    "\n",
    "* Risk if not taken to court = p(found guilty) * loss(if found guilty) = $0.7 * 1 = 0.7$\n",
    "\n",
    "Risk is lower is not taken to course therefore do not take to court.\n",
    "\n",
    "-----------------\n",
    "\n",
    "<h4>Q: A witness comes forward and claims to have information that will prove the\n",
    "person is guilty. The prosecutor knows that not all witnesses are reliable. Based\n",
    "on previous experience he knows that the probability of getting a conviction with\n",
    "a favourable witness is 0.9. Now that the prosecutor has this witness testimony, compute the risks of both\n",
    "taking to court and not taking to court, and find his optimal decision\n",
    "(hint: treat ”having a witness” as being the y = 1 case).</h4>\n",
    "\n",
    "\n",
    "Ans\n",
    "\n",
    "* After seeing the data, the risk becomes:\n",
    "\n",
    "$$R(a_0 |y) = p(\\theta = \\theta|y)L(\\theta = 0, a_0 )+p(\\theta = 1|y)L(\\theta = 1, a_0 )$$ \n",
    "$$= 0.9 * 0 + 0.1 ∗ 5 = 0.5$$\n",
    "\n",
    "$$R(a_1 |y) = p(\\theta = 0|y)L(\\theta = 0, a_1 )+p(\\theta = 1|y)L(\\theta = 1, a_1 )$$\n",
    "$$= 0.9 ∗ 1+0.1 ∗ 0 = 0.9$$\n",
    "\n",
    "The risk is now minimised by taking to court\n",
    "\n",
    "Note: the calculations in this case are easier than the ones from the lecture\n",
    "because you are given p(θ|y) here, while in the lecture you were only given\n",
    "p(y|θ) and had to use Bayes theorem to find p(θ|y). Make sure you understand\n",
    "the difference! The question stated:\n",
    "”Based on previous experience he knows that the probability of getting a con-\n",
    "viction with a favourable witness is 0.9”\n",
    "i.e. this is telling you p(θ = 0|y) = 0.9 and p(θ = 1|y) = 0.1 directly.without\n",
    "the need for further calculation.\n",
    "\n",
    "\n",
    "-----------------------------"
   ]
  },
  {
   "cell_type": "markdown",
   "metadata": {
    "collapsed": true,
    "deletable": true,
    "editable": true
   },
   "source": [
    "<h4>Q:\n",
    "A manufacturing company knows from previous experience that only 0.3% of batches are bad but also knows that the percentage of defective items in each bad batch varies. They know based on previous experience that it is equal to 0.05 on average, with a standard\n",
    "deviation of 0.01. \n",
    "\n",
    "The loss function is:\n",
    "<img src=\"https://github.com/BadrulAlom/Data-Science-Notes/raw/master/_img/dr/dr07.png\" width=\"150\">\n",
    "\n",
    "where $\\theta = 1$ means batch is bad and $a_0$ is to keep the batch.\n",
    "\n",
    "<br><br>\n",
    "\n",
    "A new batch is tested that contains 3 defective widgets out of 100. Derive the risk associated with both decisions (keeping and scrapping the batch). Assume a Binomial distribution prior.\n",
    "</h4>\n",
    "\n",
    "<b> Priors:</b>\n",
    "\n",
    "p(good batch) = 0.03% = 0.003\n",
    "\n",
    "p(bad batch) = (1-0.003) = 0.97\n",
    "\n",
    "<b> Posteriors:</b>\n",
    "\n",
    "$p(good | y) = \\frac{p(y| good) * p(good)}{p(y)}$\n",
    "\n",
    "\n",
    "<img src=\"https://github.com/BadrulAlom/Data-Science-Notes/raw/master/_img/dr/dr08.png\" width=\"500\">\n",
    "\n",
    "\n",
    "<b>Risk</b>\n",
    "\n",
    "TO BE COMPLETED\n",
    "\n",
    "\n",
    "----------------------"
   ]
  },
  {
   "cell_type": "markdown",
   "metadata": {
    "collapsed": true,
    "deletable": true,
    "editable": true
   },
   "source": [
    "<h4>Suppose that a parameter θ has only two possible values, 1 or 2. A random\n",
    "variable Y is observed with the following distribution:\n",
    "<br><br>\n",
    "$$p(Y|θ = 1) = Gamma(2, 4)$$\n",
    "$$p(Y |θ = 2) = Gamma(6, 8)$$\n",
    "<br>\n",
    "\n",
    "The loss function is:\n",
    "\n",
    "<img src=\"https://github.com/BadrulAlom/Data-Science-Notes/raw/master/_img/dr/dr01.png\" height=\"100\" width=\"150\">\n",
    "Your task is to estimate θ. Let the actions $a_1$ and $a_2$ correspond to claiming that\n",
    "θ = 1 and θ = 2 respectively. \n",
    "<br><br>\n",
    "a) Before observing the observation Y, your prior on θ is p(θ = 1) = 0.75. Compute\n",
    "the risk associated with both actions based only on this prior knowledge, and hence\n",
    "decide which action to take. </h4>\n",
    "\n",
    "For action $a_1$, the risk is: <br>\n",
    "L(θ = 1, $a_1$)p(θ = 1) + L(θ = 0, $a_1$)p(θ = 0)\n",
    "<br>= 0 + 9 ∗ 0.25 = 2.25\n",
    "<br>\n",
    "and for action $a_2$ the risk is:\n",
    "L(θ = 1, $a_2$)p(θ = 1) + L(θ=0, $a_2$)p(θ = 2) \n",
    "<br>\n",
    "= 2 ∗ 0.75 + 0 = 1.5\n",
    "\n",
    "So we would take action $a_2$\n",
    "\n",
    "-----------------------"
   ]
  },
  {
   "cell_type": "markdown",
   "metadata": {
    "deletable": true,
    "editable": true
   },
   "source": [
    "<h4>\n",
    "b) You now observe the value Y = 1. Compute the risk of both actions given this\n",
    "observation, and hence decide which action to take. You may want to use the formula\n",
    "sheet. Note that when n is a positive integer, the Gamma function Γ(n) used in the\n",
    "Gamma distribution is equal to Γ(n) = (n − 1)! = 1 × 2 × ... × (n − 1). Also, recall\n",
    "that 0! = 1.</h4>\n",
    "<br>\n",
    "\n",
    "Notes:\n",
    "* Don't forget to read 'now observe the value Y = 1'\n",
    "* We have to compute posterior probability given that we have observational data\n",
    "* We write out Bayes theorem as shown\n",
    "* 0.29 is calculated as: $\\frac{4^2}{1!}1^{2-1}e^{-6}$\n",
    "* 0.22P(Y) should read 0.22 / p(Y)\n",
    "* $\\frac{0.22}{p(Y)} + \\frac{0.18}{p(Y)} = \\frac{0.4}{p(Y)} =1$\n",
    "* P(Y) = 0.4. Therefore 0.22/0.4 = 55% and 0.18/0.4 = 45%\n",
    "<br>\n",
    "<img src=\"https://github.com/BadrulAlom/Data-Science-Notes/raw/master/_img/dr/dr03.png\" height=\"100\" width=\"500\">\n",
    "\n",
    "\n",
    "------------------------------"
   ]
  },
  {
   "cell_type": "markdown",
   "metadata": {
    "deletable": true,
    "editable": true
   },
   "source": [
    "<a id='ConjugatePriors'></a>\n",
    "<h3 style=\"background-color:#616161;color:white\">Conjugate Priors</h3>"
   ]
  },
  {
   "cell_type": "markdown",
   "metadata": {
    "deletable": true,
    "editable": true
   },
   "source": [
    "2016 Q1:\n",
    "\n",
    "<h4>A company wants to predict the probability of a stock having a negative log return on a particular week. The company has access to the previous 10 weekly log returns of the stock. \n",
    "\n",
    "Let $Y_i$ denote the log return of the stock on week i for\n",
    "i = 1, 2, . . . , 10. \n",
    "<br>\n",
    "$Z_i$ = 0 if $Y_i$ ≥ 0 and $Z_i$ = 1 if $Y_i$ < 0. \n",
    "<br><br>\n",
    "Let: $R = \\sum^{10}_{i=1}{Z_i}$ be the number of weeks with negative log returns in the historical data.\n",
    "<br>\n",
    "Assuming that the $Y_i$ variables are independent and identically distributed, then R has a Binomial(10, $\\theta$). distribution. \n",
    "<br><br>\n",
    "a) explain why the Beta($\\alpha$, $\\beta$) distribution is the conjugate prior for $\\theta$. You do not\n",
    "need to explicitly calculate the integral in the denominator of Bayes theorem.\n",
    "</h4>\n",
    "<h4>\n",
    "b) Show that the posterior distribution p($\\theta|Y_1 , . . . , Y_10$) is Beta($\\alpha + R, \\beta + 10 − R$).\n",
    "You do not need to explicitly calculate the integral in the denominator.\n",
    "<br><br>\n",
    "\n",
    "\n",
    "c)\n",
    "For the remainder of this question use the fact that the Beta function\n",
    "B(α, β) used to define the Beta distribution, is defined as:\n",
    "\n",
    "<img src=\"https://github.com/BadrulAlom/Data-Science-Notes/raw/master/_img/dr/dr02.png\" height=\"100\" width=\"160\">\n",
    "\n",
    "<b>and that when n is a positive integer, $\\Gamma(n) = (n − 1)!$  (i.e. the 'gamma function')</b>\n",
    "\n",
    "<br><br><br>\n",
    "Suppose that 6 of the 10 observed log returns $Y_i$ are negative (i.e. R=6), and\n",
    "that that a uniform Beta(1,1) prior is chosen for the unknown Binomial parameter $\\theta$.\n",
    "Using the Trapezoid rule, compute the probability that $\\theta$ is between 0.5 and 0.6\n",
    "</h4>\n",
    "\n",
    "------------------\n",
    "<h4>d) Again suppose that R = 6 and that a Beta(1,1) prior has been chosen for $\\theta$. \n",
    "<br><br>\n",
    "Show that the predictive distribution:<br>\n",
    "$$p(\\tilde{Z}|R) =\\int  p(\\tilde{Z}|\\theta)p(\\theta|R)d\\theta$$\n",
    "for predicting whether the log return will be negative on a particular week in the\n",
    "future is equal to:<br>\n",
    "$$p(\\tilde{Z}|R) = \\frac{1}{12} \\frac{Γ(7 + \\tilde{Z})Γ(6 − \\tilde{Z})}{Γ(7)Γ(5)}$$\n",
    "\n",
    "where $\\tilde{Z}_i$ is the value of $Z_i$ on the week in question\n",
    "\n",
    "<br>\n",
    "<br>\n",
    "e) Based on the above equation for p($\\tilde{Z}$|R) given in part d), compute the probability\n",
    "of the log return being negative on a particular week in the future.\n",
    "\n",
    "Note that when n is a positive integer, the Gamma function Γ(n) is equal to Γ(n) =\n",
    "(n − 1)! = 1 × 2 × ... × (n − 1). \n",
    "</h4>\n",
    "\n",
    "-------------------_"
   ]
  },
  {
   "cell_type": "markdown",
   "metadata": {
    "deletable": true,
    "editable": true
   },
   "source": [
    "2016 Q1, Ans:\n",
    "\n",
    "a)\n",
    "* The prior is conjugate if it belongs to the same family as the posterior. This will be the case if it matches the likelihood in terms of its dependence on the parameter.\n",
    "* The likelihood (up to proportionality, i.e. ignoring the normalizing part of the binomial formula) is $$\\theta^R (1 − \\theta)^{n−R}$$ The beta distribution matches this form and is hence conjugate.\n",
    "\n",
    "-------------\n",
    "\n",
    "b)\n",
    "Note: Y = R\n",
    "$$p(\\theta|R) ∝ p(R|\\theta)p(\\theta) ∝ \\theta^R (1 − \\theta)^{10−R}\\theta^{α−1}(1 − \\theta)^{β−1}$$\n",
    "\n",
    "$$\\propto \\theta^{R+\\alpha-1} (1 − \\theta)^{\\beta+10−R-1}$$\n",
    "<br>\n",
    "This has the form of a Beta($\\alpha$ + R, $\\beta-1$ 10 − R) distribution\n",
    "\n",
    "Note: The -1 are not needed as they are constants, therefore if you exclude it from across the distribution the probbaility will still be the same\n",
    "\n",
    "----------------\n",
    "\n",
    "c)\n",
    "\n",
    "* Note the question gives the Beta function but this is one components of the Beta distribution - see formula sheet\n",
    "* We have now received results of the observations: Beta (1,1) becomes Beta(1+10-R)= Beta(7, 5).\n",
    "* To calculate the probabilty of Y being less than or equal to any 1 value in this distribution, we need to calculate the probability it is between two points on this posterior Beta distribution.\n",
    "* The <b>first</b> part of the Beta function requires this calculation:<br>\n",
    "\n",
    "$$\\frac{1}{\\frac{\\Gamma(\\alpha)\\Gamma(\\beta)}{\\Gamma(\\alpha+\\beta)}} = 2310$$\n",
    "\n",
    "Note that: Γ(n) = (n − 1)! and remember to multiply that middle row!!!!!!! \n",
    "<br>\n",
    "$$\\int_{0.5}^{0.6}2310*\\theta^6(1-\\theta)^4$$\n",
    "\n",
    "We can approximate above integral using trapezoid rule $\\int_a^b f(x)dx = \\big((f(a) + f(b))(b−a)\\big)/2$\n",
    "\n",
    "In this case we have f(0.5) = 2.26, and f(0.6) = 2.76.\n",
    "So probability is approximately 0.25\n",
    "\n",
    "--------------------\n",
    "\n",
    "d) <span style=\"color:red\">NEEDS REVIEW</span>\n",
    "\n",
    "* Let $\\tilde{\\alpha} = \\alpha$ + R = 7\n",
    "* Let $\\tilde{\\beta} = \\beta$ + 10 - R = 5\n",
    "\n",
    "where $\\tilde{Z}_i$ is the value of $Z_i$ on the week in question\n",
    "\n",
    "\n",
    "<img src=\"https://github.com/BadrulAlom/Data-Science-Notes/raw/master/_img/dr/dr09.png\" height=\"100\" width=\"460\">\n",
    "\n",
    "$$p(\\tilde{Z}|R) = \\frac{1}{12}\\frac{\\Gamma(7+\\tilde Z)\\Gamma(6-\\tilde Z)}{\\Gamma(7)\\Gamma(5)}$$\n",
    "\n",
    "Note: \n",
    "* Predictive posterior = Binomial * Beta\n",
    "* For this last step, know that (a/b)c = (a*c)/b. \n",
    "* The formula we have is a Beta an hence we can replace with the Beta posterior\n",
    "* Also note that the binomial portion is just a constant and can be dropped.\n",
    "\n",
    "* Predictive distribution means predict future values based on what you already know, in this case R\n",
    "* Our beta prior from earlier needs to be updated to take into account the recent observations\n",
    "* As before:\n",
    "* For our liklihood note that in part c, \"a uniform Beta(1,1) prior is chosen for the unknown Binomial parameter\" implies that the liklihood is a Binomial\n",
    "* N=1 because in a single week Z takes on just on either a 0 or 1 value\n",
    "\n",
    "\n",
    "-------------\n",
    "\n",
    "<h4>\n",
    "e)\n",
    "$$\\frac{1}{12}\\frac{\\Gamma(8)\\Gamma(5)}{\\Gamma(7)\\Gamma(5)} = \\frac{7}{12} = 0.58$$\n",
    "\n",
    "----------"
   ]
  },
  {
   "cell_type": "markdown",
   "metadata": {
    "deletable": true,
    "editable": true
   },
   "source": [
    "<a id='Exponential'></a>\n",
    "<h3 style=\"background-color:#616161;color:white\">Exponential Liklihoods</h3>"
   ]
  },
  {
   "cell_type": "markdown",
   "metadata": {
    "deletable": true,
    "editable": true
   },
   "source": [
    "<h4>A city has recently experienced high levels of flooding, and would like to quantify the\n",
    "risk of future floods occurring. Assume that the inter-event times between floods are\n",
    "independent and identically distributed, and follow an Exponential($\\lambda$) distribution.\n",
    "The most recent 5 inter-event times (measured in years) are $Y_1$ = 3.2, $Y_2$ = 5.2,\n",
    "$Y_3$ = 1.1, $Y_4$ = 4.2, $Y_5$ = 3.6. Let $Y = (Y_1 , Y_2 , Y_3 , Y_4 , Y_5$ ) denote this available\n",
    "historical data.\n",
    "<br><br>\n",
    "a) Assuming a Gamma($\\alpha,\\beta$) prior for , show that the posterior distribution\n",
    "also has a Gamma distribution. For the data above, give the parameters of this\n",
    "posterior distribution in terms of $\\alpha$ and $\\beta$\n",
    "</h4>\n",
    "\n",
    "1. $$p(\\lambda | Y)  \\approx \\int p(Y| \\lambda)p(\\lambda) \\approx  \\frac{\\beta^{\\alpha}}{\\Gamma(\\alpha)} \\int \\left( \\lambda^n e^{-\\lambda \\sum{Y}} \\right) \\lambda^{\\alpha-1} e^{-\\beta \\lambda}$$\n",
    "= $Gamma(\\alpha+5, \\beta + 17.3)$\n",
    "\n",
    "Notes:\n",
    "1. The prior is a gamma: $ \\frac{\\beta^{\\alpha}}{\\Gamma(\\alpha)}\\lambda^{\\alpha-1}e^{-\\beta\\lambda}$\n",
    "2. Note that the exponential pdf is: $\\lambda e^{-\\lambda x} $ -- need to memorize this, therefore liklihood: $=\\lambda^ne^{-\\lambda \\sum Y}$\n",
    "3. Putting it together $$\\frac{\\beta^{\\alpha}}{\\Gamma(\\tilde\\alpha)}  p(\\lambda | Y) =\\lambda e^{-\\lambda \\sum Y} \\lambda^{\\alpha-1} e^{-\\beta\\lambda$}$$\n",
    "4. Remember that Y is a set of values here, so we want to take the average probability across these by integrating   (http://www.math.vt.edu/people/qlfang/class_home/Lesson8.pdf)\n",
    "$$=\\frac{\\beta^{\\alpha}}{\\Gamma(\\tilde\\alpha)}  \\int\\lambda e^{-\\lambda \\sum Y} \\lambda^{\\alpha-1} e^{-\\beta\\lambda$}$$\n",
    "\n",
    "7. This resembles the portion of the Gamma function that relies on x (x being $\\lambda$ in this case) where $\\alpha$ - 1 is replaced by n, and $\\beta$ is replaced by 17.5. So we can simply say: $Gamma(\\alpha + 5, \\beta + 17.3i)$ << this i must be a typo surely? Shouldn't be here.\n",
    "\n",
    "----------------\n",
    "\n",
    "<b>b) Using a noninformative Gamma(0,0) prior, write down the expected value of $\\lambda$ given the above data</b>\n",
    "* Expected value = mean\n",
    "* If the prior is non-informative then the posterior is simply the mean you would get from the observations\n",
    "* Under the Gamma(0, 0) prior the posterior is Gamma(5,17.3). The mean is then 5/17.3 = 0.28\n",
    "\n",
    "------------------------------\n",
    "\n",
    "<h4>c) Suppose that the most recent flood occurred today. We would like to predict the time until the next flood. Let $\\hat Y$ denote how many years pass until the next flood. Show that the predictive distribution p( $\\tilde Y |Y)$ is:\n",
    "\n",
    "$$p(\\tilde Y | Y) = \\frac{\\tilde\\beta^{\\tilde\\alpha}}{\\Gamma(\\tilde\\alpha)}\\frac{\\Gamma(\\tilde\\alpha+1)}{\\tilde\\beta+\\tilde Y)^{\\tilde\\alpha+1}}$$\n",
    "where $\\tilde\\alpha$ and $\\tilde\\beta$   are the parameters of the posterior distribution for\n",
    "above data and prior.</h4>\n",
    "\n",
    "* New alpha,  $\\tilde\\alpha$ is 5\n",
    "* New beta, $\\beta$ is 17.3\n",
    "* New addition to alpha, is $\\tilde Y$\n",
    "\n",
    "$$p(\\tilde Y | Y) = \\int p(\\tilde Y | \\lambda) p(\\lambda | Y) d\\lambda$$\n",
    "\n",
    "$$\\int \\lambda e^{-\\lambda \\tilde Y} \\frac{\\tilde \\beta^{\\tilde \\alpha}}{\\Gamma(\\tilde \\alpha)}\\lambda^{\\tilde \\alpha-1}e^{-\\tilde \\beta \\lambda} d\\lambda$$\n",
    "\n",
    "$$\\int^5_0\\frac{17.3^5}{\\Gamma(5)}\\frac{\\Gamma(6)}{17.3+\\tilde Y)^6}d\\tilde Y$$\n",
    "-------------------_"
   ]
  },
  {
   "cell_type": "markdown",
   "metadata": {
    "deletable": true,
    "editable": true
   },
   "source": [
    "<h4>An insurance company offers hurricane insurance. To price the insurance product,\n",
    "the company must estimate the number of hurricanes that occur in a given year. Let\n",
    "$Y_1 , . . . , Y_n$ denote the number of hurricanes that have occurred in each of the previous n years. The company models these as independent and identically distributed Poisson($\\lambda$) random variables, i.e. $Y_i ∼ Poisson(\\lambda)$.\n",
    "<br><br>\n",
    "a) Show that the Gamma($\\alpha, \\beta$) distribution is the conjugate prior for $\\lambda$ (you do not need to evaluate the integral in the denominator of Bayes theorem).</h4>\n",
    "\n",
    "* Start with writing out Bayes theorem (minus the denominator) and substituting both the poisson and gamma functions in:\n",
    "\n",
    "$$p(\\lambda|Y) \\propto p(Y|\\lambda)p(\\lambda) = \\frac{\\lambda^Ye^{-\\lambda}}{Y!} \\frac{\\beta^{\\alpha}}{Γ(\\alpha)}\\lambda^{\\alpha-1}{e^{-\\beta\\lambda}}$$\n",
    "\n",
    "* Then take out the parts that are not dependent on $\\lambda$ as they are just a normalizing factor:\n",
    "\n",
    "$$\\propto  \\lambda^{\\alpha-1}{\\lambda^Ye^{-\\lambda}e^{-\\beta\\lambda}}$$\n",
    "$$\\propto  \\lambda^{\\alpha−1+Y}e^{−\\lambda(\\beta+1)}$$\n",
    "\n",
    "<br>\n",
    "Note: \n",
    "* $-\\lambda -1(-b\\lambda)=-\\lambda + (b\\lambda) $\n",
    "* This is a Gamma($\\alpha + Y, \\beta + 1$) distribution.\n",
    "* This is demonstrating the conjugate prior definition (see above) in action. The posterior is proportional to the liklihood * prior. The denominators are dropped as they only serve a normalization role and don't impact the solution.\n",
    "\n",
    "<h4>\n",
    "b) Write down the posterior distribution of $\\lambda$ given an uninformative Gamma(0,0)\n",
    "prior, and the observations Y$_1$ = 3, Y$_2$ = 0, Y$_3$ = 1, Y$_4$ = 0, Y$_5$ = 4.</h4>\n",
    "\n",
    "Based on the above argument, given $Y_1 to Y_n$ the posterior is Gamma($\\alpha+\\sum Y_i , \\beta + n$).\n",
    "\n",
    "So in this case the posterior is Gamma(0+8,0+5).\n",
    "<br>\n",
    "<h4>\n",
    "c)<br> \n",
    "Derive the predictive distribution:\n",
    "$$p(\\tilde{Y} |Y_1 , . . . , Y_5 ) = \\int p(\\tilde{Y}|\\theta)p(\\theta|Y_1 , . . . , Y_5 )d\\theta$$\n",
    "\n",
    "for predicting the number of hurricanes occurring in a future year, given the prior\n",
    "and data from part b). </h4>\n",
    "<br>\n",
    "<img src=\"https://github.com/BadrulAlom/Data-Science-Notes/raw/master/_img/dr/dr04.png\" height=\"100\" width=\"400\">\n",
    "\n",
    "Explanation:\n",
    "1. In part a, we determined the prob. of a parameter given the observations (i.e. the posterior). Here the parameter in question is $\\hat Y!$. We therefore start by putting this into the formula from A. \n",
    "2. We can move out the non-lambda dependent part of the formula (which is a constant acros the integral). Note how the $\\hat Y!$ denominator gets moved out to become $\\frac{1}{\\hat Y!}$\n",
    "3. This is the gamma distribution - we know the sum of the whole thing comes to 1\n",
    "\n",
    "-----------------------------------"
   ]
  },
  {
   "cell_type": "markdown",
   "metadata": {
    "deletable": true,
    "editable": true
   },
   "source": [
    "<h4>What is the Exponential liklihood function?</h4>\n",
    "\n",
    "$$p(Y|\\lambda) = \\lambda e^{-\\lambda Y}$$\n",
    "\n",
    "----------------"
   ]
  },
  {
   "cell_type": "markdown",
   "metadata": {
    "collapsed": true,
    "deletable": true,
    "editable": true
   },
   "source": [
    "<img src=\"https://github.com/BadrulAlom/Data-Science-Notes/raw/master/_img/dr/dr10.png\" height=\"100\" width=\"700\">\n",
    "<b>\n",
    "<img src=\"https://github.com/BadrulAlom/Data-Science-Notes/raw/master/_img/dr/dr12.png\" height=\"100\" width=\"700\">\n",
    "Answer:\n",
    "<b>\n",
    "<img src=\"https://github.com/BadrulAlom/Data-Science-Notes/raw/master/_img/dr/dr11.png\" height=\"100\" width=\"660\">\n",
    "<b>\n",
    "<img src=\"https://github.com/BadrulAlom/Data-Science-Notes/raw/master/_img/dr/dr13.png\" height=\"100\" width=\"660\">\n",
    "\n",
    "----------------------------------------------------------"
   ]
  },
  {
   "cell_type": "markdown",
   "metadata": {
    "deletable": true,
    "editable": true
   },
   "source": [
    "ICA 2017\n",
    "\n",
    "<h4>A humanitarian charity wishes to classify a village as being at either high or\n",
    "low risk of flooding.  The following historical data on the number of weeks\n",
    "between successive floods is collected:\n",
    "\n",
    "$$Y_1 = 2.65,Y_2= 3.07$$\n",
    "\n",
    "Let $\\theta$ denote the risk status of the village.  If $\\theta$ = 0 then the village is low\n",
    "risk,  and  the $Y_i$’s  are  independent  from  an  Exponential(0.5)  distribution.\n",
    "If $\\theta$=1  then  the  village  is  high  risk  and  the\n",
    "$Y_i$’s  are  independent  from an Exponential(1) distribution.  Both scenarios are considered equally likely\n",
    "prior to collecting the historical data.\n",
    "\n",
    "Let action $a_0$ correspond to classifying the village as low risk, and action a1 correspond  to  classifying  the  village  as  high  risk. Assume the  losses  from misclassification are\n",
    "L($a_0$,$\\theta$= 1) = 5 and L($a_1$,$\\theta$= 0) = 1.  Also,L($a_0$,$\\theta$=0) = 0 and L($a_1$,$\\theta$= 1) = 0.\n",
    "Find the risk associated with both actions, and hence state how the village should be classified.\n",
    "(Note: you should not need to explicitly compute p(Y)\n",
    "</h4>\n",
    "<br>\n",
    "<br>\n",
    "Ans:<br>\n",
    "a)\n",
    "<img src=\"https://github.com/BadrulAlom/Data-Science-Notes/raw/master/_img/dr/dr14.png\" height=\"100\" width=\"600\">\n",
    "<br>\n",
    "So the risks are:\n",
    "$(a_0)$ = 0.93 (or 0.95 if rounding errors) $R(a_1)$ = 0.81$$\n",
    "<br>\n",
    "So we should classify the village as high risk\n",
    "\n",
    "------------------------------------------"
   ]
  },
  {
   "cell_type": "markdown",
   "metadata": {
    "deletable": true,
    "editable": true
   },
   "source": [
    "<b>Question:</b>\n",
    "\n",
    "<img src=\"https://github.com/BadrulAlom/Data-Science-Notes/raw/master/_img/dr/dr15.png\" height=\"100\" width=\"600\">\n",
    "<img src=\"https://github.com/BadrulAlom/Data-Science-Notes/raw/master/_img/dr/dr16.png\" height=\"100\" width=\"600\">\n",
    "<br>\n",
    "<b>Ans:</b>\n",
    "<img src=\"https://github.com/BadrulAlom/Data-Science-Notes/raw/master/_img/dr/dr17.png\" height=\"100\" width=\"600\">"
   ]
  },
  {
   "cell_type": "markdown",
   "metadata": {
    "deletable": true,
    "editable": true
   },
   "source": [
    "<a id='Poisson'></a>\n",
    "<h3 style=\"background-color:#616161;color:white\">Poisson Liklihoods</h3>"
   ]
  },
  {
   "cell_type": "markdown",
   "metadata": {
    "deletable": true,
    "editable": true
   },
   "source": [
    "<h4> A recently formed group of political dissidents have been committing attacks against\n",
    "the government. The number of attacks each year for each of the last six years is:</h4>\n",
    "\n",
    "\n",
    "| Year \t| Num of attacks \t|\n",
    "|------\t|----------------\t|\n",
    "| 2009 \t| 1              \t|\n",
    "| 2010 \t| 0              \t|\n",
    "| 2011 \t| 2              \t|\n",
    "| 2012 \t| 4              \t|\n",
    "| 2013 \t| 3              \t|\n",
    "| 2014 \t| 3              \t|\n",
    "\n",
    "<h4>\n",
    "a) Suppose that the numbers of attacks each year are independent and identically\n",
    "distributed draws from a Poisson distribution with unknown parameter . A security\n",
    "expert specializing in terrorism tells you that she believes that that there will be 2\n",
    "attacks a year on average. She is not completely sure about this, so she would like\n",
    "her prior to have a variance of 2. Find the corresponding values of $\\alpha$ and $\\beta$ for the\n",
    "conjugate Gamma($\\alpha$,$\\beta$) prior that matches this mean and variance (you may want\n",
    "to use the formula sheet).\n",
    "<br><br>\n",
    "b) Using the above prior and data, show that the predictive distribution for predicting how many attacks occur on an arbitrary year in the future Ỹ is:\n",
    "<br><br>\n",
    "$$p(\\tilde Y|Y)\\frac{1}{\\tilde Y!}\\frac{7^{15}}{\\Gamma(15)}\\frac{\\Gamma(15 + \\tilde Y)}{8^{15+ \\tilde Y}} $$\n",
    "<br><br>\n",
    "$$\\tilde Y=0,1,2...$$\n",
    "\n",
    "where Y denotes the 6 observations in the above table\n",
    "</h4>\n",
    "\n",
    "-----------------------\n",
    "\n",
    "a) Formula for deriving $\\alpha$ and $\\beta$ given on the formula sheet\n",
    "$\\alpha = 2^2/2 = 2$ and  $\\beta = 2/2 = 1$\n",
    "\n",
    "b)\n",
    "* Note this is asking for the predictive distribution which means you can use the posterior (no need to bother with proving conjugate and all that)\n",
    "* Predictive distribution  $p(\\tilde Y | Y)$ and unknown $\\lambda =\\int p(\\tilde Y | \\lambda) p(\\lambda | Y)d\\lambda$\n",
    "* $p(\\tilde Y | Y) = \\int Poisson * Gamma (\\alpha + , \\beta +)$\n",
    "\n",
    "* $$p(Y|\\lambda)p(\\lambda) = \\int \\frac{\\lambda^Ye^{-\\lambda}}{Y!} \\frac{\\beta^{\\alpha}}{Γ(\\alpha)}\\lambda^{\\alpha-1}{e^{-\\beta\\lambda}} d\\lambda$$\n",
    "\n",
    "Ok a few clever things have to happen here so listen up:\n",
    "- Slide the top bit of the poisson leaving just a 1 (imagine it had 1 * on the top row to begin with)\n",
    "- We also know that the integral of the gamma must some up to one\n",
    "\n",
    "* $$p(Y|\\lambda)p(\\lambda) =  \\frac{1}{Y!} \\frac{\\beta^{\\alpha}}{Γ(\\alpha)} \\int \\lambda^{\\alpha-1}{e^{-\\beta\\lambda}  \\lambda^Ye^{-\\lambda}} d\\lambda$$\n",
    "\n",
    "* Can't explain the rest - solution is as follows:\n",
    "<img src=\"https://github.com/BadrulAlom/Data-Science-Notes/raw/master/_img/dr/dr21.png\" height=\"100\" width=\"400\">\n",
    "\n",
    "---------------\n"
   ]
  },
  {
   "cell_type": "markdown",
   "metadata": {
    "deletable": true,
    "editable": true
   },
   "source": [
    "<h4>\n",
    "c) Based on the above predictive distribution, compute the probability of there being\n",
    "more than 2 attacks in a given year. Remember that $\\Gamma (n) = (n- 1)!$ when n is an\n",
    "integer.</h4>\n",
    "<br><br>\n",
    "c) \n",
    "\n",
    "The probability of 3 or more attacks is equal to 1 - P(0,1,2 attacks)\n",
    "\n",
    "$$P(x>2|Y) = 1-P(0|Y) + P(1|Y) + P(2|Y)$$\n",
    "\n",
    "Don't forget the 0!\n",
    "<br>\n",
    "Plugging it into the fomula should get you 1- 0.13 - 0.25 - 0.25 = 0.359\n",
    "\n",
    "<br><br>\n",
    "<h4>d) The security expert suspects that there may have been a structural change in how the behavior of the group operated at the end of the year 2011. If this is the case, then it would imply that a change point has occurred in 2011, so that the observations in years 2012-2014 come from a different distribution from those in the\n",
    "years 2009-2011. \n",
    "<br><br>\n",
    "Define the two models:\n",
    "$M_0$: There has been no change point in the behaviour of the group\n",
    "$M_1$ : There was a change point at the end of 2011\n",
    "Assuming that both models are equally likely, and using the same Gamma prior\n",
    "from part a), compute $p(M_i |Y)$ for both models and hence decide whether the data\n",
    "supports the expert’s belief. Note that you should use the prior from part a) in\n",
    "Model $M_0$ , and use the same prior for both segments in Model $M_1$ . Do not consider\n",
    "any other possible change point locations except the one specified in Model $M_1$ .\n",
    "</h4>\n",
    "\n",
    "-----------------\n",
    "\n",
    "* Main coincept here is to just apply the previous fomula but into sets, \n",
    "\n",
    "\n",
    "* $p(M_0|Y ) \\approx p(Y |M_0 )$ \n",
    "* $p(M_1 |Y) \\approx p(Y |M_1)$ since prior is 0.5\n",
    "<b>p(Y|$M_0)$</b>\n",
    "<img src=\"https://github.com/BadrulAlom/Data-Science-Notes/raw/master/_img/dr/dr22.png\" height=\"100\" width=\"280\">\n",
    "\n",
    "<br>\n",
    "<b>p(Y|$M_1)$</b>\n",
    "<img src=\"https://github.com/BadrulAlom/Data-Science-Notes/raw/master/_img/dr/dr23.png\" height=\"100\" width=\"450\">\n",
    "\n"
   ]
  },
  {
   "cell_type": "markdown",
   "metadata": {
    "deletable": true,
    "editable": true
   },
   "source": [
    "<a id='VAR'></a>\n",
    "<h3 style=\"background-color:#616161;color:white\">Value at Risk</h3>"
   ]
  },
  {
   "cell_type": "markdown",
   "metadata": {
    "deletable": true,
    "editable": true
   },
   "source": [
    "<h4>What does 99% VaR mean?</h4>\n",
    "\n",
    "* 99% Value-at-Risk = the amount (or % amount) for which there is a 1% probability of losing in a single day\n",
    "\n",
    "------------------"
   ]
  },
  {
   "cell_type": "markdown",
   "metadata": {
    "deletable": true,
    "editable": true
   },
   "source": [
    "<h4>Give an overview AR, ARCH and GARCH</h4>\n",
    "\n",
    "* Models for time-series forecasting that predict Y by taking into account drift of variance or mean\n",
    "* AR takes into account mean, but often the mean is constant over time and it's the variance that changes\n",
    "* E.g. almost all financial return series obey this pattern where it is the variance that changes over time.\n",
    "* ARCH and GARCH takes into account variance drift \n",
    "\n",
    "-------------\n",
    "\n",
    "<h4>Give the formula for an AR(p) model</h4>\n",
    "\n",
    "$$Y_i = \\beta_0 + (\\beta_1Y_{i-1} + ... \\beta_pY_{i-p} + \\epsilon_i)$$ \n",
    "\n",
    "$$\\epsilon_i \\approx N(0,\\sigma^2)$$\n",
    "\n",
    "\n",
    "* $\\beta_0$ is the mean and allows the formula to be centered around something other than 0\n",
    "* Have used brackets here to help explain the main component of the formula - because its centered around a mean of 0 it will give back a + or - to add to $\\beta_0$\n",
    "* $\\beta_1$ to $\\beta_p$ is the weighting for each of the AR terms. Anything less than 1 means it will revert to $\\beta_0$ over time\n",
    "* $\\epsilon_i$ is random number from a $N(0,\\sigma^2)$ distribution\n",
    "* When p is large the number of parameters starts to get unwieldy. When everything is conjugate, we can still find the posterior easily, but in the non-conjugate case we require numerical integration techniques which are beyond the scope of this module (such as Markov Chain Monte Carlo [MCMC])\n",
    "\n",
    "-------------------\n",
    "<h5>Explain the formula for an ARCH model</h5>\n",
    "* Similar to AR but based on a varying variance not mean\n",
    "* Still predicts y:\n",
    "\n",
    "$$Y_i = \\sigma_i\\epsilon_i$$  \n",
    "\n",
    "$$\\epsilon_i \\approx N(0,\\sigma^2_i)$$\n",
    "\n",
    "* Without the $\\sigma_i$ we would be saying the future value is just some random number taken from the standard normal distribution where the mean is 0.\n",
    "\n",
    "* $\\sigma_i$ comes from\n",
    "$$\\sigma^2_i = \\beta_0 + \\beta_1 Y^2_{i-1}+ \\beta_n Y^2_{n-1}$$\n",
    "\n",
    "\n",
    "* Multiplying it it with $\\sigma^2_i$, which is calculated from previous values, is equivalent to simulating a variance from a N (0 ,$\\sigma^2_i$) distribution, so this becomes a conditional probability (Y | previous variance)\n",
    "* The variance formula here is clever (I think): essentially it's taking an average of the Y values over time, so if you had 2  values higher than 0, and one less than zero, the sum will equal the average of these - so some amount just higher than 0. Treating this average as the variance relies on the mean of Y values being 0.\n",
    "\n",
    "\n",
    "---------------\n",
    "\n",
    "<h5>Explain the formula for a GARCH model</h5>\n",
    "* Same as ARCH but adds on the previous $\\sigma^2_i$ into the formula\n",
    "$$\\sigma^2_i = \\beta_0 + \\beta_1 Y^2_{i-1} + \\beta_2\\sigma^2_{i-1}$$\n",
    "* This is essentially an ARMA(1,1) model applied to variance\n",
    "* The extra term essentially allows high values of the variance to persist for longer over time. This typically results in a better fit to real financial returns data.\n",
    "\n",
    "---------------------"
   ]
  },
  {
   "cell_type": "markdown",
   "metadata": {
    "deletable": true,
    "editable": true
   },
   "source": [
    "<h4>Explain Unconditional and Conditional distributions</h4>\n",
    "\n",
    "* Unconditional distribution is where you take the probability based on multiple simultions of your trending data\n",
    "* Provided the mean of the data is fixed at 0 (the data reverts to the mean) and it's only the variance that changes over time, then we can predict the data,y, at time t using the fact the change in variance will follow a normal distribution:\n",
    "$$Y_i \\approx N(c,\\sqrt{i-1}\\sigma^2)$$ where c is the initial value for y\n",
    "\n",
    "-----------------_"
   ]
  },
  {
   "cell_type": "markdown",
   "metadata": {
    "collapsed": true,
    "deletable": true,
    "editable": true
   },
   "source": [
    "<h4> The log returns of a particular stock have a $N(0,\\sigma^2)$ distribution where the variance $\\sigma^2$ obeys the following ARCH(2) model:\n",
    "<br>\n",
    "$$\\sigma^2_t = \\beta_0 + \\beta_1 Y^2_{t-1} + \\beta_2Y^2_{t-2}$$\n",
    "<br>\n",
    "a) Suppose the log returns on the last 2 days have been $Y_1$ = 0.4 , $Y_2$ = 0.1. Write down an integral expression to compute the 99% Value-at-Risk on day 3, assuming that the ARCH parameters have known values 0 = 0.5, 1 = 0.2 and 2 = 0.1. You do not need to evaluate the integral.\n",
    "</h4>\n",
    "\n",
    "* Plugging the parameters in the variance on day 3 is $0.5  + 0.2 * (-0.1)^2 + 0.1 * (0.4)^2 = 0.518$\n",
    "* 99% Value-at-Risk is the probability of losing more than 99% in a single day is 1%\n",
    "* Our predictive posterior formula gives us p($Y_t$ | history) \n",
    "* We therefore want to find the $Y_t$ where there cumulative prob from left to right reaches 99%\n",
    "* The ans is therefore:\n",
    "\n",
    "$\\int^X_{-\\infty} \\frac{1}{\\sqrt{2\\pi*0.518}} exp(-Y^2/(2*0.518))dY = 0.01$\n",
    "\n",
    "<img src=\"https://github.com/BadrulAlom/Data-Science-Notes/raw/master/_img/dr/dr19.png\" height=\"100\" width=\"400\">"
   ]
  },
  {
   "cell_type": "markdown",
   "metadata": {
    "collapsed": true,
    "deletable": true,
    "editable": true
   },
   "source": [
    "<h4>\n",
    "b)\n",
    "Now suppose that although 0 and 1 are known and equal to the above values, 2\n",
    "is unknown. Bayesian inference has been performed based on some earlier historical\n",
    "data, and the resulting posterior distribution for 2 is 2$\\approx$ N (0.1, 0.2). \n",
    "<br>\n",
    "Write down an integral expression to compute the 99% Value-at-Risk on day 3 based on\n",
    "this posterior distribution. You do not need to evaluate any parts of the integral.</h4>\n",
    "\n",
    "\n",
    "<img src=\"https://github.com/BadrulAlom/Data-Science-Notes/raw/master/_img/dr/dr20.png\" height=\"100\" width=\"800\">\n",
    "\n",
    "--------------------------------"
   ]
  },
  {
   "cell_type": "markdown",
   "metadata": {
    "collapsed": true,
    "deletable": true,
    "editable": true
   },
   "source": [
    "<h4>A financial company located in a vulnerable island community sells flood protection\n",
    "insurance. In order to price this insurance product, they seek to build a statistical\n",
    "model to predict the occurrence of floods. Suppose that the times between successive\n",
    "floods can be modelled by an Exponential distribution with an unknown parameter\n",
    "$\\lambda$ which must be estimated.\n",
    "<br><br>\n",
    "a) Explain what it means for a prior distribution to be conjugate for the parameter\n",
    "being estimated.\n",
    "<br><br>\n",
    "b) Show why the Gamma($\\alpha, \\beta$) distribution has a form which makes it conjugate to\n",
    "$\\lambda$ in this case (you do not need to derive the posterior)\n",
    "<br><br>\n",
    "c) Suppose that the company’s prior belief (based on observing similar island communities) is that floods occur every 20 years on average, with a standard deviation\n",
    "of 5 years. Write down the values of $\\alpha$ and $\\beta$ that would represent this in their\n",
    "Gamma($\\alpha, \\beta$) prior distribution. You may use the fact that if a random variable X\n",
    "follows a Gamma($\\alpha, \\beta$) distribution then:\n",
    "<br><br>\n",
    "$E(X) = \\frac{\\alpha}{\\beta}$\n",
    "$Var(X) = \\frac{\\alpha}{\\beta^2}$\n",
    "<br><br>\n",
    "d) Suppose that the historical record shows that 4 floods have occurred in this com-\n",
    "munity, and that the times between them (in years) are $Y_1 = 10, Y_2 = 22, Y_3 = 19$.\n",
    "Write down the company’s posterior distribution (along with its parameter values)\n",
    "for λ based on this data and the prior from part c)\n",
    "<br><br>\n",
    "e) Give a point estimate $\\hat \\lambda$ for $\\lambda$ under squared error loss (recall that this is the\n",
    "posterior mean)\n",
    "\n",
    "f) Suppose we wish to find a point estimate under the 0-1 loss function. Recall that\n",
    "this corresponds to the posterior mode, i.e. its maximum value. By differentiating\n",
    "the posterior density (or otherwise), show that the maximum occurs at (α − 1)/β and\n",
    "that the point estimate is hence 0.35\n",
    "\n",
    "</h4>\n",
    "<br><br>\n",
    "\n",
    "\n",
    "a) The prior is conjugate for the parameter if it belongs to the same family as the posterior. This will be the case if it matches the likelihood in terms of its dependence on the parameter.\n",
    "\n",
    "b) \n",
    "$$S = \\sum Y$$ \n",
    "\n",
    "$$p(\\lambda|Y) =\\lambda^ne^{-\\lambda S}  \\left(\\frac{\\beta^\\alpha}{\\Gamma(\\alpha)} \\lambda^{\\alpha-1}e^{-\\beta \\lambda} \\right)= \\frac{\\beta^\\alpha}{\\Gamma(\\alpha)}\\lambda^{n+\\alpha-1}e^{-\\lambda(\\beta+S)}$$\n",
    "\n",
    "$=p(\\lambda|Y)=(Gamma(\\alpha + n, \\beta + S)$\n"
   ]
  },
  {
   "cell_type": "markdown",
   "metadata": {
    "deletable": true,
    "editable": true
   },
   "source": [
    "c) \n",
    "\n",
    "$E = 20$ \n",
    "\n",
    "$Std Dev=5$\n",
    "\n",
    "$Var = 25$\n",
    "\n",
    "$\\alpha = (20^2)/(5^2) = 400/25 = 16$\n",
    "\n",
    "$\\beta = 20/25 = 0.8$ \n",
    "\n",
    "d)\n",
    "\n",
    "Gamma(16 + 3, 0.8 + 10 + 22 + 19) = Gamma(19, 51.8)\n",
    "\n",
    "e) Posterior mean = 19 / 51.8 = 0.37"
   ]
  },
  {
   "cell_type": "markdown",
   "metadata": {
    "collapsed": true,
    "deletable": true,
    "editable": true
   },
   "source": [
    "<h4>You are trying to assess the financial health of a pension fund. To do this, you\n",
    "would like to find the maximum annual loss that the fund made over the last 10\n",
    "years. Unfortunately, the fund does not always release its yearly accounts, so the\n",
    "loss that it made during several of these years is not available.\n",
    "Suppose $y_1 , . . . , y_n$ are the observed losses in the years when the company made its\n",
    "account public (i.e. these are the values that you know). These losses are assumed\n",
    "to be independent draws from a Uniform(0, $\\theta$) distribution where $\\theta$ is the unknown\n",
    "upper bound and denotes the maximum loss. Given that\n",
    "$$y_1 ... y_n \\approx Uniform (0,\\theta)$$\n",
    "<br>\n",
    "we seek to estimate θ. Recall from the definition of the Uniform distribution that:\n",
    "<br>\n",
    "$$p(y_i | \\theta ) = \\frac{1}{\\theta}, \\quad 0 < y_i < \\theta $$\n",
    "\n",
    "(a) Show that the likelihood given $y = {y_1 , . . . , y_n }$ can be written as\n",
    "\n",
    "<img src=\"https://github.com/BadrulAlom/Data-Science-Notes/raw/master/_img/dr/dr24.png\" height=\"100\" width=\"300\">\n",
    "\n",
    "</h4>\n",
    "\n",
    "\n",
    "Ans:\n",
    "\n",
    "Note: \n",
    "* 'likelihood given $y = {y_1 , . . . , y_n }$' should be interpreted as 'liklihood that all the observations $y_1$ and $y2$ and ... $y_n$' would occur. Therefore use product rulle of probability not addition.\n",
    "\n",
    "    $$p(y | \\theta) = \\prod^n_{i=1}p(y_i | \\theta) = \\prod^n_{i=1}\\frac{1}{\\theta}I(0 < y_i \\leq \\theta ) = \\theta^{-n} \\prod^n_{i-1} = \\theta^{-n}I(\\theta > max \\ y_i) $$"
   ]
  },
  {
   "cell_type": "markdown",
   "metadata": {
    "deletable": true,
    "editable": true
   },
   "source": [
    "<img src=\"https://github.com/BadrulAlom/Data-Science-Notes/raw/master/_img/dr/dr25.png\" height=\"100\" width=\"600\">\n"
   ]
  },
  {
   "cell_type": "markdown",
   "metadata": {
    "collapsed": true,
    "deletable": true,
    "editable": true
   },
   "source": [
    "<h4>This represents a change point. Explain it</h4>\n",
    "\n",
    "<img src=\"https://github.com/BadrulAlom/Data-Science-Notes/raw/master/_img/dr/dr30.png\" height=\"100\" width=\"500\">\n",
    "\n",
    "* Probability of seeing observation Y, given that there was a change in $\\lambda$, is the probability of seeing Y , given the one version of the parameters (so AND rule) * probability given the other version of the parameter"
   ]
  },
  {
   "cell_type": "markdown",
   "metadata": {
    "collapsed": true,
    "deletable": true,
    "editable": true
   },
   "source": [
    "<a id='PPSummary'></a>\n",
    "<h3 style=\"background-color:#616161;color:white\">Past Papers Solution Summary</h3>"
   ]
  },
  {
   "cell_type": "markdown",
   "metadata": {
    "deletable": true,
    "editable": true
   },
   "source": [
    "<a id='PPSummary'></a>\n",
    "<h4 style=\"background-color:#616161;color:white\">2015 Exam</h4>\n",
    "\n",
    "<b>Section A</b>\n",
    "\n",
    "A1\n",
    "\n",
    "a) Write down Bayes Theorem\n",
    "b) Understand how Bayesians view things in terms of prior\n",
    "c) Straightforward use of Bayes Theorem\n",
    "d) Straightforward use of Bayes Theorem\n",
    "\n",
    "A2\n",
    "a) Finding the Posterior, $\\alpha$ and $\\beta$\n",
    "\n",
    "b) Calculate parameters of Beta distribution\n",
    "\n",
    "c) Apply Posterior\n",
    "\n",
    "d) Calculate Point estimate under squared loss (point estimate = mean, use formula given)\n",
    "\n",
    "e) <a style=\"color:red\"> Prove the mode of a Beta distribution ?</a>\n",
    "\n",
    "f) Conceptual understanding of a credible interval\n",
    "\n",
    "A3\n",
    "\n",
    "a) Compute prior risk\n",
    "\n",
    "b) Compute p(Y)\n",
    "\n",
    "c) Computute risk given y\n",
    "\n",
    "<b>Section B</b>\n",
    "\n",
    "B1\n",
    "\n",
    "a) <a style=\"color:red\">Understanding area under the curve I think - worth revising</a>\n",
    "\n",
    "b) <a style=\"color:red\">Understanding area under the curve I think - worth revising</a>\n",
    "\n",
    "c) \n",
    "\n",
    "d)\n",
    "\n",
    "e)\n",
    "\n",
    "<b>Section B2</b> <a style=\"color:blue\">All about risk, tricky in places</a>\n",
    "\n",
    "a) Calculate p(Y)\n",
    "\n",
    "b) Straightforward use of Bayes Theorem\n",
    "\n",
    "c) Slightly tricky question about risk\n",
    "\n",
    "d) Calculate risk\n",
    "\n",
    "e) Calculate risk - fill in the formulas and simplify\n",
    "\n",
    "f) Risk thresholds\n",
    "\n",
    "g) Risk thresholds\n"
   ]
  },
  {
   "cell_type": "markdown",
   "metadata": {
    "deletable": true,
    "editable": true
   },
   "source": [
    "<a id='PPSummary'></a>\n",
    "<h4 style=\"background-color:#616161;color:white\">2016 ICA</h4>\n",
    "\n",
    "<b>Question 1</b>\n",
    "\n",
    "\n",
    "a) Write down Bayes Theorem\n",
    "\n",
    "b) p(Y)\n",
    "\n",
    "c) Straightforward use of Bayes Theorem\n",
    "\n",
    "<b>Question 2</b>\n",
    "\n",
    "a) Compute risk\n",
    "\n",
    "b) Compute risk\n",
    "\n",
    "<b>Question 3</b>\n",
    "\n",
    "a) Derive conjugate\n",
    "\n",
    "b) Formulate posteior\n",
    "\n",
    "c) Trapezoid rule\n",
    "\n",
    "d) Derive predictive\n",
    "\n",
    "<b>Question 4</b>\n",
    "\n",
    "a) Derive conjugate\n",
    "\n",
    "b) Formulate posterior\n",
    "\n",
    "c) Derive predictive"
   ]
  },
  {
   "cell_type": "markdown",
   "metadata": {
    "deletable": true,
    "editable": true
   },
   "source": [
    "<a id='PPSummary'></a>\n",
    "<h4 style=\"background-color:#616161;color:white\">2016 Exam</h4>\n",
    "\n",
    "<b>Section A</b>\n",
    "\n",
    "A1\n",
    "\n",
    "a) Derive posterior\n",
    "\n",
    "b) Populate posterior\n",
    "\n",
    "c) Derive predictive\n",
    "\n",
    "d) Formulate predictive integral\n",
    "\n",
    "e) Trapezoid\n",
    "\n",
    "A2\n",
    "\n",
    "a) Explain VaR\n",
    "\n",
    "b) Explain GARCH\n",
    "\n",
    "c) ARCH & Integrals\n",
    "\n",
    "d) Posterior and Integrals\n",
    "\n",
    "\n",
    "A3\n",
    "\n",
    "a) Risk ratio\n",
    "\n",
    "b) Risk optimal value\n"
   ]
  },
  {
   "cell_type": "code",
   "execution_count": null,
   "metadata": {
    "collapsed": true,
    "deletable": true,
    "editable": true
   },
   "outputs": [],
   "source": [
    "\n",
    "\n"
   ]
  },
  {
   "cell_type": "code",
   "execution_count": null,
   "metadata": {
    "collapsed": true
   },
   "outputs": [],
   "source": []
  }
 ],
 "metadata": {
  "anaconda-cloud": {},
  "kernelspec": {
   "display_name": "Python 3",
   "language": "python",
   "name": "python3"
  },
  "language_info": {
   "codemirror_mode": {
    "name": "ipython",
    "version": 3
   },
   "file_extension": ".py",
   "mimetype": "text/x-python",
   "name": "python",
   "nbconvert_exporter": "python",
   "pygments_lexer": "ipython3",
   "version": "3.5.2+"
  }
 },
 "nbformat": 4,
 "nbformat_minor": 0
}
