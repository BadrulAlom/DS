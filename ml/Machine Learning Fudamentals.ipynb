{
 "cells": [
  {
   "cell_type": "markdown",
   "metadata": {
    "deletable": true,
    "editable": true
   },
   "source": [
    "<h3>Machine Learning Fundamentals<h3>"
   ]
  },
  {
   "cell_type": "markdown",
   "metadata": {
    "deletable": true,
    "editable": true
   },
   "source": [
    "<h4>Q:What are the types of classification methods?</h4>\n",
    "* K-nearest neighbours - where the label is determined by the labels of the nearest K data points\n",
    "* Linear classifier where you attempt to use a linear equation to separate the solution space\n",
    "* Neural networks - using neural networks to forms much more nuanced separation planes\n"
   ]
  },
  {
   "cell_type": "markdown",
   "metadata": {
    "deletable": true,
    "editable": true
   },
   "source": [
    "#### Q: What is the difference between generative and discriminative models?\n",
    "\n",
    "* Discriminative models learn the (hard or soft) boundary between classes.\n",
    "* Generative models model the distribution of individual classes. I.e. they build a model of the external world.\n",
    "\n",
    "----------------------------------------------"
   ]
  },
  {
   "cell_type": "code",
   "execution_count": null,
   "metadata": {
    "collapsed": true,
    "deletable": true,
    "editable": true
   },
   "outputs": [],
   "source": []
  }
 ],
 "metadata": {
  "kernelspec": {
   "display_name": "Python 2",
   "language": "python",
   "name": "python2"
  },
  "language_info": {
   "codemirror_mode": {
    "name": "ipython",
    "version": 2
   },
   "file_extension": ".py",
   "mimetype": "text/x-python",
   "name": "python",
   "nbconvert_exporter": "python",
   "pygments_lexer": "ipython2",
   "version": "2.7.12+"
  }
 },
 "nbformat": 4,
 "nbformat_minor": 0
}
