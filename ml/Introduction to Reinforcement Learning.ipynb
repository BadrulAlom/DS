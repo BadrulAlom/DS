{
 "cells": [
  {
   "cell_type": "markdown",
   "metadata": {},
   "source": [
    "#### Potential uses of Reinforcement learning\n",
    "\n",
    "* Manage an investment portfolio\n",
    "* Control a power station\n",
    "* Monitoring services"
   ]
  },
  {
   "cell_type": "markdown",
   "metadata": {},
   "source": [
    "### Tips\n",
    "\n",
    "* RL can cope with rewards that are several timesteps away / not immediate\n",
    "* You can encode it to do something in the shortest time steps by adding a penalty to the reward for the number of steps taken\n",
    "* A key area in RL is the information state (aka. Markov state). This is the encoding of information from the last time step such that it contains all the information you need to make a decision on the next time step. I.e. You don't need to trawl through history.\n",
    "* Examples of a partially observable environment:\n",
    "    - trading agent that can only see current prices but not trend or source of prices\n",
    "* Methods for encofing the state\n",
    "    - Bayesian Belief Networks (develop and update a probability graph of what the environment looks like)\n",
    "    - RNN (a linear transformation of state = f(state, outcome)\n",
    "* Exploration (learn new info about env) vs. Exploitation trade-off (maximizes your chance of reward)\n",
    "    - Example: Google Ads - show ad you know has had high success, or try a new ad"
   ]
  },
  {
   "cell_type": "markdown",
   "metadata": {},
   "source": [
    "### Problems with RL\n",
    "\n",
    "* "
   ]
  },
  {
   "cell_type": "code",
   "execution_count": null,
   "metadata": {
    "collapsed": true
   },
   "outputs": [],
   "source": []
  }
 ],
 "metadata": {
  "anaconda-cloud": {},
  "kernelspec": {
   "display_name": "Python [Root]",
   "language": "python",
   "name": "Python [Root]"
  },
  "language_info": {
   "codemirror_mode": {
    "name": "ipython",
    "version": 3
   },
   "file_extension": ".py",
   "mimetype": "text/x-python",
   "name": "python",
   "nbconvert_exporter": "python",
   "pygments_lexer": "ipython3",
   "version": "3.5.2"
  }
 },
 "nbformat": 4,
 "nbformat_minor": 0
}
